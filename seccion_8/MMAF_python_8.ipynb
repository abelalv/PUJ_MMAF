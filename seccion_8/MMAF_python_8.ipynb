{
 "cells": [
  {
   "cell_type": "markdown",
   "id": "c82f1221",
   "metadata": {},
   "source": [
    "### Visualización de sucesiones en Python\n",
    "\n",
    "En clase se explicó que una sucesión es una regla de correspondencia biunívoca que a cada número natural le asigna uno y solo un número real. En términos más sencillos, una sucesión es una lista infinita de números reales. Desde este enfoque, es posible visualizar una sucesión en Python como una lista de números construidos a partir de una cierta regla de tranformación. A continuación se presenta un ejemplo de cómo visualizar una sucesión en Python."
   ]
  },
  {
   "cell_type": "code",
   "execution_count": null,
   "id": "c46479e6",
   "metadata": {
    "vscode": {
     "languageId": "plaintext"
    }
   },
   "outputs": [],
   "source": [
    "# Generar la sucesión 1/n para los primeros 10 números con 4 cifras significativas\n",
    "sucesion = [round(1/n, 4) for n in range(1, 11)]\n",
    "\n",
    "# Mostrar la sucesión\n",
    "print(sucesion)"
   ]
  },
  {
   "cell_type": "markdown",
   "id": "bf167f83",
   "metadata": {},
   "source": [
    "En la definición de la variable `sucesion` se utiliza una comprensión de lista, que es una forma concisa de generar listas en Python. La expresión 1/n calcula el inverso de n, donde n es cada número en el rango especificado por la función range(1, 11). La función range(1, 11) genera una secuencia de números enteros que comienza en 1 y termina en 10. Es importante notar que el límite superior en la función range es exclusivo, por lo que el número 11 no se incluye en la secuencia generada.\n",
    "\n",
    "Te invitamos a modificar el rango y examines el comportamiento de los valores de $\\frac{1}{n}$ a medida que $n$ se hace más grande. Que crees que ocurre a medida que $n$ se hace más grande?\n",
    "\n",
    "La lista anterior se puede construir de forma explícita utilizando un bucle for. A continuación se presenta el código que genera la misma lista de la celda anterior utilizando un bucle for."
   ]
  },
  {
   "cell_type": "code",
   "execution_count": null,
   "id": "c0cd1ed2",
   "metadata": {
    "vscode": {
     "languageId": "plaintext"
    }
   },
   "outputs": [],
   "source": [
    "# Inicializar la lista vacía\n",
    "sucesion = []\n",
    "\n",
    "# Usar un ciclo for para iterar sobre los números del 1 al 10\n",
    "for n in range(1, 11):\n",
    "    # Calcular el inverso de n, redondearlo a 4 cifras significativas y agregarlo a la lista\n",
    "    sucesion.append(round(1/n, 4))\n",
    "\n",
    "# Mostrar la lista sucesion\n",
    "print(sucesion)"
   ]
  },
  {
   "cell_type": "markdown",
   "id": "b19acac0",
   "metadata": {},
   "source": [
    "El código anterior hace exactamente lo mismo que el código de la celda anterior, pero utiliza un bucle for en lugar de una comprensión de lista. La variable `sucesion` se inicializa como una lista vacía y luego se llena con los valores de $\\frac{1}{n}$ para cada n en el rango especificado. El resultado es una lista de los primeros 10 valores de la sucesión $\\frac{1}{n}$. El valor obtenido  se agrega a la lista `sucesion` mediante el método append. Este método añade un elemento al final de la lista. Como resultado, al finalizar la ejecución del bucle, la lista sucesion contendrá los elementos de la sucesión $\\frac{1}{n}$ para n en el rango especificado.\n",
    "\n",
    "Si bien hemos visto como se pueden generar los elementos de una sucesión en Python,como una lista, se insiste en que una sucesión es una función en el sentido ya visto en este curso. Solo que para el caso de las sucesiones, la variable independiente (es decir, el dominio de la función) es el conjunto de los números naturales. En este sentido, una sucesión se puede visualizar como una función que asigna a cada número natural un número real. En el caso de la sucesión $\\frac{1}{n}$, la función asigna a cada número natural n el valor $\\frac{1}{n}$ y por lo tanto es posible ver una representación gráfica de esta función. A continuación se presenta el código que genera la gráfica de la sucesión $\\frac{1}{n}$ para n en el rango de 1 a 10."
   ]
  },
  {
   "cell_type": "code",
   "execution_count": null,
   "id": "0d6c17a8",
   "metadata": {
    "vscode": {
     "languageId": "plaintext"
    }
   },
   "outputs": [],
   "source": [
    "import matplotlib.pyplot as plt\n",
    "import numpy as np\n",
    "\n",
    "# Definir los valores de n\n",
    "valores_n = np.arange(1, 11)  # n desde 1 hasta 100\n",
    "\n",
    "# Calcular los valores de la sucesión 1/n\n",
    "valores_sucesion = 1 / valores_n\n",
    "\n",
    "# Crear la gráfica\n",
    "plt.figure(figsize=(10, 6))\n",
    "plt.scatter(valores_n, valores_sucesion, marker='o', linestyle='-', color='b', label=r'$\\frac{1}{n}$')\n",
    "\n",
    "# Etiquetas y título\n",
    "plt.xlabel('n')\n",
    "plt.ylabel(r'$\\frac{1}{n}$', rotation=0, labelpad=20)  # Rotar la etiqueta a vertical y ajustar el padding\n",
    "plt.title('Valores de la Sucesión $\\\\frac{1}{n}$ a medida que $n$ se incrementa')\n",
    "plt.grid(True)\n",
    "plt.legend()\n",
    "\n",
    "# Mostrar la gráfica\n",
    "plt.show()\n"
   ]
  },
  {
   "cell_type": "markdown",
   "id": "8d85444c",
   "metadata": {},
   "source": [
    "Con base en la gráfica obtenida, ¿qué puedes decir sobre el comportamiento de la sucesión $\\frac{1}{n}$ a medida que n se hace más grande? \n",
    "\n",
    "Se te invita a ajustar el codigo anterior para modificar la sucesion $\\frac{1}{n}$ por otra sucesion de tu eleccion y analizar su comportamiento. En el caso del ejemplo anterior, la sucesion $\\frac{1}{n}$ converge a 0 a medida que n se hace mas grande. ¿Qué sucede con la sucesion que elijas? ¿Converge a un valor en particular o diverge?\n",
    "\n",
    "Recordar que una sucesion converge a un valor L si para todo $\\epsilon > 0$ existe un entero N tal que para todo n>N se cumple que $|a_n - L| < \\epsilon$. En otras palabras, una sucesion converge a un valor L si a medida que n se hace mas grande, los valores de la sucesion se acercan a L. En el caso de la sucesion $\\frac{1}{n}$, la sucesion converge a 0 porque a medida que n se hace mas grande, los valores de la sucesion se acercan a 0.\n",
    "Esto se representa por $$\\lim_{n \\to \\infty} \\frac{1}{n} = 0$$\n",
    "\n",
    "### Entendiendo la convergencia de una sucesión\n",
    "\n",
    "Con base en la observacion de la sucesion $\\frac{1}{n}$, se puede decir que una sucesion converge a un valor L si a medida que n se hace mas grande, los valores de la sucesion se acercan a L. En otras palabras, una sucesion converge a un valor L si para todo $\\epsilon > 0$ existe un entero N tal que para todo n>N se cumple que $|a_n - L| < \\epsilon$. En el caso de la sucesion $\\frac{1}{n}$, la sucesion converge a 0 porque a medida que n se hace mas grande, los valores de la sucesion se acercan a 0. Trate de entender este concepto desde una mirada gráfica"
   ]
  },
  {
   "cell_type": "code",
   "execution_count": null,
   "id": "9d060501",
   "metadata": {
    "vscode": {
     "languageId": "plaintext"
    }
   },
   "outputs": [],
   "source": [
    "import matplotlib.pyplot as plt\n",
    "import numpy as np\n",
    "\n",
    "# Definir los valores de n\n",
    "n = np.arange(1, 101)  # n desde 1 hasta 100\n",
    "\n",
    "# Calcular los valores de la sucesión 1/n\n",
    "a_n = 1 / n\n",
    "\n",
    "# Definir el límite L y epsilon\n",
    "L = 0\n",
    "epsilon = 0.1\n",
    "\n",
    "# Crear la gráfica\n",
    "plt.figure(figsize=(10, 6))\n",
    "\n",
    "# Graficar la sucesión\n",
    "plt.scatter(n, a_n, marker='o', linestyle='-', color='b', label=r'$a_n = \\frac{1}{n}$')\n",
    "\n",
    "# Graficar las líneas para epsilon y -epsilon\n",
    "plt.axhline(y=epsilon, color='r', linestyle='--', label=r'$\\epsilon$')\n",
    "plt.axhline(y=-epsilon, color='r', linestyle='--', label=r'$-\\epsilon$')\n",
    "plt.axhline(y=L, color='g', linestyle='--', label=r'$L$')\n",
    "\n",
    "# Encontrar el valor de N tal que |a_n - L| < epsilon\n",
    "N = np.where(a_n < epsilon)[0][0] + 1\n",
    "\n",
    "# Etiquetas y título\n",
    "plt.xlabel('n')\n",
    "plt.ylabel(r'$a_n$', rotation=0, labelpad=20)\n",
    "plt.title('Valores de la Sucesión $a_n = \\\\frac{1}{n}$ a medida que $n$ se incrementa')\n",
    "plt.grid(True)\n",
    "plt.legend()\n",
    "\n",
    "# Anotaciones\n",
    "plt.annotate(r'$\\epsilon$', xy=(len(n) - 10, epsilon + 0.02), color='red')\n",
    "plt.annotate(r'$-\\epsilon$', xy=(len(n) - 10, -epsilon - 0.05), color='red')\n",
    "plt.annotate(r'$L$', xy=(len(n) - 10, L + 0.02), color='green')\n",
    "plt.annotate(r'$N$', xy=(N, a_n[N - 1]), xytext=(N + 5, a_n[N - 1] + 0.1),\n",
    "             arrowprops=dict(facecolor='black', shrink=0.05))\n",
    "\n",
    "# Mostrar la gráfica\n",
    "plt.show()"
   ]
  },
  {
   "cell_type": "markdown",
   "id": "0893c181",
   "metadata": {},
   "source": [
    "A medida que los valores de $\\epsilon$ se hacen mas pequeños, es posible (si la sucesión converge) encontrar el valor de $N$ a partir del cual los valores de la sucesion se encuentran dentro del intervalo $(L-\\epsilon, L+\\epsilon)$. En el caso de la sucesion $\\frac{1}{n}$, si $\\epsilon = 0.1$, entonces $L-\\epsilon = -0.1$ y $L+\\epsilon = 0.1$. Por lo tanto, si $n>10$, entonces $|\\frac{1}{n} - 0| < 0.1$. De esta forma, se puede afirmar que la sucesion $\\frac{1}{n}$ converge a 0. En la siguiente celda puedes explorar el comportamiento de la sucesion $\\frac{1}{n}$ para diferentes valores de $\\epsilon$."
   ]
  },
  {
   "cell_type": "code",
   "execution_count": null,
   "id": "4f3578f9",
   "metadata": {
    "vscode": {
     "languageId": "plaintext"
    }
   },
   "outputs": [],
   "source": [
    "# Importar librerías necesarias\n",
    "import libreria as li\n",
    "\n",
    "# Definir la sucesión (el usuario puede ajustar esta parte)\n",
    "sucesion = '1/n'\n",
    "\n",
    "# Llamar a la función de la librería para crear la interfaz y graficar la sucesión\n",
    "li.plot_sucesion(sucesion)"
   ]
  },
  {
   "cell_type": "markdown",
   "id": "d73e7f56",
   "metadata": {},
   "source": [
    "Observa que para el caso de una sucesión convergente siempre es posible garantizar la existencia del valor de $N$ a partir del cual los valores de la sucesion se encuentran dentro del intervalo $(L-\\epsilon, L+\\epsilon)$ para todo $\\epsilon > 0$. En el gráfico anterior, es posible intuir un valor de $N$ conveniente que asegure que los valores de la sucesión estén dentro de la franja.\n",
    "\n",
    "### Sucesiones recurrentes\n",
    "\n",
    "Una sucesion recurrente es aquella en la que los valores del $a_n$ depende de los valores anteriores de la sucesion. Un ejemplo de sucesion recurrente es la sucesion de Fibonacci, que se define de la siguiente forma:        $a_0 = 0$, $a_1 = 1$ y $a_n = a_{n-1} + a_{n-2}$ para $n \\geq 2$. \n",
    "\n",
    "Es posible visualizar la sucesion de Fibonacci en Python utilizando un bucle for. A continuación se presenta el código que genera los primeros 10 valores de la sucesion de Fibonacci :\n"
   ]
  },
  {
   "cell_type": "code",
   "execution_count": null,
   "id": "c68828ef",
   "metadata": {
    "vscode": {
     "languageId": "plaintext"
    }
   },
   "outputs": [],
   "source": [
    "# Sucesión de Fibonacci de modo no recursivo\n",
    "\n",
    "# Número de elementos en la sucesión\n",
    "n = 10\n",
    "\n",
    "# Primeros dos números de la sucesión de Fibonacci\n",
    "a, b = 0, 1\n",
    "\n",
    "print(\"Sucesión de Fibonacci para los primeros 10 números:\")\n",
    "for i in range(n):\n",
    "    print(a, end=\" \")\n",
    "    # Actualizar valores\n",
    "    a, b = b, a + b"
   ]
  },
  {
   "cell_type": "markdown",
   "id": "5d234bee",
   "metadata": {},
   "source": [
    "Sin embargo, es posible construir la lista de númreros de Fibonacci de forma más eficiente utilizando una función recursiva en python, es decir, usando una función que pueda llamarse a si misma, que corresponde con la misma naturaleza de una sucesión recurrente, en la que cada término depende de los términos anteriores.  A continuación se presenta el código que genera los primeros 10 valores de la sucesion de Fibonacci utilizando una función recursiva:"
   ]
  },
  {
   "cell_type": "code",
   "execution_count": null,
   "id": "6116277a",
   "metadata": {
    "vscode": {
     "languageId": "plaintext"
    }
   },
   "outputs": [],
   "source": [
    "# Sucesión de Fibonacci de forma recursiva\n",
    "\n",
    "def fibonacci(n):\n",
    "    if n <= 0:\n",
    "        return \"El número debe ser mayor que 0\"\n",
    "    elif n == 1:\n",
    "        return 0\n",
    "    elif n == 2:\n",
    "        return 1\n",
    "    else:\n",
    "        return fibonacci(n-1) + fibonacci(n-2)\n",
    "\n",
    "# Generar los primeros 10 valores de la sucesión de Fibonacci\n",
    "print(\"Primeros 10 valores de la sucesión de Fibonacci:\")\n",
    "for i in range(1, 11):\n",
    "    print(fibonacci(i), end=\" \")"
   ]
  },
  {
   "cell_type": "markdown",
   "id": "626c8748",
   "metadata": {},
   "source": [
    "La función fibonacci definida en el código es una implementación clásica de la sucesión de Fibonacci utilizando la recursividad. La sucesión de Fibonacci es una secuencia de números donde cada número es la suma de los dos anteriores, comenzando con 0 y 1. \n",
    "\n",
    "El código comienza verificando si el valor de n es menor o igual a 0, en cuyo caso retorna un mensaje indicando que el número debe ser mayor que 0. Esto se hace para asegurar que la entrada sea válida, ya que la sucesión de Fibonacci se define solo para números enteros positivos.\n",
    "\n",
    "Si $n$ es igual a 1, la función retorna 0, y si n es igual a 2, retorna 1. Estos casos base son necesarios para la recursividad, ya que representan los primeros dos números de la sucesión de Fibonacci y permiten que la función termine su ejecución.\n",
    "\n",
    "Para valores de n mayores que 2, la función se llama a sí misma dos veces, con los argumentos $n-1$ y $n-2$, y suma los resultados de estas llamadas. Esto refleja la definición de la sucesión de Fibonacci, donde cada término es la suma de los dos términos anteriores.\n",
    "\n",
    "Después de definir la función fibonacci, el código utiliza un bucle for para generar e imprimir los primeros 10 valores de la sucesión de Fibonacci. Utiliza la función `range(1, 11)` para iterar desde 1 hasta 10, llamando a la función fibonacci con cada valor de i como argumento. Los resultados se imprimen en la misma línea, separados por espacios, gracias al argumento end=\" \" en la función print.\n",
    "\n",
    "Como con las sucesiones anteriores, se te invita a modificar el código anterior para explorar el comportamiento de la sucesion de Fibonacci para diferentes valores de n. ¿Qué puedes decir sobre la convergencia de la sucesion de Fibonacci? ¿Converge a un valor en particular o diverge?\n",
    "\n",
    "Grafiquemos ahora la sucesion de Fibonacci"
   ]
  },
  {
   "cell_type": "code",
   "execution_count": null,
   "id": "20188b4a",
   "metadata": {
    "vscode": {
     "languageId": "plaintext"
    }
   },
   "outputs": [],
   "source": [
    "# Importar la librería\n",
    "import libreria as li\n",
    "\n",
    "# Definir el número de términos a graficar\n",
    "n = 20  # Puedes ajustar este valor según lo necesites\n",
    "\n",
    "# Llamar a la función de la librería para graficar la sucesión de Fibonacci\n",
    "li.graficar_fibonacci(n)"
   ]
  },
  {
   "cell_type": "markdown",
   "id": "02c5f135",
   "metadata": {},
   "source": [
    "Con respecto al comportamiento de la gráfica anterior, podrías indicar si esta sucesión es convergente? ¿Por qué?\n",
    "\n",
    "Es posible mostrar que la sucesión de Fibonacci (no se hará en este curso) se puede representar sin necesidad de calcular los valores de $a_n$ en función de los valores previos de la sucesión. La sucesión de Fibonaccio en esta representación está dada por:\n",
    "$$F_n = \\frac{1}{\\sqrt{5}} \\left( \\left( \\frac{1 + \\sqrt{5}}{2} \\right)^n - \\left( \\frac{1 - \\sqrt{5}}{2} \\right)^n \\right)\n",
    "$$\n",
    "\n",
    "Si se grafica esta sucesión notarás que se obtienen los mismos valores que en la gráfica anterior."
   ]
  },
  {
   "cell_type": "code",
   "execution_count": null,
   "id": "8bcb202c",
   "metadata": {
    "vscode": {
     "languageId": "plaintext"
    }
   },
   "outputs": [],
   "source": [
    "import matplotlib.pyplot as plt\n",
    "import numpy as np\n",
    "\n",
    "# Definir los términos de la fórmula de Binet\n",
    "n = 20  # Número de términos a graficar\n",
    "phi = (1 + np.sqrt(5)) / 2\n",
    "psi = (1 - np.sqrt(5)) / 2\n",
    "\n",
    "# Calcular la sucesión de Fibonacci utilizando la fórmula explícita\n",
    "fib_sequence = [(phi**i - psi**i) / np.sqrt(5) for i in range(n)]\n",
    "\n",
    "# Generar los valores de los naturales correspondientes\n",
    "naturales = np.arange(n)\n",
    "\n",
    "# Graficar la sucesión de Fibonacci utilizando la fórmula explícita\n",
    "plt.figure(figsize=(10, 6))\n",
    "plt.scatter(naturales, fib_sequence, marker='o', linestyle='-', color='b', label='Fibonacci (fórmula explícita)')\n",
    "plt.xlabel('n')\n",
    "plt.ylabel(r'$F_n$', rotation=0, labelpad=20)\n",
    "plt.title('Sucesión de Fibonacci utilizando la fórmula explícita')\n",
    "plt.grid(True)\n",
    "plt.legend()\n",
    "plt.show()"
   ]
  }
 ],
 "metadata": {
  "language_info": {
   "name": "python"
  }
 },
 "nbformat": 4,
 "nbformat_minor": 5
}

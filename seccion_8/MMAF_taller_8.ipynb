{
 "cells": [
  {
   "cell_type": "markdown",
   "id": "4bf33a46",
   "metadata": {},
   "source": [
    "### Actividad \n",
    "1. \n",
    "Dadas dos funciones $T(n) = 5n^2 + 10n + 3$ y $G(n) = 3n^2 + 15n + 2$ , que representan la complejidad de dos algoritmos diferentes en función del número de comunidades afectadas $n$, realiza lo siguiente:\n",
    "\n",
    "   a. Calcula el límite de la razón $\\frac{T(n)}{G(n)}$ cuando $n$ tiende a infinito.\n",
    "   \n",
    "   b. Grafica la función $\\frac{T(n)}{G(n)}$ y analiza su comportamiento para grandes valores de $n$.\n",
    "\n",
    "2. La función $V(n) = \\frac{1000n}{n^2 + 100}$ describe la velocidad de entrega de recursos en función del número de comunidades afectadas $n$. Realiza lo siguiente:\n",
    "\n",
    "    a. Calcula el límite de $V(n)$ cuando $n$ tiende a infinito.\n",
    "\n",
    "    b. Grafica la función $V(n)$ y analiza su comportamiento para grandes valores de $n$.\n",
    "\n",
    "3. La función  $R(n) = 50\\log(n) - \\frac{n}{100}$ modela la cantidad de recursos entregados por comunidad en función de los días transcurridos desde el inicio de la distribución $n$. Realiza lo siguiente:\n",
    "\n",
    "    a. Calcula el límite de $R(n)$ cuando  $n$ tiende a infinito.\n",
    "    \n",
    "    b. Grafica la función $R(n)$ y analiza cómo evoluciona la distribución de recursos a largo plazo.    \n",
    "4.  Dado un algoritmo que distribuye recursos en comunidades afectadas por desastres naturales, la eficiencia de este algoritmo se describe mediante la función $D(n)=\\frac{n^2}{\\log (n)}$, donde $n$ es el número de locaciones o nodos de distribución. Por otro lado, la necesidad de recursos en cada nodo se describe por la función $R(n)=n\\log (n)$. Analiza el comportamiento de las funciones $D(n)$ y $R(n)$ conforme $n$ se hace muy grande. Determina el límite \n",
    "\n",
    "    $$\\lim_{n \\to \\infty}\\frac{D(n)}{R(n)}$$\n",
    "\n",
    "    y discute que implicaciones tiene esto para la mejora del algoritmo en escenarios con una gran cantidad de nodos de distribución. El algoritmmo sigue siendo eficiente a medida que aumenta el número de nodos?. Que estrategias se podrían adoptar para mejorar la eficiencia en esos casos?\n",
    "\n",
    "5. La función $E(n) = \\frac{3n^3 + 2n}{5n^3 - n^2 + 4}$ representa la eficiencia relativa de un sistema logístico a medida que el número de comunidades $n$ aumenta.\n",
    "\n",
    "    a. Calcula el límite de $E(n)$ cuando $n \\to \\infty$.\n",
    "\n",
    "    b. Grafica la función $E(n)$ y describe qué sucede con la eficiencia cuando se atienden muchas comunidades.\n",
    "\n",
    "6. La función $P(n) = \\frac{200 + \\sqrt{n}}{n}$ modela el promedio de personas atendidas por unidad de tiempo.\n",
    "\n",
    "    a. Calcula el límite de $P(n)$ cuando $n \\to \\infty$.\n",
    "\n",
    "    b. Grafica la función $P(n)$ y analiza qué sucede con el promedio de atención a medida que se incrementa el número de comunidades.\n",
    "\n",
    "7. La función $C(n) = \\frac{n^2 + 10}{n^3 + 5n}$ representa la cobertura relativa de un recurso escaso.\n",
    "\n",
    "    a. Calcula el límite de $C(n)$ cuando $n \\to \\infty$.\n",
    "\n",
    "    b. Grafica la función $C(n)$ y analiza su comportamiento a largo plazo.\n",
    "\n",
    "8. La función $H(n) = \\frac{n^2 + 1}{2n^2 + 5n + 7}$ describe la proporción de comunidades que reciben ayuda completa.\n",
    "\n",
    "    a. Calcula el límite de $H(n)$ cuando $n \\to \\infty$.\n",
    "\n",
    "    b. Grafica la función $H(n)$ y describe cómo evoluciona la proporción de ayuda total en función del número de comunidades."
   ]
  }
 ],
 "metadata": {
  "language_info": {
   "name": "python"
  }
 },
 "nbformat": 4,
 "nbformat_minor": 5
}

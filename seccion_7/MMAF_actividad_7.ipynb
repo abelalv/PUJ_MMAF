{
 "cells": [
  {
   "cell_type": "markdown",
   "metadata": {
    "id": "EQhe1JMdjw0G"
   },
   "source": [
    "# 7. Garantizando acceso a internet en zonas rurales"
   ]
  },
  {
   "cell_type": "markdown",
   "metadata": {
    "id": "2arKfYOXj014"
   },
   "source": [
    "## 7.1 Contexto\n",
    "\n",
    "Colombia cuenta con diversas poblaciones rurales, particularmente en zonas montañosas o selváticas, donde el acceso a internet es escaso o inexistente. Suponga que el gobierno colombiano planea lanzar un satélite de vigilancia y telecomunicaciones para mejorar la conectividad en una comunidad rural aislada, como la región del Chocó o el Amazonas. Para maximizar la eficiencia del satélite, se debe determinar su órbita óptima para cubrir la mayor área posible sobre la superficie terrestre."
   ]
  },
  {
   "cell_type": "markdown",
   "metadata": {
    "id": "erjYmEZvj6Xv"
   },
   "source": [
    "![Imagen de la actividad 7](multimedia/imagen_actividad7.png)"
   ]
  },
  {
   "cell_type": "markdown",
   "metadata": {
    "id": "6kJsVIx6j8GD"
   },
   "source": [
    "## 7.2 Tema\n",
    "\n",
    "Aplicaciones de trigonometría\n",
    "\n",
    "## 7.3  Objetivo\n",
    "\n",
    "Determinar la órbita óptima de un satélite de comunicaciones que cubra la mayor parte de una región determinada de la Tierra."
   ]
  },
  {
   "cell_type": "markdown",
   "metadata": {
    "id": "pgerfSt6kBqz"
   },
   "source": [
    "## 7.4 Actividad"
   ]
  },
  {
   "cell_type": "markdown",
   "metadata": {
    "id": "URr5M9WTkDay"
   },
   "source": [
    "### 7.4.1  Determinación de altura orbital de un satélite\n",
    "\n",
    "Un satélite de comunicaciones da vueltas alrededor de la Tierra a una altura de $h$ $km$ sobre la superficie de colombiana.  Suponga que $d$ es la distancia cubierta en $kms$, sobre la superficie de la Tierra que se puede observar desde el satélite.\n",
    "¿Cuál es la altura orbital óptima para un satélite colombiano, de modo que maximice la distancia observable sobre la superficie terrestre y así garantizar una cobertura eficiente para una comunidad rural aislada?\n",
    "\n",
    "Para resolver esta pregunta general, teniendo en cuenta que el Radio medio terrestre $R = 6378\\;\\text{km}$.   considere las siguientes preguntas intermedias:\n",
    "\n",
    "(a) Encuentre la ecuación que relaciona el ángulo central $\\theta$ y la altura $h$.\n",
    "\n",
    "(b) Encuentre la ecuación que relaciona la distancia observable $d$ y el ángulo central $\\theta$.\n",
    "\n",
    "(c) Encuentre la ecuación que relaciona directamente la distancia observable $d$ y la altura $h$.\n",
    "\n",
    "(d) Si la distancia observable requerida para cubrir adecuadamente la región rural aislada $d$  es de 2500 km, ¿cuál debe ser la altura orbital del satélite?\n",
    "\n",
    "(e) Si el satélite gira a una altura de 300 km, ¿cuál será la distancia observable sobre la superficie?"
   ]
  },
  {
   "cell_type": "markdown",
   "metadata": {
    "id": "1RYfojPvkODU"
   },
   "source": [
    "### 7.4.2 Jugando con el computador!\n",
    "\n",
    "#### **Pregunta global:**  \n",
    "> Teniendo en cuenta que $d$ es la distancia entre Quibdó y Mitú ¿Cuál es la *menor* altura orbital $h_{\\min}$ que debe tener un satélite colombiano para **observar simultáneamente** las ciudades de Quibdó, Mitú y además, cubrir un *margen adicional* $m$ (en km) alrededor de la línea que las une, garantizando así conectividad a las veredas cercanas?\n",
    "\n",
    "Responder esta pregunta exige determinar la pareja $(h_{\\min},m)$ que satisface la condición geométrica de cobertura mientras mantiene la órbita lo más baja (y, por tanto, económica) posible.\n"
   ]
  },
  {
   "cell_type": "markdown",
   "metadata": {},
   "source": [
    "1. **Comprender el problema.** En esta etapa se busca comprender bien el problema que se quiere resolver e identificar las variables, datos y reglas relevantes para solucionar el problema.\n",
    "\n",
    "2. **Planear la solución.** ¿Qué pasos debes seguir para resolver el problema?  \n",
    "        Describe tu estrategia para resolver el problema \n",
    "\n",
    "3. **Ejecutar el plan.** En esta etapa deberías ejecutar la estrategia identificada en el paso anterior usando herramientas matemáticas, posiblemente asistidas por software.\n",
    "Si necesitas puedes usar python como calculadora para realizar los cálculos necesarios.\n",
    "\n",
    "4. **Examinar la solución obtenida** Siempre que encuentres una solución de un problema es importante asegurarte que los resultados obtenido sean acordes  a las condiciones  iniciales del problema, factibles y en el caso contrario deberías regresar el primer paso. ¿Por qué crees que tu solución esta correcta?"
   ]
  },
  {
   "cell_type": "markdown",
   "metadata": {
    "id": "MG0sPF6ikT8Y"
   },
   "source": [
    "## Sub-preguntas necesarias para resolver la Pregunta – Problema\n",
    "\n",
    "| Nº | Sub-pregunta | Rol dentro de la metodología de Polya |\n",
    "|----|--------------|---------------------------------------|\n",
    "| **1** | **¿Cuál es la distancia superficial $D$ entre Quibdó y Mitú?** (Usar la **ley de los cosenos** con el ángulo central $\\theta_0 = 7.6^\\circ$. | Fase 1-2: *Comprender* y *planear* (se identifican datos y se elabora el plan analítico). |\n",
    "| **2** | **¿Qué expresión relaciona la distancia de cobertura $d(h)$ con la altura orbital $h$?** | Fase 2: *Planear* (modelar con geometría del círculo, $d(h)=\\sqrt{(R+h)^2-R^2}$. |\n",
    "| **3** | **¿Qué desigualdad debe cumplirse para garantizar la cobertura con margen $m$?**<br>$\\displaystyle d(h)\\;\\ge\\;\\dfrac{D}{2}+m$ | Fase 2-3: *Planear* y *ejecutar* (traducción de la situación a una condición matemática). |\n",
    "| **4** | **Dados $m$ y $D$, cuál es el **valor mínimo** de $h$ que satisface la desigualdad?** | Fase 3: *Ejecutar* (se encuentra $h_{\\min}$ numéricamente usando el valor obtenido de los *sliders*). |\n",
    "| **5** | **¿La solución obtenida es realmente óptima y cumple el objetivo social de conectividad?** | Fase 4: *Evaluar* (reflexión sobre viabilidad técnica y beneficio para las comunidades). |\n",
    "\n",
    "Recordar que :\n",
    "\n",
    "- Radio medio terrestre $R = 6378\\;\\text{km}$.  \n",
    "- Ángulo central Quibdó–Mitú $\\theta_0 = 7.6^\\circ$."
   ]
  },
  {
   "cell_type": "markdown",
   "metadata": {
    "id": "L0o6JUC4kYjp"
   },
   "source": [
    "La siguiente celda te permitirá interactuar con los sliders para responder lo solicitado:"
   ]
  },
  {
   "cell_type": "code",
   "execution_count": 1,
   "metadata": {
    "colab": {
     "base_uri": "https://localhost:8080/",
     "height": 568,
     "referenced_widgets": [
      "c8beb853627a45618069acea0b2ee1e8",
      "a64689759597458faf00993ea61e28ec",
      "a0fde9aee58044cb9a3135b5757c7dc0",
      "04dd66454cc14b9491834a2b946986f6",
      "35a6302a860e45f390e89532ba0b372c",
      "3518d2463f8f4e87a2289b0fe40e0297",
      "061df5a35cc64e829fd0bbb4ca198d82",
      "e1a29f413b38482184b8459a9d304dd6",
      "c6435f7feb5f4a37b03df639565af48f",
      "51d5b81cd73a4645a682d1ce0d2a9286",
      "bc60a43bb0e745cf9e9ae0caf0db787e",
      "58b8d7454d874ee99d1ce9927efaf0e6",
      "1aaabd1ea13a4ed49954bdbf1dd3e334",
      "a5e054bd4dde4b5c8cb4aa6d4debe1a6",
      "6a972d35b81a4c9e8f5d0fdd99842224"
     ]
    },
    "id": "8LZknO-dkZXs",
    "outputId": "70ccdcef-aab3-4e45-f893-3918b63af2a6"
   },
   "outputs": [],
   "source": [
    "import requests\n",
    "# URL del archivo\n",
    "url = \"https://raw.githubusercontent.com/abelalv/libreria_2025/refs/heads/main/MMAF.py\"\n",
    "# Descargar el archivo\n",
    "response = requests.get(url)\n",
    "with open('MMAF.py', 'w', encoding='utf-8') as file:\n",
    "    file.write(response.text)  "
   ]
  },
  {
   "cell_type": "code",
   "execution_count": null,
   "metadata": {},
   "outputs": [
    {
     "data": {
      "application/vnd.jupyter.widget-view+json": {
       "model_id": "4f8927c43c7f4daf97240dc560e51efd",
       "version_major": 2,
       "version_minor": 0
      },
      "text/plain": [
       "VBox(children=(HBox(children=(FloatText(value=846.01, description='D (km):'),)), FloatSlider(value=500.0, desc…"
      ]
     },
     "metadata": {},
     "output_type": "display_data"
    },
    {
     "data": {
      "application/vnd.jupyter.widget-view+json": {
       "model_id": "0f8fced7fc8f4298b1ed0fc3ed951ed2",
       "version_major": 2,
       "version_minor": 0
      },
      "text/plain": [
       "Output()"
      ]
     },
     "metadata": {},
     "output_type": "display_data"
    }
   ],
   "source": [
    "from MMAF import build_interface_satellite\n",
    "\n",
    "# Llamamos a la función build_interface_satelite para construir la interfaz del satélite\n",
    "build_interface_satellite()"
   ]
  }
 ],
 "metadata": {
  "colab": {
   "provenance": []
  },
  "kernelspec": {
   "display_name": "Python 3",
   "name": "python3"
  },
  "language_info": {
   "codemirror_mode": {
    "name": "ipython",
    "version": 3
   },
   "file_extension": ".py",
   "mimetype": "text/x-python",
   "name": "python",
   "nbconvert_exporter": "python",
   "pygments_lexer": "ipython3",
   "version": "3.13.2"
  }
 },
 "nbformat": 4,
 "nbformat_minor": 0
}

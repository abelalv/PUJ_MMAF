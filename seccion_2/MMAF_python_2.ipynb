{
 "cells": [
  {
   "cell_type": "markdown",
   "metadata": {},
   "source": [
    "# C.2 Herramientas computacionales para resolver la actividad 2. "
   ]
  },
  {
   "cell_type": "markdown",
   "metadata": {},
   "source": [
    "### C.2.1\n",
    "Explorar mas funciones como \n",
    "\n",
    "\n",
    "+ potenciación de racionales\n",
    "\n",
    "+ Trabajar jerarquías de operaciones\n",
    "\n",
    "+ Profundización en trabajar con variables\n",
    "\n",
    "\n",
    "\n",
    "a**2*(a+b) + b**2*(a-b) + 2*a*b*(a-b)\n",
    "\n",
    "+ Constantes $\\pi$ y $e$ \n",
    "\n",
    "+ opcional sympy ----> https://www.sympy.org/en/index.html"
   ]
  },
  {
   "cell_type": "markdown",
   "metadata": {},
   "source": []
  },
  {
   "cell_type": "markdown",
   "metadata": {},
   "source": [
    "### C.2.1 Potencias con números racionales\n",
    "\n",
    "Para calcular potencias con números racionales, se puede utilizar la función `pow` de Python. Por ejemplo, para calcular $2^{3/2}$, se puede hacer lo siguiente:\n"
   ]
  },
  {
   "cell_type": "code",
   "execution_count": 1,
   "metadata": {},
   "outputs": [
    {
     "data": {
      "text/plain": [
       "2.8284271247461903"
      ]
     },
     "execution_count": 1,
     "metadata": {},
     "output_type": "execute_result"
    }
   ],
   "source": [
    "pow(2,3/2)"
   ]
  },
  {
   "cell_type": "markdown",
   "metadata": {},
   "source": [
    "Adicionalmente. se puede usar el símbolo `**` para calcular potencias. Por ejemplo, para calcular $2^{3/2}$, se puede hacer lo siguiente:"
   ]
  },
  {
   "cell_type": "code",
   "execution_count": 2,
   "metadata": {},
   "outputs": [
    {
     "data": {
      "text/plain": [
       "2.8284271247461903"
      ]
     },
     "execution_count": 2,
     "metadata": {},
     "output_type": "execute_result"
    }
   ],
   "source": [
    "2**(3/2)"
   ]
  },
  {
   "cell_type": "markdown",
   "metadata": {},
   "source": [
    "### C.2.2 Jerarquías de operaciones\n",
    "\n",
    "La jerarquía de operaciones en Python es la misma que en matemáticas. Por ejemplo, en la expresión `2 + 3 * 4`, primero se realiza la multiplicación y luego la suma. Para forzar a que primero se realice la suma, se pueden utilizar paréntesis. Por ejemplo, `(2 + 3) * 4`."
   ]
  },
  {
   "cell_type": "code",
   "execution_count": null,
   "metadata": {},
   "outputs": [
    {
     "name": "stdout",
     "output_type": "stream",
     "text": [
      "Note que 2+3*4= 14\n",
      "es diferenet que (2+3)*4 20\n"
     ]
    }
   ],
   "source": [
    "# Note que \n",
    "print(\"Note que 2+3*4=\",2+3*4)\n",
    "# es diferente que \n",
    "print(\"es diferente que (2+3)*4\",(2+3)*4)"
   ]
  },
  {
   "cell_type": "markdown",
   "metadata": {},
   "source": [
    "**Otro ejemplo** Supongamos que queremos calcular la siguiente expresión:\n",
    "$$\\frac{2+3}{5},$$ \n",
    "la escritura de esta expresión en Python sería \n"
   ]
  },
  {
   "cell_type": "code",
   "execution_count": null,
   "metadata": {},
   "outputs": [],
   "source": [
    "(2+3)/5"
   ]
  },
  {
   "cell_type": "markdown",
   "metadata": {},
   "source": []
  }
 ],
 "metadata": {
  "kernelspec": {
   "display_name": "class",
   "language": "python",
   "name": "python3"
  },
  "language_info": {
   "codemirror_mode": {
    "name": "ipython",
    "version": 3
   },
   "file_extension": ".py",
   "mimetype": "text/x-python",
   "name": "python",
   "nbconvert_exporter": "python",
   "pygments_lexer": "ipython3",
   "version": "3.12.3"
  }
 },
 "nbformat": 4,
 "nbformat_minor": 2
}

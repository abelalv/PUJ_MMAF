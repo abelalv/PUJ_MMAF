{
 "cells": [
  {
   "cell_type": "markdown",
   "metadata": {},
   "source": [
    "# C.2 Herramientas computacionales para resolver la actividad 2. "
   ]
  },
  {
   "cell_type": "markdown",
   "metadata": {},
   "source": []
  },
  {
   "cell_type": "markdown",
   "metadata": {},
   "source": [
    "### C.2.1 Potencias con números racionales\n",
    "\n",
    "Para calcular potencias con números racionales, se puede utilizar la función `pow` de Python. Por ejemplo, para calcular $2^{3/2}$, se puede hacer lo siguiente:\n"
   ]
  },
  {
   "cell_type": "code",
   "execution_count": 1,
   "metadata": {},
   "outputs": [
    {
     "data": {
      "text/plain": [
       "2.8284271247461903"
      ]
     },
     "execution_count": 1,
     "metadata": {},
     "output_type": "execute_result"
    }
   ],
   "source": [
    "pow(2,3/2)"
   ]
  },
  {
   "cell_type": "markdown",
   "metadata": {},
   "source": [
    "Adicionalmente. se puede usar el símbolo `**` para calcular potencias. Por ejemplo, para calcular $2^{3/2}$, se puede hacer lo siguiente:"
   ]
  },
  {
   "cell_type": "code",
   "execution_count": 2,
   "metadata": {},
   "outputs": [
    {
     "data": {
      "text/plain": [
       "2.8284271247461903"
      ]
     },
     "execution_count": 2,
     "metadata": {},
     "output_type": "execute_result"
    }
   ],
   "source": [
    "2**(3/2)"
   ]
  },
  {
   "cell_type": "markdown",
   "metadata": {},
   "source": [
    "### C.2.2 Jerarquías de operaciones\n",
    "\n",
    "La jerarquía de operaciones en Python es la misma que en matemáticas. Por ejemplo, en la expresión `2 + 3 * 4`, primero se realiza la multiplicación y luego la suma. Para forzar a que primero se realice la suma, se pueden utilizar paréntesis. Por ejemplo, `(2 + 3) * 4`."
   ]
  },
  {
   "cell_type": "code",
   "execution_count": 13,
   "metadata": {},
   "outputs": [
    {
     "name": "stdout",
     "output_type": "stream",
     "text": [
      "Note que 2+3*4= 14\n",
      "es diferente que (2+3)*4= 20\n"
     ]
    }
   ],
   "source": [
    "# Note que \n",
    "print(\"Note que 2+3*4=\",2+3*4)\n",
    "# es diferente que \n",
    "print(\"es diferente que (2+3)*4=\",(2+3)*4)"
   ]
  },
  {
   "cell_type": "markdown",
   "metadata": {},
   "source": [
    "**Otro ejemplo** Supongamos que queremos calcular la siguiente expresión:\n",
    "$$\\frac{2+3}{5},$$ \n",
    "la escritura de esta expresión en Python sería \n"
   ]
  },
  {
   "cell_type": "code",
   "execution_count": null,
   "metadata": {},
   "outputs": [],
   "source": [
    "(2+3)/5"
   ]
  },
  {
   "cell_type": "markdown",
   "metadata": {},
   "source": [
    "\n",
    "\n",
    "\n",
    "<span style=\"color:red\">si no se usa los paréntesis</span> la expresión que se obtiene es \n",
    "```python   \n",
    "2 + 3 / 5\n",
    "```\n",
    "lo cual es incorrecto, ya que primero se realiza la división y luego la suma. "
   ]
  },
  {
   "cell_type": "code",
   "execution_count": 5,
   "metadata": {},
   "outputs": [
    {
     "name": "stdout",
     "output_type": "stream",
     "text": [
      "Note que 2+3/5= 2.6 es diferente a  1.0\n"
     ]
    }
   ],
   "source": [
    "print(\"Nota que 2+3/5=\",2+3/5, \"es diferente a \",(2+3)/5)"
   ]
  },
  {
   "cell_type": "markdown",
   "metadata": {},
   "source": [
    "### C.2.3 Trabajar con constantes trascedentales\n",
    "\n",
    "En matemáticas existen constantes numéricas irracionales <span style=\"color:blue\">(Python usa una aproximación de estas)</span>, como $\\pi$ y $e$. Para utilizar estas constantes en Python, se pueden importar del módulo `math`. Por ejemplo, para utilizar $\\pi$ y $e$, se puede hacer lo siguiente:\n"
   ]
  },
  {
   "cell_type": "code",
   "execution_count": 7,
   "metadata": {},
   "outputs": [
    {
     "name": "stdout",
     "output_type": "stream",
     "text": [
      "El valor aproximado de pi es 3.141592653589793\n"
     ]
    }
   ],
   "source": [
    "import math\n",
    "\n",
    "print(\"El valor aproximado de pi es:\",math.pi)\n"
   ]
  },
  {
   "cell_type": "code",
   "execution_count": 8,
   "metadata": {},
   "outputs": [
    {
     "name": "stdout",
     "output_type": "stream",
     "text": [
      "El valor aproximado de e es 2.718281828459045\n"
     ]
    }
   ],
   "source": [
    "print(\"El valor aproximado de e es:\",math.e)"
   ]
  },
  {
   "cell_type": "markdown",
   "metadata": {},
   "source": [
    "**Ejemplo** Supongamos que queremos calcular el área de un círculo de radio 5. La fórmula para calcular el área de un círculo es $\\pi r^2$. En Python, esto se puede hacer de la siguiente manera:"
   ]
  },
  {
   "cell_type": "code",
   "execution_count": 11,
   "metadata": {},
   "outputs": [
    {
     "name": "stdout",
     "output_type": "stream",
     "text": [
      "el área de un círculo de radio 5 es: 78.53981633974483\n"
     ]
    }
   ],
   "source": [
    "print(\"el área de un círculo de radio 5 es:\",math.pi*5**2)"
   ]
  },
  {
   "cell_type": "markdown",
   "metadata": {},
   "source": [
    "### C.2.4 Trabajar con variables\n",
    "\n",
    "En la sección [C.1.9](https://github.com/abelalv/MMAF_2025/blob/main/seccion_1/MMAF_python_1.ipynb) introducimos el trabajo con variables en Python. Aquí usaremos este mismo principio en ejemplos más concretos.\n",
    "\n",
    "**Ejemplo** Sabemos que para calcular el volumen  de una esfera\n",
    "\n",
    "$$V = \\frac{4}{3}\\pi r^3,$$\n",
    "\n",
    "de esta forma podemos calcular el volumen de una esfera de radio 5 y 6 usando variables de la siguiente manera:"
   ]
  },
  {
   "cell_type": "code",
   "execution_count": 17,
   "metadata": {},
   "outputs": [
    {
     "name": "stdout",
     "output_type": "stream",
     "text": [
      "El volumen de una esfera de radio 5 es: 523.5987755982989\n",
      "El volumen de una esfera de radio 6 es: 904.7786842338603\n"
     ]
    }
   ],
   "source": [
    "import math\n",
    "r=5 # radio\n",
    "pi=math.pi # aquí guardamos el valor de pi en la variable pi\n",
    "V= 4/3*pi*r**3\n",
    "\n",
    "print(\"El volumen de una esfera de radio 5 es:\",V)\n",
    "\n",
    "r=6 # redefinimos el radio\n",
    "V= 4/3*pi*r**3\n",
    "print(\"El volumen de una esfera de radio 6 es:\",V)"
   ]
  },
  {
   "cell_type": "markdown",
   "metadata": {},
   "source": [
    "**Ejemplo** supongamos que queremos calcular la expresión\n",
    "\n",
    "$$\\Big(1+ \\frac{1}{n}\\Big)^n,$$\n",
    "\n",
    "para $n=10, 1000, 10000$. En Python, esto se puede hacer de la siguiente manera:"
   ]
  },
  {
   "cell_type": "code",
   "execution_count": 22,
   "metadata": {},
   "outputs": [
    {
     "name": "stdout",
     "output_type": "stream",
     "text": [
      "El valor aproximado de la expresión es: 2.5937424601000023\n"
     ]
    }
   ],
   "source": [
    "n=10 # note que primero debemos definir n, que es la variable\n",
    "expr=(1+(1/n))**n # ahora calculamos la expresión\n",
    "\n",
    "print(\"El valor aproximado de la expresión es:\",expr)\n",
    "\n"
   ]
  },
  {
   "cell_type": "code",
   "execution_count": 21,
   "metadata": {},
   "outputs": [
    {
     "name": "stdout",
     "output_type": "stream",
     "text": [
      "El valor aproximado de la expresión es: 2.7169239322355936\n"
     ]
    }
   ],
   "source": [
    "n=1000 # note que primero debemos definir n, que es la variable\n",
    "expr=(1+(1/n))**n # ahora calculamos la expresión\n",
    "\n",
    "print(\"El valor aproximado de la expresión es:\",expr)\n",
    "\n"
   ]
  },
  {
   "cell_type": "code",
   "execution_count": 20,
   "metadata": {},
   "outputs": [
    {
     "name": "stdout",
     "output_type": "stream",
     "text": [
      "El valor aproximado de la expresión es: 2.7181459268249255\n"
     ]
    }
   ],
   "source": [
    "n=10000 # note que primero debemos definir n, que es la variable\n",
    "expr=(1+(1/n))**n # ahora calculamos la expresión\n",
    "\n",
    "print(\"El valor aproximado de la expresión es:\",expr)"
   ]
  },
  {
   "cell_type": "markdown",
   "metadata": {},
   "source": [
    "cuando $n$ es muy grande, la expresión se aproxima a una constate matemática, que es un numero irracional, llamada número de Euler [$e$](https://es.wikipedia.org/wiki/N%C3%BAmero_e). Esta constante esta almacenada en la librería `math` de Python y para ser llama se hace de la siguiente manera:"
   ]
  },
  {
   "cell_type": "code",
   "execution_count": 23,
   "metadata": {},
   "outputs": [
    {
     "name": "stdout",
     "output_type": "stream",
     "text": [
      "El valor aproximado de e es: 2.718281828459045\n"
     ]
    }
   ],
   "source": [
    "import math\n",
    "\n",
    "print(\"El valor aproximado de e es:\",math.e)"
   ]
  },
  {
   "cell_type": "markdown",
   "metadata": {},
   "source": [
    "### C.2.5 (Optativo) Factorizar con Sympy\n",
    "\n",
    "Python permite trabajar con expresiones simbólicas y manipularlas de manera sencilla. Para ello se utiliza la librería `sympy`, que permite la manipulación de expresiones algebraicas. Inicialmente se debe importar  `sympy`, definir las variables simbólicas que se van a utilizar y luego realizar la operación que se busca resolver. Para mostrar los resultados de las operaciones se utiliza la función `display` de la librería `sympy`."
   ]
  },
  {
   "cell_type": "markdown",
   "metadata": {},
   "source": [
    "#### Operaciones con polinomios\n",
    "\n",
    "El siguiente ejemplo muestra dos polinomios de segundo y tercer grado, respectivamente. Si desea especificar que las variables con las que va a operar pertenecen al conjunto de los números reales se utiliza el comando `real=True`."
   ]
  },
  {
   "cell_type": "code",
   "execution_count": null,
   "metadata": {},
   "outputs": [
    {
     "data": {
      "text/latex": [
       "$\\displaystyle x^{2} - 2 x - 3$"
      ],
      "text/plain": [
       "x**2 - 2*x - 3"
      ]
     },
     "metadata": {},
     "output_type": "display_data"
    },
    {
     "data": {
      "text/latex": [
       "$\\displaystyle 3 x^{3} - 3 x^{2} + 4 x - 5$"
      ],
      "text/plain": [
       "3*x**3 - 3*x**2 + 4*x - 5"
      ]
     },
     "metadata": {},
     "output_type": "display_data"
    }
   ],
   "source": [
    "import sympy as sp\n",
    "\n",
    "x = sp.symbols('x', real=True)\n",
    "\n",
    "f = x**2 - 2*x - 3\n",
    "g= 3*x**3 - 3*x**2 + 4*x - 5\n",
    "\n",
    "display(f)\n",
    "display(g)"
   ]
  },
  {
   "cell_type": "markdown",
   "metadata": {},
   "source": [
    "#### Sumas y restas\n",
    "\n",
    "Se pueden sumar o restar expresiones algebraicas, empleando el operador `+` y `-`, respectivamente. A continuación, se presentan ejemplos de suma y resta empleando las expresiones algebraicas `f` y `g`, previamente definidas.\n"
   ]
  },
  {
   "cell_type": "code",
   "execution_count": null,
   "metadata": {},
   "outputs": [
    {
     "data": {
      "text/latex": [
       "$\\displaystyle 3 x^{3} - 2 x^{2} + 2 x - 8$"
      ],
      "text/plain": [
       "3*x**3 - 2*x**2 + 2*x - 8"
      ]
     },
     "metadata": {},
     "output_type": "display_data"
    },
    {
     "data": {
      "text/latex": [
       "$\\displaystyle 3 x^{3} - 4 x^{2} + 6 x - 2$"
      ],
      "text/plain": [
       "3*x**3 - 4*x**2 + 6*x - 2"
      ]
     },
     "metadata": {},
     "output_type": "display_data"
    }
   ],
   "source": [
    "display(f+g)\n",
    "display(g-f)"
   ]
  },
  {
   "cell_type": "markdown",
   "metadata": {},
   "source": [
    "#### Multiplicación\n",
    "\n",
    "La multiplicación de expresiones $f,g$ es decir $f\\cdot g$ también se puede realizar de forma simbólica y para expandir la expresión resultante  se utiliza la función `expand` de sympy.\n"
   ]
  },
  {
   "cell_type": "code",
   "execution_count": null,
   "metadata": {},
   "outputs": [
    {
     "data": {
      "text/latex": [
       "$\\displaystyle \\left(x^{2} - 2 x - 3\\right) \\left(3 x^{3} - 3 x^{2} + 4 x - 5\\right)$"
      ],
      "text/plain": [
       "(x**2 - 2*x - 3)*(3*x**3 - 3*x**2 + 4*x - 5)"
      ]
     },
     "metadata": {},
     "output_type": "display_data"
    },
    {
     "name": "stdout",
     "output_type": "stream",
     "text": [
      "Expandiendo el resultado\n"
     ]
    },
    {
     "data": {
      "text/latex": [
       "$\\displaystyle 3 x^{5} - 9 x^{4} + x^{3} - 4 x^{2} - 2 x + 15$"
      ],
      "text/plain": [
       "3*x**5 - 9*x**4 + x**3 - 4*x**2 - 2*x + 15"
      ]
     },
     "metadata": {},
     "output_type": "display_data"
    }
   ],
   "source": [
    "display((f*g))\n",
    "print(\"Expandiendo el resultado\")\n",
    "display(sp.expand(f*g))"
   ]
  },
  {
   "cell_type": "markdown",
   "metadata": {},
   "source": [
    "#### Factorización\n",
    "\n",
    "Del mismo modo,  `sympy` permite factorizar expresiones algebraicas. Para ello se utiliza la función `factor` de sympy. A continuación, se presenta la factorización del polinomio de segundo grado\n",
    " $x^2-2x-3$."
   ]
  },
  {
   "cell_type": "code",
   "execution_count": null,
   "metadata": {},
   "outputs": [
    {
     "data": {
      "text/latex": [
       "$\\displaystyle x^{2} - 2 x - 3$"
      ],
      "text/plain": [
       "x**2 - 2*x - 3"
      ]
     },
     "metadata": {},
     "output_type": "display_data"
    },
    {
     "name": "stdout",
     "output_type": "stream",
     "text": [
      "Factorizado\n"
     ]
    },
    {
     "data": {
      "text/latex": [
       "$\\displaystyle \\left(x - 3\\right) \\left(x + 1\\right)$"
      ],
      "text/plain": [
       "(x - 3)*(x + 1)"
      ]
     },
     "metadata": {},
     "output_type": "display_data"
    }
   ],
   "source": [
    "f=x**2 - 2*x - 3\n",
    "display(f)\n",
    "print(\"Factorizado\")\n",
    "display(sp.factor(f))"
   ]
  },
  {
   "cell_type": "code",
   "execution_count": null,
   "metadata": {},
   "outputs": [
    {
     "data": {
      "text/latex": [
       "$\\displaystyle x^{4} - 16$"
      ],
      "text/plain": [
       "x**4 - 16"
      ]
     },
     "metadata": {},
     "output_type": "display_data"
    },
    {
     "name": "stdout",
     "output_type": "stream",
     "text": [
      "Factorizado\n"
     ]
    },
    {
     "data": {
      "text/latex": [
       "$\\displaystyle \\left(x - 2\\right) \\left(x + 2\\right) \\left(x^{2} + 4\\right)$"
      ],
      "text/plain": [
       "(x - 2)*(x + 2)*(x**2 + 4)"
      ]
     },
     "metadata": {},
     "output_type": "display_data"
    }
   ],
   "source": [
    "g=x**4-16\n",
    "display(g)\n",
    "print(\"Factorizado\")\n",
    "display(sp.factor(g))"
   ]
  },
  {
   "cell_type": "markdown",
   "metadata": {},
   "source": [
    "#### Simplificación\n",
    "\n",
    "Empleando `sympy` también es posible simplificar una expresión algebraica. Para ello se utiliza la función `simplify`. A continuación, se presenta un ejemplo de como se puede simplificar la siguiente expresión racional:\n",
    "$$ \\frac{x^2-4}{x^4-16}$$"
   ]
  },
  {
   "cell_type": "code",
   "execution_count": null,
   "metadata": {},
   "outputs": [
    {
     "data": {
      "text/latex": [
       "$\\displaystyle \\frac{x^{2} - 4}{x^{4} - 16}$"
      ],
      "text/plain": [
       "(x**2 - 4)/(x**4 - 16)"
      ]
     },
     "metadata": {},
     "output_type": "display_data"
    },
    {
     "name": "stdout",
     "output_type": "stream",
     "text": [
      "Simplificado\n"
     ]
    },
    {
     "data": {
      "text/latex": [
       "$\\displaystyle \\frac{1}{x^{2} + 4}$"
      ],
      "text/plain": [
       "1/(x**2 + 4)"
      ]
     },
     "metadata": {},
     "output_type": "display_data"
    }
   ],
   "source": [
    "f=x**2 -4\n",
    "g=x**4-16\n",
    "\n",
    "display(f/g)\n",
    "print(\"Simplificado\")\n",
    "display(sp.simplify(f/g))"
   ]
  },
  {
   "cell_type": "markdown",
   "metadata": {},
   "source": [
    "En `sympy` puede usarse números racionales de forma exacta con la función `Rational`. A continuación, se presenta un ejemplo de como se puede usar la función `Rational` para usar un número racional en una expresión algebráica."
   ]
  },
  {
   "cell_type": "code",
   "execution_count": null,
   "metadata": {},
   "outputs": [
    {
     "data": {
      "text/latex": [
       "$\\displaystyle x^{2} - x + \\frac{1}{4}$"
      ],
      "text/plain": [
       "x**2 - x + 1/4"
      ]
     },
     "metadata": {},
     "output_type": "display_data"
    },
    {
     "name": "stdout",
     "output_type": "stream",
     "text": [
      "Factorizado\n"
     ]
    },
    {
     "data": {
      "text/latex": [
       "$\\displaystyle \\frac{\\left(2 x - 1\\right)^{2}}{4}$"
      ],
      "text/plain": [
       "(2*x - 1)**2/4"
      ]
     },
     "metadata": {},
     "output_type": "display_data"
    }
   ],
   "source": [
    "display(x**2-x+sp.Rational(1,4))\n",
    "print(\"Factorizado\")\n",
    "display(sp.factor(x**2-x+sp.Rational(1,4)))"
   ]
  },
  {
   "cell_type": "code",
   "execution_count": null,
   "metadata": {},
   "outputs": [
    {
     "data": {
      "text/latex": [
       "$\\displaystyle \\frac{\\left(x - 2\\right) \\left(x + 2\\right)}{4}$"
      ],
      "text/plain": [
       "(x - 2)*(x + 2)/4"
      ]
     },
     "metadata": {},
     "output_type": "display_data"
    }
   ],
   "source": [
    "display(sp.factor(x**2/4-1))"
   ]
  },
  {
   "cell_type": "code",
   "execution_count": null,
   "metadata": {},
   "outputs": [
    {
     "data": {
      "text/latex": [
       "$\\displaystyle - \\sqrt{2} x^{3} + e x^{2} + \\pi x$"
      ],
      "text/plain": [
       "-sqrt(2)*x**3 + E*x**2 + pi*x"
      ]
     },
     "metadata": {},
     "output_type": "display_data"
    }
   ],
   "source": [
    "r2=sp.sqrt(2)\n",
    "e=sp.exp(1)\n",
    "pi=sp.pi\n",
    "display(sp.pi*x+e*x**2-r2*x**3)"
   ]
  },
  {
   "cell_type": "markdown",
   "metadata": {},
   "source": [
    "`sympy` permite involucrar múltiples variables, por lo que es posible trabajar con nombres de variables distintas. A continuación, se presenta la expresión algebraica $x^2+2xy+y^2$ y se simplifica."
   ]
  },
  {
   "cell_type": "code",
   "execution_count": null,
   "metadata": {},
   "outputs": [
    {
     "name": "stdout",
     "output_type": "stream",
     "text": [
      "La expresión es:\n"
     ]
    },
    {
     "data": {
      "text/latex": [
       "$\\displaystyle x^{2} + 2 x y + y^{2}$"
      ],
      "text/plain": [
       "x**2 + 2*x*y + y**2"
      ]
     },
     "metadata": {},
     "output_type": "display_data"
    },
    {
     "name": "stdout",
     "output_type": "stream",
     "text": [
      "Factorizado\n"
     ]
    },
    {
     "data": {
      "text/latex": [
       "$\\displaystyle \\left(x + y\\right)^{2}$"
      ],
      "text/plain": [
       "(x + y)**2"
      ]
     },
     "metadata": {},
     "output_type": "display_data"
    }
   ],
   "source": [
    "y,x = sp.symbols('y x', real=True)\n",
    "\n",
    "f=x**2+2*x*y+y**2\n",
    "print(\"La expresión es:\")\n",
    "display(f)\n",
    "print(\"Factorizado\")\n",
    "display(sp.factor(f))"
   ]
  }
 ],
 "metadata": {
  "kernelspec": {
   "display_name": "class",
   "language": "python",
   "name": "python3"
  },
  "language_info": {
   "codemirror_mode": {
    "name": "ipython",
    "version": 3
   },
   "file_extension": ".py",
   "mimetype": "text/x-python",
   "name": "python",
   "nbconvert_exporter": "python",
   "pygments_lexer": "ipython3",
   "version": "3.12.3"
  }
 },
 "nbformat": 4,
 "nbformat_minor": 2
}

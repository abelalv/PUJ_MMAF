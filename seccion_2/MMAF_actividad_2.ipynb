{
 "cells": [
  {
   "cell_type": "markdown",
   "metadata": {
    "id": "Q-oWimfRRcbj"
   },
   "source": [
    "# 2. Construir un acueducto!"
   ]
  },
  {
   "cell_type": "markdown",
   "metadata": {
    "id": "TDBWCkY8_K06"
   },
   "source": [
    "## 2.1 Contexto"
   ]
  },
  {
   "cell_type": "markdown",
   "metadata": {},
   "source": [
    "Colombia es un país rico en recursos hídricos, pero su distribución es desigual. Miles de personas en las zonas rurales enfrentan dificultades para acceder al agua potable y plan de saneamiento básico. Según el Plan Nacional de Desarrollo 2018-2022, el 86% de la población rural tiene acceso a agua potable, pero solo el 65% accede a agua de calidad. Para disminuir esta brechas de desigualdad, es fundamental garantizar el acceso al agua potable de calidad y crear  en las zonas rurales mediante la construcción de infraestructura civil adecuada. Esto incluye la implementación de acueductos rurales y la construcción de tanques de almacenamiento de agua con las dimensiones necesarias."
   ]
  },
  {
   "cell_type": "markdown",
   "metadata": {},
   "source": [
    "![Untitled.jpeg](data:image/jpeg;base64,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)\n",
    "\n"
   ]
  },
  {
   "cell_type": "markdown",
   "metadata": {
    "id": "CKXLqFQz3Erx"
   },
   "source": [
    "## 1.2 Tema\n",
    "\n",
    "Factorización y productos notables\n",
    "\n",
    "## 1.3  Objetivo\n",
    "\n",
    "Construir una estrategia para calcular el volumen de una tubería de acueducto usando el diámetro promedio de del espesor de la tubería."
   ]
  },
  {
   "cell_type": "markdown",
   "metadata": {
    "id": "ncd3lCm4CmqJ"
   },
   "source": [
    "## 1.4 Actividad"
   ]
  },
  {
   "cell_type": "markdown",
   "metadata": {
    "vscode": {
     "languageId": "plaintext"
    }
   },
   "source": [
    "### 1.4.1  Diseño de Capa de Concreto para Tubería de Acueducto Rural en Cali\n",
    "\n",
    "\n",
    "En la construcción de un acueducto rural  cercano a la ciudad de Cali, se requiere calcular el volumen de concreto necesario para una capa de protección de una tubería de conducción de agua. La tubería tiene un grosor de 8 cm y un radio promedio de 14 cm, con una longitud de 500 metros. \n",
    "Sabiendo que el volumen de la tubería se calcula con la fórmula:\n",
    "\n",
    "\n",
    "**gráfica explicando la formula que se encuentra abajo**\n",
    "\n",
    "$$V=\\pi R^2l-\\pi r^2 l$$\n",
    "donde R es el radio externo de la tubería, r es el radio interno de la tubería y l es la longitud de la tubería.\n",
    "\n",
    "\n",
    "\n",
    "Encontrar una formula para calcular el volumen donde se use el radio promedio de la tubería, el grosor de la tubería y longitud.\n",
    "\n",
    "\n",
    "\n",
    "\n",
    "\n",
    "\n",
    "\n"
   ]
  },
  {
   "cell_type": "markdown",
   "metadata": {},
   "source": [
    "Los ingenieros necesitan determinar el volumen exacto de concreto para la capa de protección, considerando que esta capa es fundamental para:\n",
    "\n",
    "\n",
    "$$\n",
    "V = 2 \\pi \\cdot \\text{radio promedio} \\cdot \\text{altura} \\cdot \\text{grosor}.\n",
    "$$"
   ]
  },
  {
   "cell_type": "markdown",
   "metadata": {},
   "source": [
    "#### 1.4.1.1 Manos a la obra "
   ]
  },
  {
   "cell_type": "markdown",
   "metadata": {},
   "source": [
    "1. **Comprender el problema.** En esta etapa se busca comprender bien el problema que se quiere resolver e identificar las variables, datos y reglas relevantes para solucionar el problema."
   ]
  },
  {
   "cell_type": "markdown",
   "metadata": {},
   "source": []
  },
  {
   "cell_type": "markdown",
   "metadata": {},
   "source": [
    "2. **Planear la solución.**\n",
    "\n",
    "**a. ¿Qué necesitas encontrar?**\n",
    "\n",
    "El objetivo es determinar el volumen de una capa cilíndrica de concreto que tiene forma de cilindro hueco. Además, debes demostrar que este volumen puede expresarse como:\n",
    "\n",
    "$$\n",
    "V = 2 \\pi \\cdot \\text{radio promedio} \\cdot \\text{altura} \\cdot \\text{grosor}.\n",
    "$$\n",
    "\n",
    "**b. ¿Cómo puedes abordar el problema?**\n",
    "\n",
    "Piensa en lo siguiente:\n",
    "\n",
    "- Usa la fórmula para el volumen de un cilindro, $V = \\pi R^2 h $, para calcular los volúmenes del cilindro exterior e interior.\n",
    "- Calcula el volumen de la capa cilíndrica como la diferencia entre los volúmenes del cilindro grande y el pequeño.\n",
    "\n",
    "**c. ¿Cómo puedes simplificar tu resultado?**\n",
    "\n",
    "Factoriza la expresión obtenida para el volumen de la capa cilíndrica. Relaciona el grosor $ (R - r )$ y el radio promedio $(\\frac{R + r}{2} $) con tu resultado.\n",
    "\n",
    "**d. ¿Tu resultado tiene sentido?**\n",
    "\n",
    "Revisa si tu expresión final coincide con el formato requerido y si está correctamente relacionada con el radio promedio, la altura y el grosor.\n",
    "\n"
   ]
  },
  {
   "cell_type": "markdown",
   "metadata": {},
   "source": []
  },
  {
   "cell_type": "markdown",
   "metadata": {},
   "source": [
    "3. **Ejecutar el plan.** En esta etapa deberías ejecutar la estrategia identificada en el paso anterior usando herramientas matemáticas, posiblemente asistidas por software.\n"
   ]
  },
  {
   "cell_type": "code",
   "execution_count": null,
   "metadata": {},
   "outputs": [],
   "source": []
  },
  {
   "cell_type": "markdown",
   "metadata": {},
   "source": [
    "4. **Examinar la solución obtenida** Siempre que encuentres una solución de un problema es importante asegurarte que los resultados obtenido sean acordes  a las condiciones  iniciales del problema, factibles y en el caso contrario deberías regresar el primer paso."
   ]
  },
  {
   "cell_type": "markdown",
   "metadata": {},
   "source": []
  },
  {
   "cell_type": "markdown",
   "metadata": {},
   "source": [
    "### 1.4.2 Jugando con el computador!\n",
    "\n",
    "En esta actividad, explorarás el cálculo del volumen de una capa cilíndrica de concreto y cómo la fórmula:\n",
    "$$\n",
    "V = \\pi R^2l - \\pi r^2l\n",
    "$$\n",
    "puede detectar errores comunes si no se manipula correctamente la diferencia de cuadrados. Uno de estos **errores frecuentes** consiste en asumir que:\n",
    "$$a^2 - b^2 = (a - b)^2$$\n",
    "\n",
    "¿Como podemos comprobar que esta igualdad que esta igualdad no se cumple? ¡Podemos usar el computador para verificarlo!"
   ]
  },
  {
   "cell_type": "markdown",
   "metadata": {},
   "source": [
    "\n"
   ]
  },
  {
   "cell_type": "markdown",
   "metadata": {},
   "source": [
    "#### 1.4.2.1 Manos a la obra "
   ]
  },
  {
   "cell_type": "markdown",
   "metadata": {},
   "source": [
    "1. **Comprender el problema.** En esta etapa se busca comprender bien el problema que se quiere resolver e identificar las variables, datos y reglas relevantes para solucionar el problema."
   ]
  },
  {
   "cell_type": "markdown",
   "metadata": {},
   "source": []
  },
  {
   "cell_type": "markdown",
   "metadata": {},
   "source": [
    "2. **Planear la solución.** En esta etapa se busca identificar los pasos necesarios para resolver el problema y seleccionar la mejor estrategia para hacerlo.\n",
    "\n"
   ]
  },
  {
   "cell_type": "markdown",
   "metadata": {},
   "source": [
    "a. Si calculas $\\pi (R^2 - r^2) h $ correctamente y lo comparas con $\\pi (R - r)^2 h $, ¿cuál es la diferencia en los resultados? Usa un ejemplo con valores numéricos.\n",
    "\n",
    "b. ¿Por qué $\\pi (R - r)^2 h$ no es equivalente a $ \\pi R^2h - \\pi r^2h $? Justifica tu respuesta explorando la expansión algebraica.\n",
    "\n",
    "c. ¿Cómo cambia la magnitud del error al incrementar la diferencia entre $R$ y $r$? Prueba con distintos valores de $R$ y $r$.\n",
    "\n",
    "d. En un caso límite donde $r = 0$ , ¿cómo se comporta la fórmula? ¿Persiste el error en este caso?"
   ]
  },
  {
   "cell_type": "markdown",
   "metadata": {},
   "source": [
    "3. **Ejecutar el plan.** En esta etapa deberías ejecutar la estrategia identificada en el paso anterior usando herramientas matemáticas, posiblemente asistidas por software.\n"
   ]
  },
  {
   "cell_type": "code",
   "execution_count": null,
   "metadata": {},
   "outputs": [],
   "source": []
  },
  {
   "cell_type": "markdown",
   "metadata": {},
   "source": [
    "4. **Examinar la solución obtenida** Siempre que encuentres una solución de un problema es importante asegurarte que los resultados obtenido sean acordes  a las condiciones  iniciales del problema, factibles y en el caso contrario deberías regresar el primer paso."
   ]
  },
  {
   "cell_type": "markdown",
   "metadata": {},
   "source": [
    "## función"
   ]
  },
  {
   "cell_type": "code",
   "execution_count": 1,
   "metadata": {},
   "outputs": [
    {
     "name": "stdout",
     "output_type": "stream",
     "text": [
      "=== Resultados ===\n",
      "Radio exterior (R): 5 m\n",
      "Radio interior (r): 3 m\n",
      "Altura (h): 10 m\n",
      "\n",
      "--- Cálculo correcto ---\n",
      "Volumen correcto (π(R² - r²)h): 502.65 m³\n",
      "\n",
      "--- Cálculo erróneo ---\n",
      "Volumen erróneo (π(R - r)²h): 125.66 m³\n",
      "\n",
      "--- Diferencia entre ambos ---\n",
      "Diferencia: 376.99 m³\n",
      "\n",
      "=== Reflexión ===\n",
      "1. Cambia los valores de los parámetros y observa cómo la diferencia entre cálculos varía.\n",
      "2. Intenta responder las preguntas planteadas en la celda Markdown.\n"
     ]
    }
   ],
   "source": [
    "def analizar_diferencia_cuadrados(): #Esta celda debe ocultar el código fuente y permitir solo jugar con parámetros\n",
    "    \"\"\"\n",
    "    Analiza el impacto de errores comunes al calcular el volumen de una capa cilíndrica.\n",
    "    Comparación entre:\n",
    "    - Cálculo correcto: π(R^2 - r^2)h\n",
    "    - Cálculo erróneo: π(R - r)^2h\n",
    "    \"\"\"\n",
    "\n",
    "    # === Parámetros iniciales (Modifica solo estos valores) ===\n",
    "    radio_exterior = 5  # Radio del cilindro exterior (en metros)\n",
    "    radio_interior = 3  # Radio del cilindro interior (en metros)\n",
    "    altura = 10         # Altura del cilindro (en metros)\n",
    "\n",
    "    # --- Cálculos (No modificar esta sección) ---\n",
    "    import math\n",
    "    # Cálculo correcto\n",
    "    volumen_correcto = math.pi * (radio_exterior**2 - radio_interior**2) * altura\n",
    "\n",
    "    # Error común: cuadrado de la diferencia\n",
    "    volumen_erroneo = math.pi * (radio_exterior - radio_interior)**2 * altura\n",
    "\n",
    "    # Diferencia entre ambos cálculos\n",
    "    diferencia = volumen_correcto - volumen_erroneo\n",
    "\n",
    "    # Resultados\n",
    "    print(\"=== Resultados ===\")\n",
    "    print(f\"Radio exterior (R): {radio_exterior} m\")\n",
    "    print(f\"Radio interior (r): {radio_interior} m\")\n",
    "    print(f\"Altura (h): {altura} m\")\n",
    "    print(\"\\n--- Cálculo correcto ---\")\n",
    "    print(f\"Volumen correcto (π(R² - r²)h): {volumen_correcto:.2f} m³\")\n",
    "    print(\"\\n--- Cálculo erróneo ---\")\n",
    "    print(f\"Volumen erróneo (π(R - r)²h): {volumen_erroneo:.2f} m³\")\n",
    "    print(\"\\n--- Diferencia entre ambos ---\")\n",
    "    print(f\"Diferencia: {diferencia:.2f} m³\")\n",
    "    \n",
    "    print(\"\\n=== Reflexión ===\")\n",
    "    print(\"1. Cambia los valores de los parámetros y observa cómo la diferencia entre cálculos varía.\")\n",
    "    print(\"2. Intenta responder las preguntas planteadas en la celda Markdown.\")\n",
    "\n",
    "# Llamar a la función (No necesitas modificar esta parte)\n",
    "analizar_diferencia_cuadrados()"
   ]
  },
  {
   "cell_type": "markdown",
   "metadata": {},
   "source": []
  }
 ],
 "metadata": {
  "colab": {
   "collapsed_sections": [
    "YRA8NfgJx2Pf",
    "m6ihzz_qx2Pg",
    "ig8uXeDlx2Pg"
   ],
   "provenance": [],
   "toc_visible": true
  },
  "kernelspec": {
   "display_name": "class",
   "language": "python",
   "name": "python3"
  },
  "language_info": {
   "codemirror_mode": {
    "name": "ipython",
    "version": 3
   },
   "file_extension": ".py",
   "mimetype": "text/x-python",
   "name": "python",
   "nbconvert_exporter": "python",
   "pygments_lexer": "ipython3",
   "version": "3.12.3"
  },
  "widgets": {
   "application/vnd.jupyter.widget-state+json": {
    "023a03091d204c6da48de6a08db8e5e9": {
     "model_module": "@jupyter-widgets/controls",
     "model_module_version": "1.5.0",
     "model_name": "IntSliderModel",
     "state": {
      "_dom_classes": [],
      "_model_module": "@jupyter-widgets/controls",
      "_model_module_version": "1.5.0",
      "_model_name": "IntSliderModel",
      "_view_count": null,
      "_view_module": "@jupyter-widgets/controls",
      "_view_module_version": "1.5.0",
      "_view_name": "IntSliderView",
      "continuous_update": true,
      "description": "a:",
      "description_tooltip": null,
      "disabled": false,
      "layout": "IPY_MODEL_874c14fad6bc4296994274ea81455816",
      "max": 10,
      "min": -10,
      "orientation": "horizontal",
      "readout": true,
      "readout_format": "d",
      "step": 1,
      "style": "IPY_MODEL_7151c3696909496697032837569ca598",
      "value": 1
     }
    },
    "0797b433746c463cacbf9717af0e0b5e": {
     "model_module": "@jupyter-widgets/controls",
     "model_module_version": "1.5.0",
     "model_name": "IntSliderModel",
     "state": {
      "_dom_classes": [],
      "_model_module": "@jupyter-widgets/controls",
      "_model_module_version": "1.5.0",
      "_model_name": "IntSliderModel",
      "_view_count": null,
      "_view_module": "@jupyter-widgets/controls",
      "_view_module_version": "1.5.0",
      "_view_name": "IntSliderView",
      "continuous_update": true,
      "description": "c:",
      "description_tooltip": null,
      "disabled": false,
      "layout": "IPY_MODEL_d40aa0398ae84a47bd7df1257e7156e4",
      "max": 10,
      "min": -10,
      "orientation": "horizontal",
      "readout": true,
      "readout_format": "d",
      "step": 1,
      "style": "IPY_MODEL_3fff80534fd04ed5b6c2119628e583cc",
      "value": 1
     }
    },
    "0b406b4fb129458ba7f92047b0717a22": {
     "model_module": "@jupyter-widgets/base",
     "model_module_version": "1.2.0",
     "model_name": "LayoutModel",
     "state": {
      "_model_module": "@jupyter-widgets/base",
      "_model_module_version": "1.2.0",
      "_model_name": "LayoutModel",
      "_view_count": null,
      "_view_module": "@jupyter-widgets/base",
      "_view_module_version": "1.2.0",
      "_view_name": "LayoutView",
      "align_content": null,
      "align_items": null,
      "align_self": null,
      "border": null,
      "bottom": null,
      "display": null,
      "flex": null,
      "flex_flow": null,
      "grid_area": null,
      "grid_auto_columns": null,
      "grid_auto_flow": null,
      "grid_auto_rows": null,
      "grid_column": null,
      "grid_gap": null,
      "grid_row": null,
      "grid_template_areas": null,
      "grid_template_columns": null,
      "grid_template_rows": null,
      "height": null,
      "justify_content": null,
      "justify_items": null,
      "left": null,
      "margin": null,
      "max_height": null,
      "max_width": null,
      "min_height": null,
      "min_width": null,
      "object_fit": null,
      "object_position": null,
      "order": null,
      "overflow": null,
      "overflow_x": null,
      "overflow_y": null,
      "padding": null,
      "right": null,
      "top": null,
      "visibility": null,
      "width": null
     }
    },
    "1972d7c3e4be49d6aa750fdee64a487f": {
     "model_module": "@jupyter-widgets/base",
     "model_module_version": "1.2.0",
     "model_name": "LayoutModel",
     "state": {
      "_model_module": "@jupyter-widgets/base",
      "_model_module_version": "1.2.0",
      "_model_name": "LayoutModel",
      "_view_count": null,
      "_view_module": "@jupyter-widgets/base",
      "_view_module_version": "1.2.0",
      "_view_name": "LayoutView",
      "align_content": null,
      "align_items": null,
      "align_self": null,
      "border": null,
      "bottom": null,
      "display": null,
      "flex": null,
      "flex_flow": null,
      "grid_area": null,
      "grid_auto_columns": null,
      "grid_auto_flow": null,
      "grid_auto_rows": null,
      "grid_column": null,
      "grid_gap": null,
      "grid_row": null,
      "grid_template_areas": null,
      "grid_template_columns": null,
      "grid_template_rows": null,
      "height": null,
      "justify_content": null,
      "justify_items": null,
      "left": null,
      "margin": null,
      "max_height": null,
      "max_width": null,
      "min_height": null,
      "min_width": null,
      "object_fit": null,
      "object_position": null,
      "order": null,
      "overflow": null,
      "overflow_x": null,
      "overflow_y": null,
      "padding": null,
      "right": null,
      "top": null,
      "visibility": null,
      "width": null
     }
    },
    "2c4865d445ef47209b27d76c214d68a3": {
     "model_module": "@jupyter-widgets/controls",
     "model_module_version": "1.5.0",
     "model_name": "IntSliderModel",
     "state": {
      "_dom_classes": [],
      "_model_module": "@jupyter-widgets/controls",
      "_model_module_version": "1.5.0",
      "_model_name": "IntSliderModel",
      "_view_count": null,
      "_view_module": "@jupyter-widgets/controls",
      "_view_module_version": "1.5.0",
      "_view_name": "IntSliderView",
      "continuous_update": true,
      "description": "d:",
      "description_tooltip": null,
      "disabled": false,
      "layout": "IPY_MODEL_80f2d0bf940f4722a87c93d0238bcc81",
      "max": 10,
      "min": -10,
      "orientation": "horizontal",
      "readout": true,
      "readout_format": "d",
      "step": 1,
      "style": "IPY_MODEL_b104e750f12844caa961e395d51c709a",
      "value": 1
     }
    },
    "367795f1e35c47038a9eee02f2e18911": {
     "model_module": "@jupyter-widgets/controls",
     "model_module_version": "1.5.0",
     "model_name": "SliderStyleModel",
     "state": {
      "_model_module": "@jupyter-widgets/controls",
      "_model_module_version": "1.5.0",
      "_model_name": "SliderStyleModel",
      "_view_count": null,
      "_view_module": "@jupyter-widgets/base",
      "_view_module_version": "1.2.0",
      "_view_name": "StyleView",
      "description_width": "",
      "handle_color": null
     }
    },
    "3fff80534fd04ed5b6c2119628e583cc": {
     "model_module": "@jupyter-widgets/controls",
     "model_module_version": "1.5.0",
     "model_name": "SliderStyleModel",
     "state": {
      "_model_module": "@jupyter-widgets/controls",
      "_model_module_version": "1.5.0",
      "_model_name": "SliderStyleModel",
      "_view_count": null,
      "_view_module": "@jupyter-widgets/base",
      "_view_module_version": "1.2.0",
      "_view_name": "StyleView",
      "description_width": "",
      "handle_color": null
     }
    },
    "428515a9a4b043f2a0d70fc3afe8c4b8": {
     "model_module": "@jupyter-widgets/output",
     "model_module_version": "1.0.0",
     "model_name": "OutputModel",
     "state": {
      "_dom_classes": [],
      "_model_module": "@jupyter-widgets/output",
      "_model_module_version": "1.0.0",
      "_model_name": "OutputModel",
      "_view_count": null,
      "_view_module": "@jupyter-widgets/output",
      "_view_module_version": "1.0.0",
      "_view_name": "OutputView",
      "layout": "IPY_MODEL_987504c3a8b345a7bfeea5900db2642d",
      "msg_id": "",
      "outputs": [
       {
        "name": "stdout",
        "output_type": "stream",
        "text": [
         "Suma: 1/1 + 1/1 = 2\n"
        ]
       }
      ]
     }
    },
    "42b7df39887448ba94d2e2b8bd7f8138": {
     "model_module": "@jupyter-widgets/controls",
     "model_module_version": "1.5.0",
     "model_name": "SliderStyleModel",
     "state": {
      "_model_module": "@jupyter-widgets/controls",
      "_model_module_version": "1.5.0",
      "_model_name": "SliderStyleModel",
      "_view_count": null,
      "_view_module": "@jupyter-widgets/base",
      "_view_module_version": "1.2.0",
      "_view_name": "StyleView",
      "description_width": "",
      "handle_color": null
     }
    },
    "500296267e0f457a85076455a5c6df0c": {
     "model_module": "@jupyter-widgets/controls",
     "model_module_version": "1.5.0",
     "model_name": "IntSliderModel",
     "state": {
      "_dom_classes": [],
      "_model_module": "@jupyter-widgets/controls",
      "_model_module_version": "1.5.0",
      "_model_name": "IntSliderModel",
      "_view_count": null,
      "_view_module": "@jupyter-widgets/controls",
      "_view_module_version": "1.5.0",
      "_view_name": "IntSliderView",
      "continuous_update": true,
      "description": "b:",
      "description_tooltip": null,
      "disabled": false,
      "layout": "IPY_MODEL_0b406b4fb129458ba7f92047b0717a22",
      "max": 10,
      "min": -10,
      "orientation": "horizontal",
      "readout": true,
      "readout_format": "d",
      "step": 1,
      "style": "IPY_MODEL_e7b819c9f3d440719c1f2eec2eb8c6fb",
      "value": 1
     }
    },
    "542971f90eee4777961d1ee19a9be351": {
     "model_module": "@jupyter-widgets/controls",
     "model_module_version": "1.5.0",
     "model_name": "SliderStyleModel",
     "state": {
      "_model_module": "@jupyter-widgets/controls",
      "_model_module_version": "1.5.0",
      "_model_name": "SliderStyleModel",
      "_view_count": null,
      "_view_module": "@jupyter-widgets/base",
      "_view_module_version": "1.2.0",
      "_view_name": "StyleView",
      "description_width": "",
      "handle_color": null
     }
    },
    "5541149cb00a44369744af5241164dbc": {
     "model_module": "@jupyter-widgets/output",
     "model_module_version": "1.0.0",
     "model_name": "OutputModel",
     "state": {
      "_dom_classes": [],
      "_model_module": "@jupyter-widgets/output",
      "_model_module_version": "1.0.0",
      "_model_name": "OutputModel",
      "_view_count": null,
      "_view_module": "@jupyter-widgets/output",
      "_view_module_version": "1.0.0",
      "_view_name": "OutputView",
      "layout": "IPY_MODEL_f532bcec85954008afddfefdaccf4313",
      "msg_id": "",
      "outputs": [
       {
        "name": "stdout",
        "output_type": "stream",
        "text": [
         "Producto: 1/1 * 1/1 = 1\n"
        ]
       }
      ]
     }
    },
    "61e9f507af76469ba44615aaaf7dd17f": {
     "model_module": "@jupyter-widgets/base",
     "model_module_version": "1.2.0",
     "model_name": "LayoutModel",
     "state": {
      "_model_module": "@jupyter-widgets/base",
      "_model_module_version": "1.2.0",
      "_model_name": "LayoutModel",
      "_view_count": null,
      "_view_module": "@jupyter-widgets/base",
      "_view_module_version": "1.2.0",
      "_view_name": "LayoutView",
      "align_content": null,
      "align_items": null,
      "align_self": null,
      "border": null,
      "bottom": null,
      "display": null,
      "flex": null,
      "flex_flow": null,
      "grid_area": null,
      "grid_auto_columns": null,
      "grid_auto_flow": null,
      "grid_auto_rows": null,
      "grid_column": null,
      "grid_gap": null,
      "grid_row": null,
      "grid_template_areas": null,
      "grid_template_columns": null,
      "grid_template_rows": null,
      "height": null,
      "justify_content": null,
      "justify_items": null,
      "left": null,
      "margin": null,
      "max_height": null,
      "max_width": null,
      "min_height": null,
      "min_width": null,
      "object_fit": null,
      "object_position": null,
      "order": null,
      "overflow": null,
      "overflow_x": null,
      "overflow_y": null,
      "padding": null,
      "right": null,
      "top": null,
      "visibility": null,
      "width": null
     }
    },
    "6955c6e3b34e4e6b8eac262221ae1cde": {
     "model_module": "@jupyter-widgets/controls",
     "model_module_version": "1.5.0",
     "model_name": "IntSliderModel",
     "state": {
      "_dom_classes": [],
      "_model_module": "@jupyter-widgets/controls",
      "_model_module_version": "1.5.0",
      "_model_name": "IntSliderModel",
      "_view_count": null,
      "_view_module": "@jupyter-widgets/controls",
      "_view_module_version": "1.5.0",
      "_view_name": "IntSliderView",
      "continuous_update": true,
      "description": "c:",
      "description_tooltip": null,
      "disabled": false,
      "layout": "IPY_MODEL_8c87ffdba77e40348faa587b2d30d176",
      "max": 10,
      "min": -10,
      "orientation": "horizontal",
      "readout": true,
      "readout_format": "d",
      "step": 1,
      "style": "IPY_MODEL_367795f1e35c47038a9eee02f2e18911",
      "value": 1
     }
    },
    "7151c3696909496697032837569ca598": {
     "model_module": "@jupyter-widgets/controls",
     "model_module_version": "1.5.0",
     "model_name": "SliderStyleModel",
     "state": {
      "_model_module": "@jupyter-widgets/controls",
      "_model_module_version": "1.5.0",
      "_model_name": "SliderStyleModel",
      "_view_count": null,
      "_view_module": "@jupyter-widgets/base",
      "_view_module_version": "1.2.0",
      "_view_name": "StyleView",
      "description_width": "",
      "handle_color": null
     }
    },
    "7d6bc42a3929439c83826bc1fe8a140a": {
     "model_module": "@jupyter-widgets/controls",
     "model_module_version": "1.5.0",
     "model_name": "IntSliderModel",
     "state": {
      "_dom_classes": [],
      "_model_module": "@jupyter-widgets/controls",
      "_model_module_version": "1.5.0",
      "_model_name": "IntSliderModel",
      "_view_count": null,
      "_view_module": "@jupyter-widgets/controls",
      "_view_module_version": "1.5.0",
      "_view_name": "IntSliderView",
      "continuous_update": true,
      "description": "a:",
      "description_tooltip": null,
      "disabled": false,
      "layout": "IPY_MODEL_f19ce1b2d02d4652a175de3a49f202d3",
      "max": 10,
      "min": -10,
      "orientation": "horizontal",
      "readout": true,
      "readout_format": "d",
      "step": 1,
      "style": "IPY_MODEL_542971f90eee4777961d1ee19a9be351",
      "value": 1
     }
    },
    "80f2d0bf940f4722a87c93d0238bcc81": {
     "model_module": "@jupyter-widgets/base",
     "model_module_version": "1.2.0",
     "model_name": "LayoutModel",
     "state": {
      "_model_module": "@jupyter-widgets/base",
      "_model_module_version": "1.2.0",
      "_model_name": "LayoutModel",
      "_view_count": null,
      "_view_module": "@jupyter-widgets/base",
      "_view_module_version": "1.2.0",
      "_view_name": "LayoutView",
      "align_content": null,
      "align_items": null,
      "align_self": null,
      "border": null,
      "bottom": null,
      "display": null,
      "flex": null,
      "flex_flow": null,
      "grid_area": null,
      "grid_auto_columns": null,
      "grid_auto_flow": null,
      "grid_auto_rows": null,
      "grid_column": null,
      "grid_gap": null,
      "grid_row": null,
      "grid_template_areas": null,
      "grid_template_columns": null,
      "grid_template_rows": null,
      "height": null,
      "justify_content": null,
      "justify_items": null,
      "left": null,
      "margin": null,
      "max_height": null,
      "max_width": null,
      "min_height": null,
      "min_width": null,
      "object_fit": null,
      "object_position": null,
      "order": null,
      "overflow": null,
      "overflow_x": null,
      "overflow_y": null,
      "padding": null,
      "right": null,
      "top": null,
      "visibility": null,
      "width": null
     }
    },
    "874c14fad6bc4296994274ea81455816": {
     "model_module": "@jupyter-widgets/base",
     "model_module_version": "1.2.0",
     "model_name": "LayoutModel",
     "state": {
      "_model_module": "@jupyter-widgets/base",
      "_model_module_version": "1.2.0",
      "_model_name": "LayoutModel",
      "_view_count": null,
      "_view_module": "@jupyter-widgets/base",
      "_view_module_version": "1.2.0",
      "_view_name": "LayoutView",
      "align_content": null,
      "align_items": null,
      "align_self": null,
      "border": null,
      "bottom": null,
      "display": null,
      "flex": null,
      "flex_flow": null,
      "grid_area": null,
      "grid_auto_columns": null,
      "grid_auto_flow": null,
      "grid_auto_rows": null,
      "grid_column": null,
      "grid_gap": null,
      "grid_row": null,
      "grid_template_areas": null,
      "grid_template_columns": null,
      "grid_template_rows": null,
      "height": null,
      "justify_content": null,
      "justify_items": null,
      "left": null,
      "margin": null,
      "max_height": null,
      "max_width": null,
      "min_height": null,
      "min_width": null,
      "object_fit": null,
      "object_position": null,
      "order": null,
      "overflow": null,
      "overflow_x": null,
      "overflow_y": null,
      "padding": null,
      "right": null,
      "top": null,
      "visibility": null,
      "width": null
     }
    },
    "8c87ffdba77e40348faa587b2d30d176": {
     "model_module": "@jupyter-widgets/base",
     "model_module_version": "1.2.0",
     "model_name": "LayoutModel",
     "state": {
      "_model_module": "@jupyter-widgets/base",
      "_model_module_version": "1.2.0",
      "_model_name": "LayoutModel",
      "_view_count": null,
      "_view_module": "@jupyter-widgets/base",
      "_view_module_version": "1.2.0",
      "_view_name": "LayoutView",
      "align_content": null,
      "align_items": null,
      "align_self": null,
      "border": null,
      "bottom": null,
      "display": null,
      "flex": null,
      "flex_flow": null,
      "grid_area": null,
      "grid_auto_columns": null,
      "grid_auto_flow": null,
      "grid_auto_rows": null,
      "grid_column": null,
      "grid_gap": null,
      "grid_row": null,
      "grid_template_areas": null,
      "grid_template_columns": null,
      "grid_template_rows": null,
      "height": null,
      "justify_content": null,
      "justify_items": null,
      "left": null,
      "margin": null,
      "max_height": null,
      "max_width": null,
      "min_height": null,
      "min_width": null,
      "object_fit": null,
      "object_position": null,
      "order": null,
      "overflow": null,
      "overflow_x": null,
      "overflow_y": null,
      "padding": null,
      "right": null,
      "top": null,
      "visibility": null,
      "width": null
     }
    },
    "987504c3a8b345a7bfeea5900db2642d": {
     "model_module": "@jupyter-widgets/base",
     "model_module_version": "1.2.0",
     "model_name": "LayoutModel",
     "state": {
      "_model_module": "@jupyter-widgets/base",
      "_model_module_version": "1.2.0",
      "_model_name": "LayoutModel",
      "_view_count": null,
      "_view_module": "@jupyter-widgets/base",
      "_view_module_version": "1.2.0",
      "_view_name": "LayoutView",
      "align_content": null,
      "align_items": null,
      "align_self": null,
      "border": null,
      "bottom": null,
      "display": null,
      "flex": null,
      "flex_flow": null,
      "grid_area": null,
      "grid_auto_columns": null,
      "grid_auto_flow": null,
      "grid_auto_rows": null,
      "grid_column": null,
      "grid_gap": null,
      "grid_row": null,
      "grid_template_areas": null,
      "grid_template_columns": null,
      "grid_template_rows": null,
      "height": null,
      "justify_content": null,
      "justify_items": null,
      "left": null,
      "margin": null,
      "max_height": null,
      "max_width": null,
      "min_height": null,
      "min_width": null,
      "object_fit": null,
      "object_position": null,
      "order": null,
      "overflow": null,
      "overflow_x": null,
      "overflow_y": null,
      "padding": null,
      "right": null,
      "top": null,
      "visibility": null,
      "width": null
     }
    },
    "9c1ddcef52644f5b9d64cce7f9228d6e": {
     "model_module": "@jupyter-widgets/controls",
     "model_module_version": "1.5.0",
     "model_name": "SliderStyleModel",
     "state": {
      "_model_module": "@jupyter-widgets/controls",
      "_model_module_version": "1.5.0",
      "_model_name": "SliderStyleModel",
      "_view_count": null,
      "_view_module": "@jupyter-widgets/base",
      "_view_module_version": "1.2.0",
      "_view_name": "StyleView",
      "description_width": "",
      "handle_color": null
     }
    },
    "b104e750f12844caa961e395d51c709a": {
     "model_module": "@jupyter-widgets/controls",
     "model_module_version": "1.5.0",
     "model_name": "SliderStyleModel",
     "state": {
      "_model_module": "@jupyter-widgets/controls",
      "_model_module_version": "1.5.0",
      "_model_name": "SliderStyleModel",
      "_view_count": null,
      "_view_module": "@jupyter-widgets/base",
      "_view_module_version": "1.2.0",
      "_view_name": "StyleView",
      "description_width": "",
      "handle_color": null
     }
    },
    "c10d730dff124e01bb67ae1431779694": {
     "model_module": "@jupyter-widgets/controls",
     "model_module_version": "1.5.0",
     "model_name": "IntSliderModel",
     "state": {
      "_dom_classes": [],
      "_model_module": "@jupyter-widgets/controls",
      "_model_module_version": "1.5.0",
      "_model_name": "IntSliderModel",
      "_view_count": null,
      "_view_module": "@jupyter-widgets/controls",
      "_view_module_version": "1.5.0",
      "_view_name": "IntSliderView",
      "continuous_update": true,
      "description": "d:",
      "description_tooltip": null,
      "disabled": false,
      "layout": "IPY_MODEL_1972d7c3e4be49d6aa750fdee64a487f",
      "max": 10,
      "min": -10,
      "orientation": "horizontal",
      "readout": true,
      "readout_format": "d",
      "step": 1,
      "style": "IPY_MODEL_9c1ddcef52644f5b9d64cce7f9228d6e",
      "value": 1
     }
    },
    "c316b43543854699bd4507d749f71bda": {
     "model_module": "@jupyter-widgets/controls",
     "model_module_version": "1.5.0",
     "model_name": "IntSliderModel",
     "state": {
      "_dom_classes": [],
      "_model_module": "@jupyter-widgets/controls",
      "_model_module_version": "1.5.0",
      "_model_name": "IntSliderModel",
      "_view_count": null,
      "_view_module": "@jupyter-widgets/controls",
      "_view_module_version": "1.5.0",
      "_view_name": "IntSliderView",
      "continuous_update": true,
      "description": "b:",
      "description_tooltip": null,
      "disabled": false,
      "layout": "IPY_MODEL_61e9f507af76469ba44615aaaf7dd17f",
      "max": 10,
      "min": -10,
      "orientation": "horizontal",
      "readout": true,
      "readout_format": "d",
      "step": 1,
      "style": "IPY_MODEL_42b7df39887448ba94d2e2b8bd7f8138",
      "value": 1
     }
    },
    "d40aa0398ae84a47bd7df1257e7156e4": {
     "model_module": "@jupyter-widgets/base",
     "model_module_version": "1.2.0",
     "model_name": "LayoutModel",
     "state": {
      "_model_module": "@jupyter-widgets/base",
      "_model_module_version": "1.2.0",
      "_model_name": "LayoutModel",
      "_view_count": null,
      "_view_module": "@jupyter-widgets/base",
      "_view_module_version": "1.2.0",
      "_view_name": "LayoutView",
      "align_content": null,
      "align_items": null,
      "align_self": null,
      "border": null,
      "bottom": null,
      "display": null,
      "flex": null,
      "flex_flow": null,
      "grid_area": null,
      "grid_auto_columns": null,
      "grid_auto_flow": null,
      "grid_auto_rows": null,
      "grid_column": null,
      "grid_gap": null,
      "grid_row": null,
      "grid_template_areas": null,
      "grid_template_columns": null,
      "grid_template_rows": null,
      "height": null,
      "justify_content": null,
      "justify_items": null,
      "left": null,
      "margin": null,
      "max_height": null,
      "max_width": null,
      "min_height": null,
      "min_width": null,
      "object_fit": null,
      "object_position": null,
      "order": null,
      "overflow": null,
      "overflow_x": null,
      "overflow_y": null,
      "padding": null,
      "right": null,
      "top": null,
      "visibility": null,
      "width": null
     }
    },
    "e7b819c9f3d440719c1f2eec2eb8c6fb": {
     "model_module": "@jupyter-widgets/controls",
     "model_module_version": "1.5.0",
     "model_name": "SliderStyleModel",
     "state": {
      "_model_module": "@jupyter-widgets/controls",
      "_model_module_version": "1.5.0",
      "_model_name": "SliderStyleModel",
      "_view_count": null,
      "_view_module": "@jupyter-widgets/base",
      "_view_module_version": "1.2.0",
      "_view_name": "StyleView",
      "description_width": "",
      "handle_color": null
     }
    },
    "f19ce1b2d02d4652a175de3a49f202d3": {
     "model_module": "@jupyter-widgets/base",
     "model_module_version": "1.2.0",
     "model_name": "LayoutModel",
     "state": {
      "_model_module": "@jupyter-widgets/base",
      "_model_module_version": "1.2.0",
      "_model_name": "LayoutModel",
      "_view_count": null,
      "_view_module": "@jupyter-widgets/base",
      "_view_module_version": "1.2.0",
      "_view_name": "LayoutView",
      "align_content": null,
      "align_items": null,
      "align_self": null,
      "border": null,
      "bottom": null,
      "display": null,
      "flex": null,
      "flex_flow": null,
      "grid_area": null,
      "grid_auto_columns": null,
      "grid_auto_flow": null,
      "grid_auto_rows": null,
      "grid_column": null,
      "grid_gap": null,
      "grid_row": null,
      "grid_template_areas": null,
      "grid_template_columns": null,
      "grid_template_rows": null,
      "height": null,
      "justify_content": null,
      "justify_items": null,
      "left": null,
      "margin": null,
      "max_height": null,
      "max_width": null,
      "min_height": null,
      "min_width": null,
      "object_fit": null,
      "object_position": null,
      "order": null,
      "overflow": null,
      "overflow_x": null,
      "overflow_y": null,
      "padding": null,
      "right": null,
      "top": null,
      "visibility": null,
      "width": null
     }
    },
    "f532bcec85954008afddfefdaccf4313": {
     "model_module": "@jupyter-widgets/base",
     "model_module_version": "1.2.0",
     "model_name": "LayoutModel",
     "state": {
      "_model_module": "@jupyter-widgets/base",
      "_model_module_version": "1.2.0",
      "_model_name": "LayoutModel",
      "_view_count": null,
      "_view_module": "@jupyter-widgets/base",
      "_view_module_version": "1.2.0",
      "_view_name": "LayoutView",
      "align_content": null,
      "align_items": null,
      "align_self": null,
      "border": null,
      "bottom": null,
      "display": null,
      "flex": null,
      "flex_flow": null,
      "grid_area": null,
      "grid_auto_columns": null,
      "grid_auto_flow": null,
      "grid_auto_rows": null,
      "grid_column": null,
      "grid_gap": null,
      "grid_row": null,
      "grid_template_areas": null,
      "grid_template_columns": null,
      "grid_template_rows": null,
      "height": null,
      "justify_content": null,
      "justify_items": null,
      "left": null,
      "margin": null,
      "max_height": null,
      "max_width": null,
      "min_height": null,
      "min_width": null,
      "object_fit": null,
      "object_position": null,
      "order": null,
      "overflow": null,
      "overflow_x": null,
      "overflow_y": null,
      "padding": null,
      "right": null,
      "top": null,
      "visibility": null,
      "width": null
     }
    }
   }
  }
 },
 "nbformat": 4,
 "nbformat_minor": 0
}

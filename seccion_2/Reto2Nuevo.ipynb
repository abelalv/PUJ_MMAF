{
 "cells": [
  {
   "cell_type": "markdown",
   "metadata": {},
   "source": [
    "# Análisis Computacional: Diferencia de Cuadrados en el Cálculo del Volumen de un Cilindro Hueco\n",
    "\n",
    "En esta actividad, explorarás el cálculo del volumen de una capa cilíndrica de concreto y cómo la fórmula:\n",
    "$$\n",
    "V = \\pi R^2h - \\pi r^2h\n",
    "$$\n",
    "puede generar errores comunes si no se manipula correctamente la diferencia de cuadrados.\n",
    "\n",
    "El objetivo es reflexionar sobre los efectos de estos errores y su impacto en los resultados.\n",
    "\n",
    "## Preguntas para Reflexión\n",
    "1. Si calculas $\\pi (R^2 - r^2) h $ correctamente y lo comparas con $\\pi (R - r)^2 h $, ¿cuál es la diferencia en los resultados? Usa un ejemplo con valores numéricos.\n",
    "2. ¿Por qué $\\pi (R - r)^2 h$ no es equivalente a $ \\pi R^2h - \\pi r^2h $? Justifica tu respuesta explorando la expansión algebraica.\n",
    "3. ¿Cómo cambia la magnitud del error al incrementar la diferencia entre $R$ y $r$? Prueba con distintos valores de $R$ y $r$.\n",
    "4. En un caso límite donde $r = 0$ , ¿cómo se comporta la fórmula? ¿Persiste el error en este caso?"
   ]
  },
  {
   "cell_type": "code",
   "execution_count": 1,
   "metadata": {},
   "outputs": [
    {
     "name": "stdout",
     "output_type": "stream",
     "text": [
      "=== Resultados ===\n",
      "Radio exterior (R): 5 m\n",
      "Radio interior (r): 3 m\n",
      "Altura (h): 10 m\n",
      "\n",
      "--- Cálculo correcto ---\n",
      "Volumen correcto (π(R² - r²)h): 502.65 m³\n",
      "\n",
      "--- Cálculo erróneo ---\n",
      "Volumen erróneo (π(R - r)²h): 125.66 m³\n",
      "\n",
      "--- Diferencia entre ambos ---\n",
      "Diferencia: 376.99 m³\n",
      "\n",
      "=== Reflexión ===\n",
      "1. Cambia los valores de los parámetros y observa cómo la diferencia entre cálculos varía.\n",
      "2. Intenta responder las preguntas planteadas en la celda Markdown.\n"
     ]
    }
   ],
   "source": [
    "def analizar_diferencia_cuadrados(): #Esta celda debe ocultar el código fuente y permitir solo jugar con parámetros\n",
    "    \"\"\"\n",
    "    Analiza el impacto de errores comunes al calcular el volumen de una capa cilíndrica.\n",
    "    Comparación entre:\n",
    "    - Cálculo correcto: π(R^2 - r^2)h\n",
    "    - Cálculo erróneo: π(R - r)^2h\n",
    "    \"\"\"\n",
    "\n",
    "    # === Parámetros iniciales (Modifica solo estos valores) ===\n",
    "    radio_exterior = 5  # Radio del cilindro exterior (en metros)\n",
    "    radio_interior = 3  # Radio del cilindro interior (en metros)\n",
    "    altura = 10         # Altura del cilindro (en metros)\n",
    "\n",
    "    # --- Cálculos (No modificar esta sección) ---\n",
    "    import math\n",
    "    # Cálculo correcto\n",
    "    volumen_correcto = math.pi * (radio_exterior**2 - radio_interior**2) * altura\n",
    "\n",
    "    # Error común: cuadrado de la diferencia\n",
    "    volumen_erroneo = math.pi * (radio_exterior - radio_interior)**2 * altura\n",
    "\n",
    "    # Diferencia entre ambos cálculos\n",
    "    diferencia = volumen_correcto - volumen_erroneo\n",
    "\n",
    "    # Resultados\n",
    "    print(\"=== Resultados ===\")\n",
    "    print(f\"Radio exterior (R): {radio_exterior} m\")\n",
    "    print(f\"Radio interior (r): {radio_interior} m\")\n",
    "    print(f\"Altura (h): {altura} m\")\n",
    "    print(\"\\n--- Cálculo correcto ---\")\n",
    "    print(f\"Volumen correcto (π(R² - r²)h): {volumen_correcto:.2f} m³\")\n",
    "    print(\"\\n--- Cálculo erróneo ---\")\n",
    "    print(f\"Volumen erróneo (π(R - r)²h): {volumen_erroneo:.2f} m³\")\n",
    "    print(\"\\n--- Diferencia entre ambos ---\")\n",
    "    print(f\"Diferencia: {diferencia:.2f} m³\")\n",
    "    \n",
    "    print(\"\\n=== Reflexión ===\")\n",
    "    print(\"1. Cambia los valores de los parámetros y observa cómo la diferencia entre cálculos varía.\")\n",
    "    print(\"2. Intenta responder las preguntas planteadas en la celda Markdown.\")\n",
    "\n",
    "# Llamar a la función (No necesitas modificar esta parte)\n",
    "analizar_diferencia_cuadrados()"
   ]
  }
 ],
 "metadata": {
  "kernelspec": {
   "display_name": "class",
   "language": "python",
   "name": "python3"
  },
  "language_info": {
   "codemirror_mode": {
    "name": "ipython",
    "version": 3
   },
   "file_extension": ".py",
   "mimetype": "text/x-python",
   "name": "python",
   "nbconvert_exporter": "python",
   "pygments_lexer": "ipython3",
   "version": "3.12.3"
  }
 },
 "nbformat": 4,
 "nbformat_minor": 2
}

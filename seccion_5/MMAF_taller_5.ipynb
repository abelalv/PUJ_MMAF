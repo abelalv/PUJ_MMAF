{
 "cells": [
  {
   "cell_type": "markdown",
   "metadata": {},
   "source": [
    "1. Encuentre la ecuación estándar de cualquier parábola que tenga vértices $V$\n",
    "    - $V(0,3)$\n",
    "    - $V(-2,0)$\n",
    "\n",
    "2. Exprese en la forma $a(x-h)^2+k$\n",
    "    - $f(x)=-4x^2+16x-13$\n",
    "    - $f(x)=5x^2+20x+17$\n",
    "    - $f(x)=-\\frac{3}{4}x^2+9x-34$\n",
    "\n",
    "3. Encuentre el dominio de las siguientes funciones\n",
    "    - $f(x)=\\sqrt{x^2-25}$\n",
    "    - $f(x)=\\dfrac{4x}{6x^2+13x-5}$\n",
    "    - $f(x)=\\dfrac{x+1}{x^3-4x}$\n",
    "\n",
    "4. Simplifique el cociente de diferencias \n",
    "   $\\dfrac{f(x+h)-f(x)}{h}$ para las funciones:\n",
    "    - a) $f(x)=x^2+5$\n",
    "    - b) $f(x)=\\dfrac{1}{x^2}$\n",
    "\n",
    "5. Para niños entre 6 y 10 años, la estatura $y$ en metros es frecuentemente una función lineal de la edad $t$ en años. La estatura de cierto niño es 1.3 m a los 6 años, y 1.5 m a los 7 años.\n",
    "    - a) Exprese $y$ como función de $t$.\n",
    "    - b) Trace la recta del punto anterior e interprete la pendiente.\n",
    "    - c) Prediga la estatura del niño a la edad de 10 años.\n",
    "\n",
    "6. Dadas $f(x)=x^3+2x^2$ y $g(x)=3x$, calcule:\n",
    "    - a) $(f\\circ g)(x)$\n",
    "    - b) $(g\\circ f)(x)$\n",
    "    - c) $f(g(-2))$\n",
    "    - d) $g(f(3))$\n",
    "\n",
    "7. Dadas $f(x)=\\sqrt{3-x}$ y $g(x)=\\sqrt{x^2-16}$, calcule:\n",
    "    - $(f\\circ g)(x)$ y $(g\\circ f)(x)$\n",
    "    \n",
    "   Además, determine los dominios de ambas composiciones.\n",
    "\n",
    "8. Un cable de 100 pies de largo y diámetro de 4 pulgadas se sumerge en agua de mar. Debido a la corrosión, el área superficial del cable disminuye a razón de 750 pulgadas cuadradas por año. Exprese el diámetro $d$ del cable como función del tiempo $t$ (en años).  \n",
    "   *(No preste atención a la corrosión de los extremos del cable.)*\n",
    "\n",
    "9. Use división larga para encontrar el cociente y el residuo entre los polinomios $p(x)$ y $q(x)$ dados:\n",
    "    - a) $p(x)=3x^3-5x^2-4x-8$, $q(x)=2x^2+x$\n",
    "    - b) $p(x)=7x^2+3x-10$, $q(x)=x^2-x+10$\n",
    "\n",
    "10. Use el teorema del factor para mostrar que $x-2$ es un factor del polinomio\n",
    "    $$\n",
    "    x^4-3x^3-2x^2+5x+6\n",
    "    $$\n",
    "\n",
    "11. Use división sintética para encontrar el cociente y el residuo si \n",
    "    $$\n",
    "    9x^3-6x^2+3x-4\n",
    "    $$\n",
    "    se divide entre $x-\\frac{1}{3}$.\n",
    "\n",
    "12. Use división sintética para hallar $f(c)$ cuando $c=1+\\sqrt{2}$ y \n",
    "    \\[\n",
    "    f(x)=x^3-3x^2-8.\n",
    "    \\]"
   ]
  }
 ],
 "metadata": {
  "kernelspec": {
   "display_name": "clases",
   "language": "python",
   "name": "python3"
  },
  "language_info": {
   "codemirror_mode": {
    "name": "ipython",
    "version": 3
   },
   "file_extension": ".py",
   "mimetype": "text/x-python",
   "name": "python",
   "nbconvert_exporter": "python",
   "pygments_lexer": "ipython3",
   "version": "3.12.4"
  }
 },
 "nbformat": 4,
 "nbformat_minor": 2
}

{
 "cells": [
  {
   "cell_type": "markdown",
   "metadata": {},
   "source": [
    "\n",
    "1. Considere la función $f(x)=\\dfrac{2 ^{x}}{7}$, grafique la función.\n",
    "\n",
    "2. Grafique las funciones y describa que movimientos en el plano respecto a la gráfica de la función  $y=exp(2x)$\n",
    "\n",
    " * $y=exp(-2x)$\n",
    "\n",
    " * $y=-exp(2x)$\n",
    "\n",
    " * $y=-exp(-2x)+6$\n",
    "\n",
    "3. Intente gráficar la función $y=exp(10x)$ en el intervalo $[100,1000]$ ¡Que sucede?\n",
    "\n",
    "4. La graficar la función $y=0.1^x$ porque decrece para valores de $x$ muy grandes\n",
    "\n",
    "5. Grafique la función $y=\\log_4(x)$\n",
    "\n",
    "6. Resuelva las ecuaciones \n",
    "\n",
    " - $ln(x^2-1)=2$\n",
    "\n",
    " - $exp(x-1)=100$\n",
    "\n",
    "7. Un biólogo está estudiando el crecimiento de una población de bacterias en un laboratorio. La cantidad de bacterias $N(t)$ después de $t$ horas sigue el modelo de crecimiento:\n",
    "\n",
    "$$\n",
    "N(t) = N_0 \\cdot e^{kt}\n",
    "$$\n",
    "\n",
    "donde $N_0$ es la cantidad inicial de bacterias y $k$ es la tasa de crecimiento. Después de 5 horas, el biólogo observa que la población de bacterias se ha multiplicado por 16. Si la población inicial era de 100 bacterias, encuentra la tasa de crecimiento $k$.\n",
    "\n"
   ]
  },
  {
   "cell_type": "markdown",
   "metadata": {},
   "source": [
    "1. Grafique las siguientes funciones y encuentre su dominio y rango:\n",
    "\n",
    "a. $y=e^x$\n",
    "b. $y=2^x$\n",
    "c. $y=\\ln|x|$\n",
    "d. $y=\\log_2\\Big(\\frac{x-2}{+3}\\Big)$\n",
    "e. $y=e^{\\frac{2x-4}{4x-5}}$"
   ]
  },
  {
   "cell_type": "markdown",
   "metadata": {
    "vscode": {
     "languageId": "plaintext"
    }
   },
   "source": [
    "2. Un material radioactivo tiene una masa inicial de 200 g y se desintegra según el modelo:\n",
    "$$M(t) = 200 \\cdot e^{-0.0231t}$$\n",
    "donde $t$ es el tiempo en años.\n",
    "\n",
    "+ Grafica la función $M(t)$ y encuentra su dominio y rango.\n",
    "+ ¿Cuánto tiempo tardará en desintegrarse el 90\\% del material?\n",
    "+ ¿Cuál es la masa restante después de 10 años?"
   ]
  },
  {
   "cell_type": "markdown",
   "metadata": {},
   "source": [
    "3. Una colonia de bacterias crece exponencialmente según $B(t) = 50 \\cdot e^{0.2t}$ (sin antibiótico). Con antibiótico:\n",
    "$$B_{\\text{trat}}(t) = \\frac{1000}{1 + 19 \\cdot e^{-0.3t}}$$ \n",
    "\n",
    "+ **Graficar** ambas funciones en $t \\in [0, 20]$ horas\n",
    "+ **Encontrar** el tiempo cuando $B_{\\text{trat}}(t) = 500$ usando logaritmos\n",
    "+ **Comparar** las gráficas y explicar por qué el modelo con antibiótico es más realista"
   ]
  },
  {
   "cell_type": "markdown",
   "metadata": {},
   "source": [
    "4. Un virus se propaga según:\n",
    "$$V(t) = \\frac{10,000}{1 + 999 \\cdot e^{-0.4t}}$$\n",
    "donde $V(t)$ = número de infectados, $t$ = tiempo en días\n",
    "\n",
    "+ **Graficar** $V(t)$ para $t \\in [0, 30]$ días\n",
    "+ **Calcular** el día cuando el 50% de la población está infectada (5000 personas)\n",
    "+ **Interpretar** la asíntota horizontal biológicamente"
   ]
  }
 ],
 "metadata": {
  "kernelspec": {
   "display_name": "class",
   "language": "python",
   "name": "python3"
  },
  "language_info": {
   "codemirror_mode": {
    "name": "ipython",
    "version": 3
   },
   "file_extension": ".py",
   "mimetype": "text/x-python",
   "name": "python",
   "nbconvert_exporter": "python",
   "pygments_lexer": "ipython3",
   "version": "3.12.3"
  }
 },
 "nbformat": 4,
 "nbformat_minor": 2
}

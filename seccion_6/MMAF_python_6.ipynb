{
 "cells": [
  {
   "cell_type": "markdown",
   "metadata": {},
   "source": [
    "# C.6 Herramientas computacionales para resolver la actividad 6. "
   ]
  },
  {
   "cell_type": "markdown",
   "metadata": {},
   "source": [
    "### Uso de librerías en Python para Gráficos\n",
    "\n",
    "Para hacer gráficos en Python, es común usar **NumPy** y **Matplotlib**.  \n",
    "\n",
    "- **NumPy** facilita el trabajo con números, permitiendo crear secuencias y operar con ellas de manera eficiente. Es especialmente útil cuando se necesita evaluar funciones en varios puntos.  \n",
    "- **Matplotlib** es una de las bibliotecas más usadas para generar gráficos. Ofrece muchas opciones de personalización y permite crear desde gráficos simples hasta visualizaciones complejas.  "
   ]
  },
  {
   "cell_type": "code",
   "execution_count": null,
   "metadata": {},
   "outputs": [],
   "source": [
    "# Importación de librerías para gráficos estáticos\n",
    "import numpy as np\n",
    "import matplotlib.pyplot as plt"
   ]
  },
  {
   "cell_type": "markdown",
   "metadata": {},
   "source": [
    "Para mejorar la interactividad en notebooks de Jupyter, suelen usarse las librerías **ipywidgets** e **IPython.display**.  \n",
    "\n",
    "- **ipywidgets** permite crear controles interactivos como deslizadores, botones y cuadros de texto, lo que facilita la exploración de datos y la modificación de parámetros en tiempo real.  \n",
    "- **IPython.display** proporciona funciones para mostrar contenido dinámico dentro del notebook, como widgets, imágenes, HTML y otros elementos visuales.  "
   ]
  },
  {
   "cell_type": "code",
   "execution_count": null,
   "metadata": {},
   "outputs": [],
   "source": [
    "from IPython.display import display\n",
    "import ipywidgets as widgets"
   ]
  },
  {
   "cell_type": "markdown",
   "metadata": {},
   "source": [
    "Uno de los objetos más útiles de ipywidgets son los deslizadores, que facilitan la creación de gráficas interactivas. permitiendo usar los deslizadores como entradas dinámicas a funciones y graficarlas."
   ]
  },
  {
   "cell_type": "code",
   "execution_count": null,
   "metadata": {},
   "outputs": [],
   "source": [
    "# Crear los deslizadores\n",
    "a_slider = widgets.FloatSlider(min=-10, max=10, step=0.1, value=1, description='a')\n",
    "b_slider = widgets.FloatSlider(min=-10, max=10, step=0.1, value=0, description='b')\n",
    "c_slider = widgets.FloatSlider(min=-10, max=10, step=0.1, value=0, description='c')\n",
    "d_slider = widgets.FloatSlider(min=-10, max=10, step=0.1, value=0, description='d')"
   ]
  },
  {
   "cell_type": "markdown",
   "metadata": {},
   "source": [
    "La función exponencial es una función matemática, habitual mente se llama la función Euler y se representa de la forma \n",
    "$$f(x)=e^x,$$\n",
    " y para calcularla se puede usar la librería `numpy` de Python. por ejemplo, para calcular el valor de la función exponencial en 2, se puede usar el siguiente código:\n",
    "\n"
   ]
  },
  {
   "cell_type": "code",
   "execution_count": null,
   "metadata": {},
   "outputs": [],
   "source": [
    "a = np.exp(2)  # calculo de la exponencial de 2\n",
    "print(a)"
   ]
  },
  {
   "cell_type": "markdown",
   "metadata": {},
   "source": [
    "### Gráficos Estáticos y Dinámicos"
   ]
  },
  {
   "cell_type": "markdown",
   "metadata": {},
   "source": [
    "Ahora bien, si queremos graficar la función exponencial, podemos hacerlo de la siguiente manera:\n"
   ]
  },
  {
   "cell_type": "code",
   "execution_count": null,
   "metadata": {},
   "outputs": [],
   "source": [
    "# Generar los puntos para el gráfico\n",
    "x = np.linspace(-3, 3, 1000)  # Ajustar el rango de valores de x y aumentar la resolución\n",
    "\n",
    "# Evaluar la función exponencial directamente en los valores de x\n",
    "y = np.exp(x)\n",
    "\n",
    "# Graficar la función\n",
    "plt.plot(x, y)\n",
    "plt.axhline(0, color='black', linewidth=0.5)  # Agregar una línea en y=0\n",
    "plt.xlabel('x')\n",
    "plt.ylabel('y')\n",
    "plt.title('Gráfico de la función $e^x$')\n",
    "plt.grid(True)\n",
    "plt.show()"
   ]
  },
  {
   "cell_type": "markdown",
   "metadata": {},
   "source": [
    "Como se ha visto ya en módulos anteriores, es posible usar Python para calcular propiedades o características específicas, por ejemplo, la distancia entre los puntos (2,3) y (-1,7)"
   ]
  },
  {
   "cell_type": "code",
   "execution_count": null,
   "metadata": {},
   "outputs": [],
   "source": [
    "# Definir los puntos\n",
    "p1 = np.array([2, 3])\n",
    "p2 = np.array([-1, 7])\n",
    "\n",
    "# Calcular la distancia entre los puntos\n",
    "distancia = np.linalg.norm(p2 - p1)\n",
    "\n",
    "# Imprimir los puntos y la distancia\n",
    "print(f\"Punto 1: {p1}\")\n",
    "print(f\"Punto 2: {p2}\")\n",
    "print(f\"Distancia entre los puntos: {distancia:.2f}\")\n",
    "\n",
    "# Graficar los puntos y la línea que los conecta\n",
    "plt.plot([p1[0], p2[0]], [p1[1], p2[1]], 'ro-', label=f'Distancia: {distancia:.2f}')\n",
    "plt.scatter(p1[0], p1[1], color='blue', label='Punto 1 (2, 3)')\n",
    "plt.scatter(p2[0], p2[1], color='green', label='Punto 2 (-1, 7)')\n",
    "plt.xlabel('x')\n",
    "plt.ylabel('y')\n",
    "plt.title('Distancia entre dos puntos')\n",
    "plt.axhline(0, color='black', linewidth=0.5)\n",
    "plt.axvline(0, color='black', linewidth=0.5)\n",
    "plt.grid(True)\n",
    "plt.legend()\n",
    "plt.show()"
   ]
  },
  {
   "cell_type": "markdown",
   "metadata": {},
   "source": [
    "A continuación, se presenta un gráfico interactivo que permite visualizar la función exponencial con la siguiente expresión:\n",
    "\n",
    "$$f(x) = a \\cdot e^{b \\cdot x + c} + d$$\n",
    "\n",
    "### Descripción de los coeficientes:\n",
    "- **a**: Escala vertical, multiplica la función exponencial.\n",
    "- **b**: Tasa de crecimiento o decrecimiento, afecta la pendiente de la curva.\n",
    "- **c**: Desplazamiento horizontal, afecta el término dentro del exponente.\n",
    "- **d**: Desplazamiento vertical, mueve la curva hacia arriba o abajo."
   ]
  },
  {
   "cell_type": "code",
   "execution_count": null,
   "metadata": {},
   "outputs": [],
   "source": [
    "# Función para graficar la función exponencial\n",
    "def grafica_funcion_exp(a, b, c, d):\n",
    "    print(\"Descripción de los coeficientes:\")\n",
    "    print(f\"a: Escala vertical, multiplica la función exponencial.\")\n",
    "    print(f\"b: Tasa de crecimiento o decrecimiento, afecta la pendiente de la curva.\")\n",
    "    print(f\"c: Desplazamiento horizontal, afecta el término dentro del exponente.\")\n",
    "    print(f\"d: Desplazamiento vertical, mueve la curva hacia arriba o abajo.\")\n",
    "    print(f\"Valores actuales: a={a:.2f}, b={b:.2f}, c={c:.2f}, d={d:.2f}\\n\")\n",
    "    \n",
    "    x = np.linspace(-70, 70, 4000)\n",
    "    y = a * np.exp(b * x + c) + d\n",
    "    plt.plot(x, y, label=f'{a:.2f}$exp({b:.2f}x+{c:.2f})$ + {d:.2f}')\n",
    "    plt.axhline(0, color='black', linewidth=0.5)\n",
    "    plt.axvline(0, color='black', linewidth=0.5)\n",
    "    plt.grid(color='gray', linestyle='--', linewidth=0.5)\n",
    "    plt.xlim(-70, 70)\n",
    "    plt.ylim(-70, 70)\n",
    "    plt.xlabel('x')\n",
    "    plt.ylabel('y')\n",
    "    plt.legend()\n",
    "    plt.title('Gráfica de la función exponencial')\n",
    "    plt.show()\n",
    "\n",
    "# Función para actualizar la gráfica\n",
    "def update_grafica_exp(a, b, c,d):\n",
    "    grafica_funcion_exp(a, b, c,d)\n"
   ]
  },
  {
   "cell_type": "code",
   "execution_count": null,
   "metadata": {},
   "outputs": [],
   "source": [
    "# Crear un widget interactivo para la gráfica\n",
    "exp_widget = widgets.interactive(update_grafica_exp, a=a_slider, b=b_slider, c=c_slider,d=d_slider)\n",
    "\n",
    "# Mostrar el widget\n",
    "display(exp_widget)"
   ]
  },
  {
   "cell_type": "markdown",
   "metadata": {},
   "source": [
    "## C.3.2  Graficar funciones logarítmica\n",
    "\n",
    "La función logarítmica es la función inversa de la función exponencial, en el caso de la función logarítmica natural, se representa de la forma\n",
    "$$f(x)=\\ln(x),$$\n",
    "A para usar la función logaritmo natural en Python, se puede usar la librería `numpy` de Python. Para ellos se puede usar el siguiente código:\n"
   ]
  },
  {
   "cell_type": "code",
   "execution_count": null,
   "metadata": {},
   "outputs": [],
   "source": [
    "import numpy as np\n",
    "a=np.log(2)  # Calculo de la funcion logaritmo natural de 2\n",
    "print(a)"
   ]
  },
  {
   "cell_type": "markdown",
   "metadata": {},
   "source": [
    "### C.3.2.1 Gráficos de la función logarítmica\n",
    "\n",
    "Para generar la gráfica de la función logarítmica hay que tener en cuenta el dominio de la función, puesto que la función $\\ln(x)$ esta definida en el intervalo $(0,\\infty)$  y se puede usar el siguiente código:"
   ]
  },
  {
   "cell_type": "code",
   "execution_count": null,
   "metadata": {},
   "outputs": [],
   "source": [
    "# Generar los puntos para el gráfico\n",
    "x = np.linspace(0.001, 3, 1000)  # Ajustar el rango de valores de x y aumentar la resolución\n",
    "\n",
    "# Evaluar la función exponencial directamente en los valores de x\n",
    "y = np.log(x)\n",
    "\n",
    "# Graficar la función\n",
    "plt.plot(x, y)\n",
    "plt.axhline(0, color='black', linewidth=0.5)  # Agregar una línea en y=0\n",
    "plt.xlabel('x')\n",
    "plt.ylabel('y')\n",
    "plt.title('Gráfico de la función $ln(x)$')\n",
    "plt.grid(True)\n",
    "plt.show()"
   ]
  },
  {
   "cell_type": "markdown",
   "metadata": {},
   "source": [
    "$$f(x) = a \\cdot \\ln(b + x + c) + d$$\n",
    "\n",
    "En este caso, la función logarítmica se representa con la fórmula anterior, donde los coeficientes \\(a\\), \\(b\\), \\(c\\) y \\(d\\) permiten modificar la forma de la curva logarítmica. A continuación, se describe el efecto de cada coeficiente:\n",
    "\n",
    "- **\\(a\\)**: Escala vertical, multiplica la función logarítmica, afectando su amplitud.\n",
    "- **\\(b\\)**: Escala horizontal, afecta el término dentro del logaritmo, modificando la pendiente de la curva.\n",
    "- **\\(c\\)**: Desplazamiento horizontal, afecta el término dentro del logaritmo, moviendo la curva hacia la izquierda o derecha.\n",
    "- **\\(d\\)**: Desplazamiento vertical, mueve la curva hacia arriba o abajo.\n",
    "\n",
    "La gráfica interactiva permite ajustar estos coeficientes mediante deslizadores, lo que facilita la exploración visual de cómo cambian las características de la función logarítmica."
   ]
  },
  {
   "cell_type": "code",
   "execution_count": null,
   "metadata": {},
   "outputs": [],
   "source": [
    "# Función para graficar la función logarítmica\n",
    "def grafica_funcion_log(a, b, c, d):\n",
    "    print(\"Descripción de los coeficientes:\")\n",
    "    print(f\"a: Escala vertical, multiplica la función logarítmica.\")\n",
    "    print(f\"b: Escala horizontal, afecta el término dentro del logaritmo.\")\n",
    "    print(f\"c: Desplazamiento horizontal, afecta el término dentro del logaritmo.\")\n",
    "    print(f\"d: Desplazamiento vertical, mueve la curva hacia arriba o abajo.\")\n",
    "    print(f\"Valores actuales: a={a:.2f}, b={b:.2f}, c={c:.2f}, d={d:.2f}\\n\")\n",
    "    \n",
    "    x = np.linspace(0.001, 100, 400)\n",
    "    bx = b * x \n",
    "    valid_indices = (bx + c) > 0 \n",
    "    x_valid = x[valid_indices]\n",
    "    y = a * np.log((b * x_valid) + c) + d\n",
    "    plt.plot(x_valid, y, label=f'{a:.2f}$ln({b:.2f}x + {c:.2f})$ + {d:.2f}')\n",
    "    plt.axhline(0, color='black', linewidth=0.5)\n",
    "    plt.axvline(0, color='black', linewidth=0.5)\n",
    "    plt.grid(color='gray', linestyle='--', linewidth=0.5)\n",
    "    plt.xlim(0, 100)\n",
    "    plt.ylim(-100, 100)\n",
    "    plt.xlabel('x')\n",
    "    plt.ylabel('y')\n",
    "    plt.legend()\n",
    "    plt.title('Gráfica de la función logarítmica')\n",
    "    plt.show()\n",
    "\n",
    "# Función para actualizar la gráfica\n",
    "def update_grafica_log(a, b, c, d):\n",
    "    grafica_funcion_log(a, b, c, d)"
   ]
  },
  {
   "cell_type": "code",
   "execution_count": null,
   "metadata": {},
   "outputs": [],
   "source": [
    "# Crear un widget interactivo para la gráfica\n",
    "log_widget = widgets.interactive(update_grafica_log, a=a_slider, b=b_slider, c=c_slider,d=d_slider)\n",
    "\n",
    "# Mostrar el widget\n",
    "display(log_widget)"
   ]
  },
  {
   "cell_type": "markdown",
   "metadata": {},
   "source": [
    "Recuerde que la función logarítmica es la inversa de la función exponencial es decir:\n",
    "\n",
    "$$y=e^x \\Leftrightarrow x=\\ln(y),$$\n",
    "\n",
    "gráficamente se puede observar que \n",
    "\n",
    "$$ln(e^x)=x,$$"
   ]
  },
  {
   "cell_type": "code",
   "execution_count": null,
   "metadata": {},
   "outputs": [],
   "source": [
    "# Generar los puntos para el gráfico\n",
    "x = np.linspace(-3, 3, 1000)  # Ajustar el rango de valores de x y aumentar la resolución\n",
    "\n",
    "# Evaluar la función exponencial directamente en los valores de x\n",
    "y = np.log(np.exp(x))\n",
    "\n",
    "# Graficar la función\n",
    "plt.plot(x, y)\n",
    "plt.axhline(0, color='black', linewidth=0.5)  # Agregar una línea en y=0\n",
    "plt.xlabel('x')\n",
    "plt.ylabel('y')\n",
    "plt.title('Gráfico de la función $y=ln(e^x)=x$')\n",
    "plt.grid(True)\n",
    "plt.show()"
   ]
  },
  {
   "cell_type": "markdown",
   "metadata": {},
   "source": [
    "## C.3.3  Función exponencial y logarítmica de base diferentes"
   ]
  },
  {
   "cell_type": "markdown",
   "metadata": {},
   "source": [
    "Ahora si queremos realizar la gráfica de  la función en base 3, es decir\n",
    "\n",
    "$$f(x)=3^x,$$\n",
    "\n",
    "se puede  usar las propiedades de las funciones exponenciales para reescribir la función de la siguiente manera:\n",
    "\n",
    "$$f(x)=3^x= e^{x\\ln(3)},$$\n",
    "\n",
    "de esta forma se usa la función exponencial de Python para graficar la función $f(x)=3^x$.\n"
   ]
  },
  {
   "cell_type": "code",
   "execution_count": null,
   "metadata": {},
   "outputs": [],
   "source": [
    "# Generar los puntos para el gráfico\n",
    "x = np.linspace(-3, 3, 1000)  # Ajustar el rango de valores de x y aumentar la resolución\n",
    "\n",
    "# Evaluar la función exponencial directamente en los valores de x\n",
    "y = np.exp(x*np.log(3))\n",
    "\n",
    "# Graficar la función\n",
    "plt.plot(x, y)\n",
    "plt.axhline(0, color='black', linewidth=0.5)  # Agregar una línea en y=0\n",
    "plt.xlabel('x')\n",
    "plt.ylabel('y')\n",
    "plt.title('Gráfico de la función $3^x$')\n",
    "plt.grid(True)\n",
    "plt.show()"
   ]
  },
  {
   "cell_type": "markdown",
   "metadata": {},
   "source": [
    "De esta forma se puede comparar varias funciones exponenciales en el mismo gráfico  y observar como se comportan en el mismo intervalo. "
   ]
  },
  {
   "cell_type": "code",
   "execution_count": null,
   "metadata": {},
   "outputs": [],
   "source": [
    "# Generar los puntos para el gráfico\n",
    "x = np.linspace(-1, 3, 1000)  # Ajustar el rango de valores de x y aumentar la resolución\n",
    "\n",
    "# Evaluar la función exponencial directamente en los valores de x\n",
    "y1 = np.exp(x*np.log(3))\n",
    "y2 = np.exp(x)\n",
    "y3 = np.exp(x*np.log(2))\n",
    "\n",
    "# Graficar la función\n",
    "plt.plot(x, y1,label='$3^x$')\n",
    "plt.plot(x, y2,label='$e^x$')\n",
    "plt.plot(x, y3,label='$2^x$')\n",
    "plt.axhline(0, color='black', linewidth=0.5)  # Agregar una línea en y=0\n",
    "plt.xlabel('x')\n",
    "plt.ylabel('y')\n",
    "plt.legend()\n",
    "plt.title('Gráfico de la funciones exponenciales')\n",
    "plt.grid(True)\n",
    "plt.show()"
   ]
  },
  {
   "cell_type": "markdown",
   "metadata": {},
   "source": [
    "De la misma forma podemos realizar la gráfica de la función logarítmica en base 3, es decir\n",
    "\n",
    "$$f(x)=\\log_3(x),$$\n",
    "\n",
    "usando las propiedades de la función logarítmica y exponencial se puede reescribir la función de la siguiente manera:\n",
    "\n",
    "$$y=\\log_3(x),$$\n",
    "$$3^y=3^{\\log_3(x)}=x,$$\n",
    "$$\\ln(3^y)=\\ln(x),$$\n",
    "$$y\\ln(3)=\\ln(x),$$\n",
    "$$y=\\frac{\\ln(x)}{\\ln(3)},$$\n",
    "\n"
   ]
  },
  {
   "cell_type": "markdown",
   "metadata": {},
   "source": [
    "Usando el cálculo anterior se puede realizar la gráfica de la función logarítmica en base 3, en el intervalo $(0,\\infty)$, de la siguiente manera:"
   ]
  },
  {
   "cell_type": "code",
   "execution_count": null,
   "metadata": {},
   "outputs": [],
   "source": [
    "# Generar los puntos para el gráfico\n",
    "x = np.linspace(0.001, 3, 1000)  # Ajustar el rango de valores de x y aumentar la resolución\n",
    "\n",
    "# Evaluar la función exponencial directamente en los valores de x\n",
    "y = np.log(x)/np.log(3)\n",
    "\n",
    "# Graficar la función\n",
    "plt.plot(x, y)\n",
    "plt.axhline(0, color='black', linewidth=0.5)  # Agregar una línea en y=0\n",
    "plt.xlabel('x')\n",
    "plt.ylabel('y')\n",
    "plt.title('Gráfico de la función $log_3(x)$')\n",
    "plt.grid(True)\n",
    "plt.show()"
   ]
  },
  {
   "cell_type": "markdown",
   "metadata": {},
   "source": [
    "De esta forma podemos comparar varias funciones logarítmicas en el mismo gráfico y observar como se comportan en el mismo intervalo."
   ]
  },
  {
   "cell_type": "code",
   "execution_count": null,
   "metadata": {},
   "outputs": [],
   "source": [
    "# Generar los puntos para el gráfico\n",
    "x = np.linspace(0.001, 3, 1000)  # Ajustar el rango de valores de x y aumentar la resolución\n",
    "\n",
    "# Evaluar la función exponencial directamente en los valores de x\n",
    "y1 = np.log(x)/np.log(3)\n",
    "y2 = np.log(x)\n",
    "y3 = np.log(x)/np.log(2)\n",
    "\n",
    "# Graficar la función\n",
    "plt.plot(x, y1,label='$log_3x$')\n",
    "plt.plot(x, y2,label='$ln x$')\n",
    "plt.plot(x, y3,label='$log_2x$')\n",
    "plt.axhline(0, color='black', linewidth=0.5)  # Agregar una línea en y=0\n",
    "plt.xlabel('x')\n",
    "plt.ylabel('y')\n",
    "plt.legend()\n",
    "plt.title('Gráfico de la funciones exponenciales')\n",
    "plt.grid(True)\n",
    "plt.show()"
   ]
  },
  {
   "cell_type": "markdown",
   "metadata": {},
   "source": [
    "### Logaritmo en valor absoluto \n",
    "\n",
    "La función logaritmo esta definida en el intervalo $(0,\\infty)$ y no esta definida en el intervalo $(-\\infty,0)$, para poder definir la función logaritmo en el intervalo $(-\\infty,\\infty)-\\{0\\}$ se puede usar el valor absoluto de la función logaritmo, es decir\n",
    "\n",
    "$$f(x)=\\ln(|x|),$$\n",
    "\n",
    "para realizar la gráfica de esta función se puede usar el siguiente código:\n"
   ]
  },
  {
   "cell_type": "code",
   "execution_count": null,
   "metadata": {},
   "outputs": [],
   "source": [
    "# Generar los puntos para el gráfico\n",
    "x = np.linspace(-3, 3, 1000)  # Ajustar el rango de valores de x y aumentar la resolución\n",
    "\n",
    "# Evaluar la función exponencial directamente en los valores de x\n",
    "y = np.log(np.abs(x))\n",
    "\n",
    "# Graficar la función\n",
    "plt.plot(x, y)\n",
    "plt.axhline(0, color='black', linewidth=0.5)  # Agregar una línea en y=0\n",
    "plt.xlabel('x')\n",
    "plt.ylabel('y')\n",
    "plt.title('Gráfico de la función $ln|x|$')\n",
    "plt.grid(True)\n",
    "plt.show()"
   ]
  }
 ],
 "metadata": {
  "kernelspec": {
   "display_name": "class",
   "language": "python",
   "name": "python3"
  },
  "language_info": {
   "codemirror_mode": {
    "name": "ipython",
    "version": 3
   },
   "file_extension": ".py",
   "mimetype": "text/x-python",
   "name": "python",
   "nbconvert_exporter": "python",
   "pygments_lexer": "ipython3",
   "version": "3.12.3"
  }
 },
 "nbformat": 4,
 "nbformat_minor": 2
}

{
 "cells": [
  {
   "cell_type": "code",
   "execution_count": null,
   "metadata": {},
   "outputs": [],
   "source": [
    "import numpy as np\n",
    "import matplotlib.pyplot as plt\n",
    "from ipywidgets import interact, FloatSlider\n",
    "\n",
    "# Definimos una función que dibuja la gráfica y muestra los valores en un punto \"t\"\n",
    "def plot_costs(t_seleccionado):\n",
    "    # Definir el rango de valores para la curva completa de t\n",
    "    t = np.linspace(0, 20, 400)\n",
    "    \n",
    "    # Definir las funciones de costo\n",
    "    costo_interprase = 950000 + 5500 * t + 30000 + 25 * t\n",
    "    costo_soluciones = 1100000 + 150 * t + 50000 - 10 * t\n",
    "    costo_pepito     = -2000 * t**2 + 20000 * t + 1130000\n",
    "    \n",
    "    # Creamos la figura\n",
    "    plt.figure(figsize=(10, 6))\n",
    "    \n",
    "    # Graficamos cada función en todo el rango de t\n",
    "    plt.plot(t, costo_interprase, label='Interprase')\n",
    "    plt.plot(t, costo_soluciones, label='Soluciones Express')\n",
    "    plt.plot(t, costo_pepito, label='Pepito')\n",
    "    \n",
    "    # Calculamos el valor de cada función en el t seleccionado por el slider\n",
    "    valor_interprase = 950000 + 5500 * t_seleccionado + 30000 + 25 * t_seleccionado\n",
    "    valor_soluciones = 1100000 + 150 * t_seleccionado + 50000 - 10 * t_seleccionado\n",
    "    valor_pepito     = -2000 * t_seleccionado**2 + 20000 * t_seleccionado + 1130000\n",
    "    \n",
    "    # Dibujamos un punto en la gráfica para cada costo en el t seleccionado\n",
    "    plt.scatter(t_seleccionado, valor_interprase, color='blue')\n",
    "    plt.scatter(t_seleccionado, valor_soluciones, color='orange')\n",
    "    plt.scatter(t_seleccionado, valor_pepito, color='green')\n",
    "    \n",
    "    # Configuramos las etiquetas y título\n",
    "    plt.xlabel('Tiempo (años)')\n",
    "    plt.ylabel('Costo Total ($)')\n",
    "    plt.title('Comparación de Costos Totales')\n",
    "    plt.legend()\n",
    "    plt.grid(True)\n",
    "    \n",
    "    # Mostramos la gráfica\n",
    "    #plt.show()\n",
    "    \n",
    "    # Imprimimos los valores en la consola\n",
    "    print(f\"Para t = {t_seleccionado}:\")\n",
    "    print(f\"  - Interprase         : ${valor_interprase:,.2f}\")\n",
    "    print(f\"  - Soluciones Express : ${valor_soluciones:,.2f}\")\n",
    "    print(f\"  - Pepito             : ${valor_pepito:,.2f}\")\n",
    "\n",
    "# Usamos interact para crear el slider que controla t\n",
    "interact(\n",
    "    plot_costs, \n",
    "    t_seleccionado=FloatSlider(\n",
    "        value=0,      # Valor inicial del slider\n",
    "        min=0,        # Valor mínimo\n",
    "        max=20,       # Valor máximo\n",
    "        step=0.5,     # Incremento\n",
    "        description='Tiempo (t)'  # Etiqueta del slider\n",
    "    )\n",
    ")\n"
   ]
  },
  {
   "cell_type": "markdown",
   "metadata": {},
   "source": [
    "posible"
   ]
  },
  {
   "cell_type": "code",
   "execution_count": null,
   "metadata": {},
   "outputs": [],
   "source": [
    "\n",
    "# Importar funciones del backend\n",
    "from funcionsec3 import comparar_costos\n",
    "\n",
    "# PARÁMETROS (MODIFICAR SOLO ESTE VALOR)\n",
    "\n",
    "limite_pepito = 950_000  # Límite permitido para el costo de Pepito_Perez\n",
    "\n",
    "# LLAMADA A LA FUNCIÓN\n",
    "resultado = comparar_costos(limite_pepito)\n",
    "\n",
    "# MOSTRAR RESULTADOS\n",
    "if resultado[0] is not None:\n",
    "    t_max, costo_interprase_t, costo_soluciones_t = resultado\n",
    "    print(f\"El costo de Pepito_Perez alcanza el límite de ${limite_pepito:,} en t = {t_max:.2f} años.\")\n",
    "    print(f\"En ese tiempo:\")\n",
    "    print(f\"- Costo de Interprase: ${costo_interprase_t:,.2f}\")\n",
    "    print(f\"- Costo de Soluciones Express: ${costo_soluciones_t:,.2f}\")\n",
    "else:\n",
    "    print(\"El límite establecido no se alcanza en ningún tiempo positivo.\")"
   ]
  },
  {
   "cell_type": "markdown",
   "metadata": {},
   "source": [
    "#### 3.4.2.1 Manos a la obra "
   ]
  },
  {
   "cell_type": "markdown",
   "metadata": {},
   "source": [
    "1. **Comprender el problema.** En esta etapa se busca comprender bien el problema que se quiere resolver e identificar las variables, datos y reglas relevantes para solucionar el problema."
   ]
  },
  {
   "cell_type": "markdown",
   "metadata": {},
   "source": [
    "¿Qué significa que el costo de Pepito_Perez el estima que puede expresar matemáticamente el costo, en una ventana de 20 años?  \n",
    "*(Pista: Relaciona el límite con el tiempo $t$ en que se alcanza el costo límite y define la comparación con $C_I$ y $C_S$)* \n"
   ]
  },
  {
   "cell_type": "markdown",
   "metadata": {},
   "source": [
    "2. **Planear la solución.** En esta etapa se busca identificar los pasos necesarios para resolver el problema y seleccionar la mejor estrategia para hacerlo.\n",
    "\n"
   ]
  },
  {
   "cell_type": "markdown",
   "metadata": {},
   "source": [
    "¿Qué pasos necesitas para determinar el tiempo $t$ en que el costo de Pepito_Perez alcanza el límite y comparar ese tiempo con los costos de $C_I$ y $C_S$?  \n",
    "*(Pista: Usa la celda interactiva para resolver la ecuación cuadrática y obtener el tiempo $t$.)*  \n"
   ]
  },
  {
   "cell_type": "markdown",
   "metadata": {},
   "source": [
    "3. **Ejecutar el plan.** En esta etapa deberías ejecutar la estrategia identificada en el paso anterior usando herramientas matemáticas, posiblemente asistidas por software.\n"
   ]
  },
  {
   "cell_type": "markdown",
   "metadata": {},
   "source": [
    "Según el resultado de la celda interactiva, ¿en qué tiempo $t$ el costo de Pepito_Perez alcanza el límite $L$ y cuáles son los costos de Interprase y Soluciones Express en ese momento?  \n",
    "*(Pista: Observa las salidas de la celda para identificar $t, C_I$, y $C_S$.)* "
   ]
  },
  {
   "cell_type": "markdown",
   "metadata": {},
   "source": [
    "4. **Examinar la solución obtenida** Siempre que encuentres una solución de un problema es importante asegurarte que los resultados obtenido sean acordes  a las condiciones  iniciales del problema, factibles y en el caso contrario deberías regresar el primer paso."
   ]
  },
  {
   "cell_type": "markdown",
   "metadata": {},
   "source": [
    "Si cambias el valor límite $L$ en la celda interactiva, ¿cómo afecta esto el tiempo $t$ en que Pepito_Perez alcanza el límite y su comparación con $C_I$ y $C_S$?  \n",
    "*(Pista: Experimenta con diferentes valores de $L$y analiza cómo varían los tiempos y las comparaciones.)*\n"
   ]
  }
 ],
 "metadata": {
  "language_info": {
   "name": "python"
  }
 },
 "nbformat": 4,
 "nbformat_minor": 2
}

{
 "cells": [
  {
   "cell_type": "markdown",
   "metadata": {},
   "source": [
    "# Taller 3 de MMAF\n",
    "\n",
    "## A Ejercicios de repaso\n",
    "\n",
    "### A.1 Las fórmulas siguientes aparecen en todo tipo de aplicaciones. Despeje la variable indicada\n",
    "\n",
    "  1. $F=xg\\dfrac{mM}{d^2}$ Despeje $m$\n",
    "  \n",
    "  2.$S=2(lw+hw+hl)$ Despeje $h$\n",
    "  \n",
    "  3. $\\dfrac{(x^6y^3)^{-1/3}}{(x^4y^2)^{-1/2}}$\n",
    "  \n",
    "  4. $s=\\frac{1}{2}gt^2+v_0t$ Despje $v_0$\n",
    "\n",
    "### A.2 De la fórmula, despeje  la variable indicada\n",
    "\n",
    "  1. $\\beta=\\dfrac{\\alpha}{1-\\alpha}$ Despeje $\\alpha$\n",
    "  \n",
    "  2. $M=\\dfrac{Q+1}{Q}$ Despeje $Q$\n",
    "\n",
    "### A.3 Resuelva las ecuaciones:\n",
    "\n",
    "  1. $$\\dfrac{5}{2x+3}+\\dfrac{4}{2x-3}=\\dfrac{14x+3}{4x^2-9}$$\n",
    "  \n",
    "  2. $$\\dfrac{-3}{x+4}+\\dfrac{7}{x-4}=\\dfrac{-5x+4}{x^2-16}$$\n",
    "\n",
    "\n",
    "### A.4  Resuelva las siguientes desigualdades (todas son lineales, o se pueden reducir a lineales)\n",
    "\n",
    "  1. $2x+5<3x+7$\n",
    "  2. $4\\geq 3x+5>-1$\n",
    "  3. $(x-3)(x+3)\\geq (x+5)^2$\n",
    "  4. $2x(6x+5)<(3x-2)(4x+1)$\n",
    "\n",
    "### A.5 \n",
    "Si dos resistores  $R_1$ y $R_2$ se conectan en paralelo a un circuito eléctrico, la resistencia neta $R$ está dada por $$\\dfrac{1}{R}=\\dfrac{1}{R_1}+\\dfrac{1}{R_2}$$ si $R_1=10$, que valores de $R_2$ resultarán en una resistencia neta de menos de 5?\n",
    "\n",
    "### A.6 Resuelva las siguientes desigualdades (ya no son lineales)\n",
    "\n",
    "  1. $\\dfrac{(x+3)^2(2-x)}{(x+4)(x^2-4)}\\leq 0$\n",
    "  \n",
    "  2. $\\dfrac{x}{2x-1}\\geq\\dfrac{3}{x+2}$ (sugerencia : pase a restar uno de los términos al otro lado, operar algebraicamente para obtener una sola fracción y allí si usar el cementerio)\n",
    "  \n",
    "  3. $x^4\\leq x^2$ (sugerencia: igual que el punto anterior, pase un término al otro lado , factorice y allí si usar el cementerio)\n",
    "\n",
    "### A.6 Resuelva las ecuaciónes cuadrática utilizando la factorización (si es posible) y la fórmula cuadrática. Verifica primero el discriminante.\n",
    "\n",
    "  1. $ x^2 - 7x + 10 = 0 $ \n",
    "  2. $ 2x^2 + 5x - 3 = 0$\n",
    "  3. $ x^2 - 4x + 5 = 0$\n",
    "  4. $ 3x^2 - 2x - 1 = 0$\n",
    "  \n"
   ]
  },
  {
   "cell_type": "code",
   "execution_count": null,
   "metadata": {
    "vscode": {
     "languageId": "plaintext"
    }
   },
   "outputs": [],
   "source": [
    "import requests\n",
    "# URL del archivo\n",
    "url = \"https://raw.githubusercontent.com/abelalv/libreria_2025/refs/heads/main/MMAF.py\"\n",
    "# Descargar el archivo\n",
    "response = requests.get(url)\n",
    "with open('MMAF.py', 'w') as file:\n",
    "    file.write(response.text)\n",
    "\n",
    "from MMAF import resolver_ecuacion_cuadratica\n",
    "from MMAF import calcular_discriminante"
   ]
  },
  {
   "cell_type": "markdown",
   "metadata": {
    "vscode": {
     "languageId": "plaintext"
    }
   },
   "source": [
    "## B Ejercicios computacionales\n",
    "\n",
    "### B.1\n",
    " Resuelva las ecuaciónes cuadrática utilizando la fórmula cuadrática. Verifica primero el discriminante.\n",
    "\n",
    "  1. $ 3x^2 - 5x - 2 = 0 $ \n",
    "  2. $ 2x^2 + 4x + 1 = 0$\n",
    "  3. $ x^2 - 6x + 9 = 0$\n",
    "  4. $ 4x^2 + 4x + 5 = 0$\n",
    "\n",
    "**Note** deberas usar las funciones *calcular_discriminante* y *resolver_ecuacion_cuadratica*, puede ver la sección de [C.3](https://colab.research.google.com/github/abelalv/MMAF_2025/blob/main/seccion_3/MMAF_python_3.ipynb#scrollTo=C_3_Herramientas_computacionales_para_resolver_la_actividad_3_) para más información."
   ]
  }
 ],
 "metadata": {
  "language_info": {
   "name": "python"
  }
 },
 "nbformat": 4,
 "nbformat_minor": 2
}

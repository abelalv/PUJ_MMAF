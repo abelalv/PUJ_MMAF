{
 "cells": [
  {
   "cell_type": "markdown",
   "metadata": {},
   "source": [
    "# C.3 Herramientas computacionales para resolver la actividad 3. "
   ]
  },
  {
   "cell_type": "markdown",
   "metadata": {},
   "source": [
    "Acceso a la libreria"
   ]
  },
  {
   "cell_type": "code",
   "execution_count": 1,
   "metadata": {},
   "outputs": [],
   "source": [
    "import requests\n",
    "# URL del archivo\n",
    "url = \"https://raw.githubusercontent.com/abelalv/libreria_2025/refs/heads/main/MMAF.py\"\n",
    "# Descargar el archivo\n",
    "response = requests.get(url)\n",
    "with open('MMAF.py', 'w', encoding='utf-8') as file:\n",
    "    file.write(response.text)"
   ]
  },
  {
   "cell_type": "code",
   "execution_count": 2,
   "metadata": {},
   "outputs": [],
   "source": [
    "from MMAF import resolver_ecuacion_cuadratica, calcular_discriminante"
   ]
  },
  {
   "cell_type": "markdown",
   "metadata": {},
   "source": [
    "### C.3.1 Identificar los coeficientes\n",
    "\n",
    "Para usar la formula cuadratica primero deberas identificar los coeficientes $a$, $b$ y $c$ de la ecuación tipo $$ax^2 + bx + c = 0$$\n",
    "\n",
    "Usaremos el ejemplo a continuación para resolverlo en python. $$ 5x^2 - 6x + 1 = 0$$"
   ]
  },
  {
   "cell_type": "code",
   "execution_count": 3,
   "metadata": {},
   "outputs": [],
   "source": [
    "import math\n",
    "\n",
    "a = 5\n",
    "b = - 6\n",
    "c = 1"
   ]
  },
  {
   "cell_type": "markdown",
   "metadata": {},
   "source": [
    "Podras modificar estas celdas de codigo para probar otros ejercicios.\n",
    "### C.3.2 Evaluar el discriminante\n",
    "\n",
    "El discriminante nos ayudara a determinar si existen o no soluciones en los reales. $$discriminante = b^2 - 4*a*c$$"
   ]
  },
  {
   "cell_type": "code",
   "execution_count": 4,
   "metadata": {},
   "outputs": [
    {
     "name": "stdout",
     "output_type": "stream",
     "text": [
      "el discriminante es:  16\n"
     ]
    }
   ],
   "source": [
    "discriminante = b**2 - 4*a*c\n",
    "print(\"el discriminante es: \", discriminante)"
   ]
  },
  {
   "cell_type": "markdown",
   "metadata": {},
   "source": [
    "Otra forma de hacerlo es con la funcion *calcular_discriminante* ya implementada en la libreria del curso"
   ]
  },
  {
   "cell_type": "code",
   "execution_count": 5,
   "metadata": {},
   "outputs": [
    {
     "name": "stdout",
     "output_type": "stream",
     "text": [
      "discriminante:  16\n",
      "el discriminante es:  16\n"
     ]
    }
   ],
   "source": [
    "discriminante = calcular_discriminante(a, b, c)\n",
    "print(\"el discriminante es: \", discriminante)"
   ]
  },
  {
   "cell_type": "markdown",
   "metadata": {},
   "source": [
    "**Note** Si deseas ver la construccion y un ejemplo de uso de las funciones *Calcular_Discriminante* y *Resolver_Ecuacion_Cuadratica*, puedes ver el [video](https://ujaverianacali.hosted.panopto.com/Panopto/Pages/Viewer.aspx?id=d68870ff-3c37-418c-a8d1-b28b01500ada) para más información."
   ]
  },
  {
   "cell_type": "markdown",
   "metadata": {},
   "source": [
    "### C.3.3 Resolver la ecuación\n",
    "Resolver la ecuación $ax^2 + bx + c = 0$ usando la formula cuadratica \n",
    "$$\n",
    "x = \\frac{-b \\pm \\sqrt{b^2 - 4ac}}{2a}\n",
    "$$"
   ]
  },
  {
   "cell_type": "code",
   "execution_count": 6,
   "metadata": {},
   "outputs": [
    {
     "name": "stdout",
     "output_type": "stream",
     "text": [
      "las soluciones son  1.0 y 0.2\n"
     ]
    }
   ],
   "source": [
    "x1 = (-b + math.sqrt(discriminante)) / (2*a)\n",
    "x2 = (-b - math.sqrt(discriminante)) / (2*a)\n",
    "\n",
    "print(\"las soluciones son \", x1, \"y\", x2)"
   ]
  },
  {
   "cell_type": "markdown",
   "metadata": {},
   "source": [
    "Otra forma de hacerlo es con la funcion *resolver_ecuacion_cuadratica* ya implementada en la libreria del curso"
   ]
  },
  {
   "cell_type": "code",
   "execution_count": 7,
   "metadata": {},
   "outputs": [
    {
     "name": "stdout",
     "output_type": "stream",
     "text": [
      "discriminante:  16\n",
      "las soluciones son:  1.0 y 0.2\n",
      "las soluciones son  1.0 y 0.2\n"
     ]
    }
   ],
   "source": [
    "x1, x2 = resolver_ecuacion_cuadratica(a, b, c)\n",
    "print(\"las soluciones son \", x1, \"y\", x2)"
   ]
  },
  {
   "cell_type": "markdown",
   "metadata": {},
   "source": [
    "### C.3.4 Comprobar los resultados\n",
    "Para comprobar los resultados al evaluar ambas soluciones en la ecuación $ax^2 + bx + c $ deberia ser igual a $0$"
   ]
  },
  {
   "cell_type": "code",
   "execution_count": 9,
   "metadata": {},
   "outputs": [
    {
     "name": "stdout",
     "output_type": "stream",
     "text": [
      "los resultados de las comprobaciones fueron:  0 y 0\n"
     ]
    }
   ],
   "source": [
    "comprobacion_sol1 = round(5*(x1)**2 - 6*(x1) + 1)\n",
    "comprobacion_sol2 = round(5*(x2)**2 - 6*(x2) + 1)\n",
    "\n",
    "print(\"los resultados de las comprobaciones fueron: \", comprobacion_sol1, \"y\", comprobacion_sol2)"
   ]
  }
 ],
 "metadata": {
  "kernelspec": {
   "display_name": "Python 3",
   "language": "python",
   "name": "python3"
  },
  "language_info": {
   "codemirror_mode": {
    "name": "ipython",
    "version": 3
   },
   "file_extension": ".py",
   "mimetype": "text/x-python",
   "name": "python",
   "nbconvert_exporter": "python",
   "pygments_lexer": "ipython3",
   "version": "3.12.4"
  }
 },
 "nbformat": 4,
 "nbformat_minor": 2
}

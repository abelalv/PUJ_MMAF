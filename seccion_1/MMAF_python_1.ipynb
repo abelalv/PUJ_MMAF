{
 "cells": [
  {
   "cell_type": "markdown",
   "metadata": {},
   "source": [
    "# C.1 Herramientas computacionales para resolver la actividad 1. "
   ]
  },
  {
   "cell_type": "markdown",
   "metadata": {},
   "source": [
    "--Video de mas o menos 3:00 minutos de duración\n",
    "### C.1.1 Video de como ingresar a Colab\n",
    "### C.1.2 Video de como ejecutar un código en las celdas de Código y escribir en las celdas de texto\n",
    "### C.1.3 Video de como guardar un archivo de Colab\n",
    "### C.1.4 Video explicación de introducción de comandos a python, como sumar, variables imprimir e importar librerías\n"
   ]
  },
  {
   "cell_type": "markdown",
   "metadata": {},
   "source": [
    "### C.1.5 Operaciones con números"
   ]
  },
  {
   "cell_type": "markdown",
   "metadata": {},
   "source": [
    "Python  puede ser usado como una calculadora. Por ejemplo, si queremos sumar dos números, simplemente escribimos el siguiente código:\n"
   ]
  },
  {
   "cell_type": "code",
   "execution_count": null,
   "metadata": {},
   "outputs": [],
   "source": [
    "2*3"
   ]
  },
  {
   "cell_type": "code",
   "execution_count": null,
   "metadata": {},
   "outputs": [],
   "source": [
    "2-7"
   ]
  },
  {
   "cell_type": "code",
   "execution_count": 1,
   "metadata": {},
   "outputs": [
    {
     "data": {
      "text/plain": [
       "0.6666666666666666"
      ]
     },
     "execution_count": 1,
     "metadata": {},
     "output_type": "execute_result"
    }
   ],
   "source": [
    "2/3"
   ]
  },
  {
   "cell_type": "markdown",
   "metadata": {},
   "source": [
    "El resultado de las ejecuciones de las operaciones se calcula al presionar el botón que aparece en la esquina superior izquierda de la caja que agrupa el código. A esta caja se le denomina **celda**. Note que en estos casos la celda solo imprime la última línea de código. En el caso que en la misma celda se escriban varias instrucciones `print`, se imprimirá cada una de ellas en una línea diferente. \n",
    "\n",
    "\n",
    "\n",
    "\n"
   ]
  },
  {
   "cell_type": "code",
   "execution_count": 2,
   "metadata": {},
   "outputs": [
    {
     "name": "stdout",
     "output_type": "stream",
     "text": [
      "6\n",
      "-5\n",
      "0.6666666666666666\n"
     ]
    }
   ],
   "source": [
    "print(2*3)\n",
    "print(2-7)\n",
    "print(2/3)"
   ]
  },
  {
   "cell_type": "markdown",
   "metadata": {},
   "source": [
    "Adicionalmente, podemos agregar texto  al comando print\n"
   ]
  },
  {
   "cell_type": "code",
   "execution_count": 3,
   "metadata": {},
   "outputs": [
    {
     "name": "stdout",
     "output_type": "stream",
     "text": [
      "el resultado de la multiplicación es: 6\n"
     ]
    }
   ],
   "source": [
    "print(\"el resultado de la multiplicación es:\", 2*3)"
   ]
  },
  {
   "cell_type": "markdown",
   "metadata": {},
   "source": [
    "Python respeta reglas matemáticas, (como en una calculadora) y no realiza operaciones de manera arbitraria. Por ejemplo, si intentaramos dividir por cero, Python nos arrojará un error,"
   ]
  },
  {
   "cell_type": "code",
   "execution_count": 4,
   "metadata": {},
   "outputs": [
    {
     "ename": "ZeroDivisionError",
     "evalue": "division by zero",
     "output_type": "error",
     "traceback": [
      "\u001b[0;31m---------------------------------------------------------------------------\u001b[0m",
      "\u001b[0;31mZeroDivisionError\u001b[0m                         Traceback (most recent call last)",
      "Cell \u001b[0;32mIn[4], line 1\u001b[0m\n\u001b[0;32m----> 1\u001b[0m \u001b[38;5;241;43m1\u001b[39;49m\u001b[38;5;241;43m/\u001b[39;49m\u001b[38;5;241;43m0\u001b[39;49m\n",
      "\u001b[0;31mZeroDivisionError\u001b[0m: division by zero"
     ]
    }
   ],
   "source": [
    "1/0"
   ]
  },
  {
   "cell_type": "markdown",
   "metadata": {},
   "source": [
    "Con la ayuda de Python, también es posible realizar otras operaciones como la potenciación. Para ello se usa el operador `**`. En la siguiente celda se encuentra un fragmento de código que muestra la evaluación de $2^3$:\n",
    "\n"
   ]
  },
  {
   "cell_type": "code",
   "execution_count": null,
   "metadata": {},
   "outputs": [],
   "source": [
    "print(2**3) # Note que a partir de # se indica un comentario y no se ejecuta, se puede hacer comentarios en cualquier parte del código. Además es de color verde."
   ]
  },
  {
   "cell_type": "markdown",
   "metadata": {},
   "source": [
    "### C.1.6 Importar librerías\n",
    "Python soporta una gran cantidad de operaciones aritméticas de manera directa. Adicionalmente, ofrece una librería que agrupa otra cantidad significativa de operaciones aritméticas o con números, incluyendo operaciones trigonométricas. Esta librería es denominada `math`.\n",
    "\n",
    "Como se muestra en la siguiente celda, se pueden usar las operaciones básicas y las que suministra `math` indistintamente en una misma celda de código. Para usar las operaciones suministradas por esta librería, se debe anteponer el prefijo `math.` al nombre de la operación."
   ]
  },
  {
   "cell_type": "code",
   "execution_count": 5,
   "metadata": {},
   "outputs": [
    {
     "name": "stdout",
     "output_type": "stream",
     "text": [
      "2.0\n",
      "2.0\n",
      "4\n"
     ]
    }
   ],
   "source": [
    "import math                     # importar librería math\n",
    "a=4\n",
    "b=-4\n",
    "print(a**(1/2))                 # operación potencia\n",
    "print(math.sqrt(a))             # operación raíz cuadrada desde math\n",
    "print(abs(b))                   # operación valor absoluto \n"
   ]
  },
  {
   "cell_type": "markdown",
   "metadata": {},
   "source": [
    "Las dos primeras operaciones corresponden al cálculo de la raíz cuadrada: en la primera línea se calcula directamente usando la instrucción de exponenciación (y la identidad $\\sqrt{4}=4^{\\frac{1}{2}}$), mientras que en la segunda línea este valor se calcula usando la función `sqrt` de `math` específicamente implementada para ello. La tercera línea muestra el resultado de calcular el valor absoluto $|-4|$ de $-4$ sin usar la librería `math`."
   ]
  },
  {
   "cell_type": "markdown",
   "metadata": {},
   "source": [
    "### C.1.7 Notación científica"
   ]
  },
  {
   "cell_type": "markdown",
   "metadata": {},
   "source": [
    "La notación científica es una forma compacta de representar números. Es especialmente útil cuando los números son muy grandes o muy pequeños.\n",
    "\n",
    "En la notación científica un número se escribe como el producto de un número entre 1 y 9, y una potencia de 10. Por ejemplo, el número $3000000$ se puede escribir como $3 \\times 10^6$ en notación científica. En Python, se usa la letra `e` para indicar la potencia de 10 que identifica al número. Por ejemplo, este número se escribiría como `3e6`, que es una representación compacta.\n",
    "\n",
    "La siguiente celda contiene ejemplos de algunos números escritos en notación científica usando el lenguaje de programación Python."
   ]
  },
  {
   "cell_type": "code",
   "execution_count": null,
   "metadata": {},
   "outputs": [
    {
     "name": "stdout",
     "output_type": "stream",
     "text": [
      "3000000\n",
      "3.000000e+06\n",
      "3.00e+06\n"
     ]
    }
   ],
   "source": [
    "a=3000000\n",
    "print(a)\n",
    "print('{0:1e}'.format(a))\n",
    "print('{0:1.2e}'.format(a))"
   ]
  },
  {
   "cell_type": "markdown",
   "metadata": {},
   "source": [
    "Los tres casos muestran representaciones de $3 \\times 10^6$. En el primer caso se despliega este número sin ningún formato específico y, en consecuencia, Python usa la representación por defecto para números sin decimales.\n",
    "En la segunda línea se usa un formato específico con un dígito de unidad y seis cifras decimales (la cantidad de ceros después del punto de unidades), mientras que en la tercera se usan un dígito de unidad y dos cifras decimales."
   ]
  },
  {
   "cell_type": "markdown",
   "metadata": {},
   "source": [
    "### C.1.8 Operaciones en notación científica"
   ]
  },
  {
   "cell_type": "markdown",
   "metadata": {},
   "source": [
    "Para sumar o restar dos números en notación científica, **matemáticamente** primero se escriben los números en la misma potencia de 10 y luego se operan las unidades. Por ejemplo, si se desea sumar $3 \\times 10^6$ y $2 \\times 10^5$, primero se escriben los números en la misma potencia de 10 y luego se suman los números, por último se ajusta al formato de notación científica. En Python, esto se puede hacer directamente, como muestra la celda siguiente.\n",
    "\n"
   ]
  },
  {
   "cell_type": "code",
   "execution_count": null,
   "metadata": {},
   "outputs": [],
   "source": [
    "a=3e6\n",
    "b=2e5\n",
    "print(a+b)\n",
    "print('{0:1.2e}'.format(a+b))       # Usando formato de notación científica"
   ]
  },
  {
   "cell_type": "markdown",
   "metadata": {},
   "source": [
    "Para multiplicar o dividir dos números en notación científica, **matemáticamente** primero se multiplican o dividen los *números* entre 1 y 9, y luego se suman o restan las potencias de 10. Por ejemplo, si queremos multiplicar $3 \\times 10^6$ y $2 \\times 10^5$, primero se multiplican $3$ y $2$, y luego se suman $6$ y $5$ al ser sus potencias de $10$, respectivamente. Al igual que con la suma y la resta, estas operaciones pueden hacerse directamente en Python."
   ]
  },
  {
   "cell_type": "code",
   "execution_count": null,
   "metadata": {},
   "outputs": [],
   "source": [
    "a=3e6\n",
    "b=2e5\n",
    "print(a*b)\n",
    "print('{0:1.2e}'.format(a*b))       # Usando formato de notación científica"
   ]
  },
  {
   "cell_type": "markdown",
   "metadata": {},
   "source": [
    "### C.1.9 Variables\n",
    "El lenguaje de programación Python permite representar números y operarlos aritméticamente de manera sencilla. Por ejemplo, el siguiente fragmento de código imprime la suma, multiplicación y división de dos variables numéricas, `a` y `b`, cuyos valores iniciales son 5 y 3, respectivamente. La instrucción `print` se usa para mostrar el resultado de evaluar una expresión dada."
   ]
  },
  {
   "cell_type": "code",
   "execution_count": null,
   "metadata": {},
   "outputs": [
    {
     "name": "stdout",
     "output_type": "stream",
     "text": [
      "8\n",
      "15\n",
      "1.6666666666666667\n"
     ]
    }
   ],
   "source": [
    "a=5\n",
    "b=3\n",
    "print(a+b)\n",
    "print(a*b)\n",
    "print(a/b)"
   ]
  },
  {
   "cell_type": "markdown",
   "metadata": {},
   "source": [
    "El resultado de la ejecución del fragmento de código inicial se calcula al presionar el botón que aparece en la esquina superior izquierda de la caja que agrupa el código. A esta caja se le denomina **celda**. En el caso anterior, cada instrucción `print` en la celda genera una línea de respuesta."
   ]
  },
  {
   "cell_type": "markdown",
   "metadata": {},
   "source": [
    "Tal y como sucede al operar matemáticamente con números, en un lenguaje de programación como Python tampoco es permitido efectuar divisiones cuando el divisor es 0. Al tratar de efectuar una operación así, la ejecución de la instrucción correspondiente resulta en un error de ejecución."
   ]
  }
 ],
 "metadata": {
  "kernelspec": {
   "display_name": "class",
   "language": "python",
   "name": "python3"
  },
  "language_info": {
   "codemirror_mode": {
    "name": "ipython",
    "version": 3
   },
   "file_extension": ".py",
   "mimetype": "text/x-python",
   "name": "python",
   "nbconvert_exporter": "python",
   "pygments_lexer": "ipython3",
   "version": "3.12.3"
  }
 },
 "nbformat": 4,
 "nbformat_minor": 2
}

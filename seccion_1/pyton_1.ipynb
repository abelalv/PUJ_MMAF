{
 "cells": [
  {
   "cell_type": "markdown",
   "metadata": {},
   "source": [
    "## 1.5 Trabajando con Python"
   ]
  },
  {
   "cell_type": "markdown",
   "metadata": {},
   "source": [
    "### Operaciones con números"
   ]
  },
  {
   "cell_type": "markdown",
   "metadata": {},
   "source": [
    "El lenguaje de programación Python permite representar números y operarlos aritméticamente de manera sencilla. Por ejemplo, el siguiente fragmento de código imprime la suma, multiplicación y división de dos variables numéricas, `a` y `b`, cuyos valores iniciales son 5 y 3, respectivamente. La instrucción `print` se usa para mostrar el resultado de evaluar una expresión dada."
   ]
  },
  {
   "cell_type": "code",
   "execution_count": null,
   "metadata": {},
   "outputs": [],
   "source": [
    "a=5\n",
    "b=3\n",
    "print(a+b)\n",
    "print(a*b)\n",
    "print(a/b)"
   ]
  },
  {
   "cell_type": "markdown",
   "metadata": {},
   "source": [
    "El resultado de la ejecución del fragmento de código inicial se calcula al presionar el botón que aparece en la esquina superior izquierda de la caja que agrupa el código. A esta caja se le denomina **celda**. En el caso anterior, cada instrucción `print` en la celda genera una línea de respuesta."
   ]
  },
  {
   "cell_type": "markdown",
   "metadata": {},
   "source": [
    "Tal y como sucede al operar matemáticamente con números, en un lenguaje de programación como Python tampoco es permitido efectuar divisiones cuando el divisor es 0. Al tratar de efectuar una operación así, la ejecución de la instrucción correspondiente resulta en un error de ejecución."
   ]
  },
  {
   "cell_type": "code",
   "execution_count": null,
   "metadata": {},
   "outputs": [],
   "source": []
  },
  {
   "cell_type": "code",
   "execution_count": null,
   "metadata": {},
   "outputs": [],
   "source": [
    "1/0"
   ]
  },
  {
   "cell_type": "markdown",
   "metadata": {},
   "source": [
    "En particular, la ejecución de la celda anterior indica que el error de ejecución es de tipo `ZeroDivisionError` y proporciona información adicional de la instrucción que generó dicho error, como la ubicación de la línea de código que origina el error (en este caso la línea 1) y la expresión que concretamente genera el error (en este caso, dividir 1 entre 0)."
   ]
  },
  {
   "cell_type": "markdown",
   "metadata": {},
   "source": [
    "Con la ayuda de Python, también es posible realizar otras operaciones como la potenciación. Para ello se usa el operador `**`. En la siguiente celda se encuentra un fragmento de código que muestra la evaluación de $2^3$:\n",
    "\n"
   ]
  },
  {
   "cell_type": "code",
   "execution_count": null,
   "metadata": {},
   "outputs": [],
   "source": [
    "print(2**3)"
   ]
  },
  {
   "cell_type": "markdown",
   "metadata": {},
   "source": [
    "Python soporta una gran cantidad de operaciones aritméticas de manera directa. Adicionalmente, ofrece una librería que agrupa otra cantidad significativa de operaciones aritméticas o con números, incluyendo operaciones trigonométricas. Esta librería es denominada `math`.\n",
    "\n",
    "Como se muestra en la siguiente celda, se pueden usar las operaciones básicas y las que suministra `math` indistintamente en una misma celda de código. Para usar las operaciones suministradas por esta liberería, se debe anteponer el prefijo `math.` al nombre de la operación."
   ]
  },
  {
   "cell_type": "code",
   "execution_count": null,
   "metadata": {},
   "outputs": [],
   "source": [
    "import math                     # importar librería math\n",
    "a=4\n",
    "b=-4\n",
    "print(a**(1/2))                 # operación potencia\n",
    "print(math.sqrt(a))             # operación raíz cuadrada desde math\n",
    "print(abs(b))                   # operación valor absoluto \n"
   ]
  },
  {
   "cell_type": "markdown",
   "metadata": {},
   "source": [
    "Las dos primeras operaciones corresponden al cálculo de la raíz cuadrada: en la primera línea se calcula directamente usando la instrucción de exponenciación (y la identidad $\\sqrt{4}=4^{\\frac{1}{2}}$), mientras que en la segunda línea este valor se calcula usando la función `sqrt` de `math` específicamente implementada para ello. La tercera línea muestra el resultado de calcular el valor absoluto $|-4|$ de $-4$ sin usar la librería `math`."
   ]
  },
  {
   "cell_type": "markdown",
   "metadata": {},
   "source": [
    "### Notación científica"
   ]
  },
  {
   "cell_type": "markdown",
   "metadata": {},
   "source": [
    "La notación científica es una forma compacta de representar números. Es especialmente útil cuando los números son muy grandes o muy pequeños.\n",
    "\n",
    "En la notación científica un número se escribe como el producto de un número entre 1 y 9, y una potencia de 10. Por ejemplo, el número $3000000$ se puede escribir como $3 \\times 10^6$ en notación científica. En Python, se usa la letra `e` para indicar la potencia de 10 que identifica al número. Por ejemplo, este número se escribiría como `3e6`, que es una representación compacta.\n",
    "\n",
    "La siguiente celda contiene ejemplos de algunos números escritos en notación científica usando el lenguaje de programación Python."
   ]
  },
  {
   "cell_type": "code",
   "execution_count": null,
   "metadata": {},
   "outputs": [],
   "source": [
    "a=3000000\n",
    "print(a)\n",
    "print('{0:1e}'.format(a))\n",
    "print('{0:1.2e}'.format(a))"
   ]
  },
  {
   "cell_type": "markdown",
   "metadata": {},
   "source": [
    "Los tres casos muestran representaciones de $3 \\times 10^6$. En el primer caso se despliega este número sin ningún formato específico y, en consecuencia, Python usa la representación por defecto para números sin decimales.\n",
    "En la segunda línea se usa un formato específico con un dígito de unidad y seis cifras decimales (la cantidad de ceros después del punto de unidades), mientras que en la tercera se usan un dígito de unidad y dos cifras decimales."
   ]
  },
  {
   "cell_type": "markdown",
   "metadata": {},
   "source": [
    "#### Suma y resta"
   ]
  },
  {
   "cell_type": "markdown",
   "metadata": {},
   "source": [
    "Para sumar o restar dos números en notación científica, **matemáticamente** primero se escriben los números en la misma potencia de 10 y luego se operan las unidades. Por ejemplo, si se desea sumar $3 \\times 10^6$ y $2 \\times 10^5$, primero se escriben los números en la misma potencia de 10 y luego se suman los números, por último se ajusta al formato de notación científica. En Python, esto se puede hacer directamente, como muestra la celda siguiente.\n",
    "\n"
   ]
  },
  {
   "cell_type": "code",
   "execution_count": null,
   "metadata": {},
   "outputs": [],
   "source": [
    "a=3e6\n",
    "b=2e5\n",
    "print(a+b)\n",
    "print('{0:1.2e}'.format(a+b))       # Usando formato de notación científica"
   ]
  },
  {
   "cell_type": "markdown",
   "metadata": {},
   "source": [
    "#### Multiplicación y división"
   ]
  },
  {
   "cell_type": "markdown",
   "metadata": {},
   "source": [
    "Para multiplicar o dividir dos números en notación científica, **matemáticamente** primero se multiplican o dividen los *números* entre 1 y 9, y luego se suman o restan las potencias de 10. Por ejemplo, si queremos multiplicar $3 \\times 10^6$ y $2 \\times 10^5$, primero se multiplican $3$ y $2$, y luego se suman $6$ y $5$ al ser sus potencias de $10$, respectivamente. Al igual que con la suma y la resta, estas operaciones pueden hacerse directamente en Python."
   ]
  },
  {
   "cell_type": "code",
   "execution_count": null,
   "metadata": {},
   "outputs": [],
   "source": [
    "a=3e6\n",
    "b=2e5\n",
    "print(a*b)\n",
    "print('{0:1.2e}'.format(a*b))       # Usando formato de notación científica"
   ]
  },
  {
   "cell_type": "markdown",
   "metadata": {},
   "source": [
    "### Números racionales\n",
    "  "
   ]
  },
  {
   "cell_type": "markdown",
   "metadata": {},
   "source": [
    "Existen limitaciones  al representar números en un computador, puesto que sólo es posible construir representaciones exactas de un conjunto **finito de números**, y no de todos los números reales. Esto ocurre en cualquier lenguaje de programación, incluyendo Python. Por ello es importante tener cuidado cuando se realizan operaciones con números decimales, ya que en la inmensa mayoría de los casos no se obtiene una representación exacta del número deseado, lo cual, genera errores de precisión, que se pueden acumular en la medida que se hagan muchas operaciones.\n",
    "\n",
    "En los lenguajes de programación, como Python, se usan números decimales  para hacer operaciones aritméticas. Sin embargo, en ocasiones es deseable trabajar con números racionales, es decir, números de la forma $\\frac{a}{b}$ con $a$ y $b$ enteros y $b$ diferente de cero. Por ejemplo, el número $\\frac{1}{3}$, se puede representar en Python, con la librería `fractions` que permite trabajar con este tipo de números.\n",
    "\n",
    "El siguiente fragmento de código, que no es necesario que entienda, define dos funciones que permiten sumar y multiplicar fracciones usando `fractions`, y detectar cuándo se está tratando de definir u operar una fracción con denominador $0$ (lo cual no es permitido).\n"
   ]
  },
  {
   "cell_type": "markdown",
   "metadata": {},
   "source": [
    "#### Suma y resta"
   ]
  },
  {
   "cell_type": "markdown",
   "metadata": {},
   "source": [
    "La siguiente celda permite calcular la suma $$\\frac{a}{b} + \\frac{c}{d}$$ cuando, de manera interactiva, se escogen los valores de $a,b,c$ y $d$."
   ]
  },
  {
   "cell_type": "code",
   "execution_count": null,
   "metadata": {},
   "outputs": [],
   "source": [
    "import libreria1 as li\n",
    "from IPython.display import display\n",
    "import ipywidgets as widgets\n",
    "# crear un widget interactivo para la gráfica\n",
    "exp_widget = widgets.interactive(li.sumar_fracciones, a=li.a_slider, b=li.b_slider, c=li.c_slider, d=li.d_slider)\n",
    "\n",
    "# Mostrar el widget\n",
    "display(exp_widget)"
   ]
  },
  {
   "cell_type": "markdown",
   "metadata": {},
   "source": [
    "#### Multiplicación y división"
   ]
  },
  {
   "cell_type": "markdown",
   "metadata": {},
   "source": [
    "La siguiente celda permite calcular el producto $$\\frac{a}{b}\\times \\frac{c}{d}$$ cuando, de manera interactiva, se escogen los valores de $a,b,c$ y $d$."
   ]
  },
  {
   "cell_type": "code",
   "execution_count": null,
   "metadata": {},
   "outputs": [],
   "source": [
    "import libreria1 as li\n",
    "from IPython.display import display\n",
    "import ipywidgets as widgets\n",
    "\n",
    "# Crear un widget interactivo para la gráfica\n",
    "exp_widget = widgets.interactive(li.multiplicar_fracciones, a=li.a_slider, b=li.b_slider, c=li.c_slider,d=li.d_slider)\n",
    "\n",
    "# Mostrar el widget\n",
    "display(exp_widget)"
   ]
  },
  {
   "cell_type": "code",
   "execution_count": null,
   "metadata": {},
   "outputs": [],
   "source": []
  },
  {
   "cell_type": "markdown",
   "metadata": {},
   "source": [
    "### Ejercicios de apropiación y aplicación\n",
    "\n",
    "1. Determine los siguientes valores:\n",
    "\n",
    "* La parte entera de $3.14$.\n",
    "* El techo de $3.14$.\n",
    "* El piso de $3.14$.\n",
    "\n",
    "2. Realice las siguientes operaciones con números en notación científica:\n",
    "\n",
    "* $(5 \\times 10^6) + (4 \\times 10^5)$.\n",
    "* $(5 \\times 10^6) - (4 \\times 10^5)$.\n",
    "* $(5 \\times 10^6) \\times (4 \\times 10^5)$.\n",
    "* $(5 \\times 10^6) / (4 \\times 10^5)$.\n",
    "\n",
    "3. Realice las siguientes operaciones con números racionales:\n",
    "\n",
    "* $\\dfrac{3}{4} + \\dfrac{2}{3}$.\n",
    "\n",
    "* $\\dfrac{1}{5} - \\dfrac{2}{3}$.\n",
    "\n",
    "* $\\dfrac{3}{4} \\times \\dfrac{2}{3}$.\n",
    "\n",
    "* $\\dfrac{3}{4} \\div \\dfrac{2}{3}$.\n",
    "\n"
   ]
  }
 ],
 "metadata": {
  "language_info": {
   "name": "python"
  }
 },
 "nbformat": 4,
 "nbformat_minor": 2
}

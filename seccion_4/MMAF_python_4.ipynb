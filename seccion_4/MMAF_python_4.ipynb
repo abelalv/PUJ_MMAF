{
 "cells": [
  {
   "cell_type": "markdown",
   "metadata": {},
   "source": [
    "# C.3 Herramientas computacionales para resolver la actividad 4. "
   ]
  },
  {
   "cell_type": "markdown",
   "metadata": {},
   "source": []
  },
  {
   "cell_type": "markdown",
   "metadata": {},
   "source": [
    "### C.3.1 Visualización de datos en Python\n",
    "\n",
    "En Python es posible visualizar datos de manera sencilla utilizando la librería `matplotlib`. La construcción de gráficos en Python corresponde a la misma idea de construir gráficos en papel, es decir, se debe definir un sistema de coordenadas y luego ubicar los puntos que se desean graficar.\n",
    "En el siguiente ejemplo se muestra una representación gráfica del plano cartesiano en Python.\n",
    "\n"
   ]
  },
  {
   "cell_type": "code",
   "execution_count": null,
   "metadata": {},
   "outputs": [
    {
     "data": {
      "text/plain": [
       "2.8284271247461903"
      ]
     },
     "execution_count": 1,
     "metadata": {},
     "output_type": "execute_result"
    }
   ],
   "source": [
    "import matplotlib.pyplot as plt\n",
    "import numpy as np\n",
    "\n",
    "# Crear una figura y un conjunto de subtramas\n",
    "fig, ax = plt.subplots()\n",
    "\n",
    "# Dibujar los ejes\n",
    "ax.axhline(0, color='black',linewidth=0.5)\n",
    "ax.axvline(0, color='black',linewidth=0.5)\n",
    "\n",
    "# Configurar los límites de los ejes\n",
    "ax.set_xlim([-10, 10])\n",
    "ax.set_ylim([-10, 10])\n",
    "\n",
    "# Etiquetar los ejes\n",
    "ax.set_xlabel(\"Eje X\")\n",
    "ax.set_ylabel(\"Eje Y\")\n",
    "\n",
    "# Etiquetar las regiones del plano cartesiano\n",
    "plt.text(5, 5, 'I', fontsize=12)\n",
    "plt.text(-5, 5, 'II', fontsize=12)\n",
    "plt.text(-5, -5, 'III', fontsize=12)\n",
    "plt.text(5, -5, 'IV', fontsize=12)\n",
    "\n",
    "# Mostrar la gráfica\n",
    "plt.show()\n"
   ]
  },
  {
   "cell_type": "markdown",
   "metadata": {},
   "source": [
    "Los dos primeras líneas de código son instrucciones de importación en Python. Están importando dos bibliotecas muy utilizadas en el análisis de datos y la visualización: matplotlib.pyplot y numpy.\n",
    "\n",
    "La primera línea, `import matplotlib.pyplot as plt`, importa el módulo pyplot de la biblioteca matplotlib. matplotlib es una biblioteca para la creación de gráficos estáticos, animados e interactivos en Python. `pyplot` es un módulo de `matplotlib` que permite controlar muchas características de las gráficas. El as plt es un alias, lo que significa que en lugar de tener que escribir `matplotlib.pyplot` cada vez que quieras usar una función de este módulo, puedes escribir simplemente plt.\n",
    "\n",
    "La segunda línea, `import numpy as np`, importa la biblioteca numpy. numpy es una biblioteca para trabajar con  números de todo tipo, y proporciona una gran cantidad de funciones matemáticas útiles. Al igual que con matplotlib.pyplot, se utiliza un alias para simplificar el código, por lo que puedes usar np en lugar de numpy para acceder a las funciones y características de numpy.\n",
    "\n",
    "Estas dos bibliotecas son fundamentales en el análisis y la visualización de datos en Python, y es muy común verlas importadas juntas al inicio de los scripts de Python en este campo."
   ]
  },
  {
   "cell_type": "markdown",
   "metadata": {},
   "source": [
    "La línea de código `fig, ax = plt.subplots()` es una forma común de iniciar una figura y un conjunto de ejes en Matplotlib, una biblioteca de visualización de datos en Python.\n",
    "\n",
    "`plt.subplots()` es una función que devuelve una tupla que contiene una figura y ejes. Aquí, fig y ax son simplemente las variables a las que se asignan la figura y los ejes, respectivamente. Puedes pensar en la \"figura\" como el contenedor que contiene los \"ejes\" (donde se dibujan los gráficos).\n",
    "\n",
    "Por defecto, `plt.subplots()` crea una figura con un solo gráfico. Si necesitas más gráficos en la misma figura, puedes especificar el número de filas y columnas como argumentos. Por ejemplo, `plt.subplots(2, 2)` crearía una figura con 4 gráficos, dispuestos en 2 filas y 2 columnas.\n",
    "\n",
    "Una vez que tienes la figura y los ejes, puedes empezar a dibujar en ellos usando métodos como `ax.plot()`, `ax.scatter()`, etc. También puedes ajustar las propiedades de la figura y los ejes, como los títulos, las etiquetas de los ejes, los límites de los ejes, y más."
   ]
  },
  {
   "cell_type": "markdown",
   "metadata": {},
   "source": [
    "En el resto del código , se dibujan los ejes horizontal y vertical de la gráfica con las funciones axhline y axvline. Ambas líneas se dibujan en la posición 0 (el origen) y se configuran con un color negro y un grosor de 0.5.\n",
    "\n",
    "Luego, se establecen los límites de los ejes X e Y con las funciones `set_xlim` y `set_ylim`. Ambos ejes se configuran para tener un rango de -10 a 10.\n",
    "\n",
    "Después, se etiquetan los ejes X e Y con las funciones `set_xlabel` y `set_ylabel`. Estas etiquetas ayudan a identificar los ejes en la gráfica.\n",
    "\n",
    "A continuación, se etiquetan las cuatro regiones del plano cartesiano con la función text. Esta función coloca un texto en las coordenadas especificadas. En este caso, se están etiquetando las cuatro cuadrantes del plano cartesiano con los números romanos I, II, III y IV.\n",
    "\n",
    "Finalmente, se muestra la gráfica con la función show. Esta función abre una ventana con la gráfica generada."
   ]
  },
  {
   "cell_type": "markdown",
   "metadata": {},
   "source": [
    "Supon que queremos graficar la recta que une los puntos (2,3) y (-1.7).   El siguiente código realiza esta tarea"
   ]
  },
  {
   "cell_type": "code",
   "execution_count": null,
   "metadata": {},
   "outputs": [
    {
     "data": {
      "text/plain": [
       "2.8284271247461903"
      ]
     },
     "execution_count": 2,
     "metadata": {},
     "output_type": "execute_result"
    }
   ],
   "source": [
    "import matplotlib.pyplot as plt\n",
    "\n",
    "x = [2, -1] # Observa que se listan los valores de la primera coordenada en cada punto dad\n",
    "y = [3, 7] # Observa que se listan los valores de la segunda coordenada en cada punto dado\n",
    "\n",
    "plt.plot(x, y)\n",
    "plt.text(x[0], y[0], f'($x_1$,$y_1$)=({x[0]},{y[0]})', fontsize=12, ha='right')\n",
    "plt.text(x[1], y[1], f'($x_2$,$y_2$)=({x[1]},{y[1]})', fontsize=12, ha='left')\n",
    "plt.title('Gráfica de la recta que une los puntos ($x_1$,$y_1$) y ($x_2$,$y_2$)')\n",
    "plt.xlabel('x')\n",
    "plt.ylabel('y')\n",
    "plt.grid(True)\n",
    "plt.show()\n"
   ]
  },
  {
   "cell_type": "markdown",
   "metadata": {},
   "source": [
    "Como se ha visto ya en módulos anteriores, es posible usar Python para calcular propiedades o características específicas, por ejemplo, la distancia entre los puntos (2,3) y (-1,7)"
   ]
  },
  {
   "cell_type": "code",
   "execution_count": null,
   "metadata": {},
   "outputs": [
    {
     "name": "stdout",
     "output_type": "stream",
     "text": [
      "Note que 2+3*4= 14\n",
      "es diferente que (2+3)*4= 20\n"
     ]
    }
   ],
   "source": [
    "import math\n",
    "\n",
    "# Definir los puntos\n",
    "punto1 = (2, 3)\n",
    "punto2 = (-1, 7)\n",
    "\n",
    "# Calcular la distancia\n",
    "distancia = math.sqrt((punto2[0] - punto1[0])**2 + (punto2[1] - punto1[1])**2)\n",
    "\n",
    "print(\"La distancia entre los puntos es:\", distancia)"
   ]
  },
  {
   "cell_type": "markdown",
   "metadata": {},
   "source": [
    "Los puntos son representados como listas  dos elementos, donde el primer elemento es la coordenada x y el segundo elemento es la coordenada y.Las listas  en Python son tipos de datos que pueden almacenar múltiples elementos. Se puede acceder a estos elementos utilizando su índice, que es un número que indica su posición en la lista o tupla. Los índices en Python comienzan en 0, por lo que por ejemplo ,punto2[0] obtiene el primer elemento de la lista punto2.\n",
    "\n",
    "Para el cálculo de la distancia ,primero, se resta la coordenada $x$ del primer punto (punto1[0]) de la coordenada $x$ del segundo punto (punto2[0]). Luego, se eleva al cuadrado el resultado de esta resta. Se realiza la misma operación para las coordenadas $y$ de los puntos.\n",
    "\n",
    "Después, se suman estos dos resultados y finalmente se aplica la función math.sqrt para obtener la raíz cuadrada de esta suma. El resultado es la distancia entre punto1 y punto2."
   ]
  },
  {
   "cell_type": "markdown",
   "metadata": {},
   "source": [
    "Podríamos obtener  también la pendiente de la recta que une los puntos (2,3) y (-1,7) con la fórmula:  \n",
    "\n",
    "$$m = \\dfrac{y_2 - y_1}{x_2 - x_1}.$$\n"
   ]
  },
  {
   "cell_type": "code",
   "execution_count": null,
   "metadata": {},
   "outputs": [],
   "source": [
    "# Definir los puntos\n",
    "punto1 = (2, 3)\n",
    "punto2 = (-1, 7)\n",
    "\n",
    "# Calcular la pendiente\n",
    "pendiente = (punto2[1] - punto1[1]) / (punto2[0] - punto1[0])\n",
    "\n",
    "print(\"La pendiente de la recta es:\", pendiente)"
   ]
  },
  {
   "cell_type": "markdown",
   "metadata": {},
   "source": [
    "Con estas herramientas es posible observar el comportamiento de una variable con respecto a otra, y realizar cálculos específicos para obtener información relevante de los datos. La siguiente celda visualiza el comportamiento de un conjunto de puntos en el plano"
   ]
  },
  {
   "cell_type": "code",
   "execution_count": null,
   "metadata": {},
   "outputs": [],
   "source": [
    "import matplotlib.pyplot as plt\n",
    "\n",
    "# Datos de ejemplo\n",
    "x = [1, 2, 3, 4, 5]\n",
    "y = [2, 3, 5, 7, 11]\n",
    "\n",
    "# Crear la gráfica\n",
    "plt.figure(figsize=(8, 6))\n",
    "plt.plot(x, y, 'o-')  # 'o-' significa que los puntos están conectados por líneas\n",
    "\n",
    "# Etiquetas de los ejes\n",
    "plt.xlabel('Eje X')\n",
    "plt.ylabel('Eje Y')\n",
    "\n",
    "# Título de la gráfica\n",
    "plt.title('Gráfica de Y vs X')\n",
    "\n",
    "# Mostrar la gráfica\n",
    "plt.show()"
   ]
  },
  {
   "cell_type": "markdown",
   "metadata": {},
   "source": [
    "Observa ahora un ejemplo, en donde también se grafican datos en $Y$ contra datos en $X$"
   ]
  },
  {
   "cell_type": "code",
   "execution_count": null,
   "metadata": {},
   "outputs": [],
   "source": [
    "import matplotlib.pyplot as plt\n",
    "\n",
    "# Datos de ejemplo\n",
    "x = [1, 2, 2, 3, 4, 4, 4, 5]\n",
    "y = [2, 3, 4, 5, 7, 8, 9, 11]\n",
    "\n",
    "# Crear la gráfica\n",
    "plt.figure(figsize=(8, 6))\n",
    "plt.scatter(x, y)  # 'scatter' crea una gráfica de dispersión\n",
    "\n",
    "# Etiquetas de los ejes\n",
    "plt.xlabel('Eje X')\n",
    "plt.ylabel('Eje Y')\n",
    "\n",
    "# Título de la gráfica\n",
    "plt.title('Gráfica de Y vs X')\n",
    "\n",
    "# Mostrar la gráfica\n",
    "plt.show()\n"
   ]
  },
  {
   "cell_type": "markdown",
   "metadata": {},
   "source": [
    "Graficar funciones en python es muy sencillo, por ejemplo, para graficar la función \n",
    "\n",
    "$$f(x) = \\dfrac{4}{3}x-\\dfrac{1}{3},$$\n",
    "\n",
    "en el intervalo $[-10,10]$ se puede usar el siguiente código"
   ]
  },
  {
   "cell_type": "code",
   "execution_count": null,
   "metadata": {},
   "outputs": [
    {
     "name": "stdout",
     "output_type": "stream",
     "text": [
      "Note que 2+3/5= 2.6 es diferente a  1.0\n"
     ]
    }
   ],
   "source": [
    "import matplotlib.pyplot as plt\n",
    "import numpy as np\n",
    "\n",
    "# Genera los valores de x\n",
    "x = np.linspace(-10, 10, 400)\n",
    "\n",
    "# Define la ecuación de la recta\n",
    "y = (4/3)*x - (1/3)\n",
    "\n",
    "# Crea el gráfico\n",
    "plt.plot(x, y)\n",
    "\n",
    "# Establece los límites del gráfico\n",
    "plt.xlim(-10, 10)\n",
    "plt.ylim(-10, 10)\n",
    "\n",
    "# Muestra el gráfico\n",
    "plt.show()"
   ]
  },
  {
   "cell_type": "markdown",
   "metadata": {},
   "source": [
    "La función linspace está generando una secuencia de 400 números que van desde -10 hasta 10 (ambos inclusive). Los números generados están igualmente espaciados en este rango.\n",
    "\n",
    "El primer argumento de la función linspace es el valor inicial del intervalo, que en este caso es -10. El segundo argumento es el valor final del intervalo, que en este caso es 10. El tercer argumento es el número de muestras que se generarán, que en este caso es 400.\n",
    "\n",
    "El resultado de esta función se almacena en la variable x. Así que después de ejecutar esta línea de código, x será una lista  que contiene 400 números igualmente espaciados desde -10 hasta 10."
   ]
  },
  {
   "cell_type": "markdown",
   "metadata": {},
   "source": [
    "### C.2.3  Graficando funciones lineales\n",
    "\n",
    "Combinando las herramientas presentadas anteriormente, es posible graficar la recta que une dos puntos en el plano cartesiano, para cualquier par de puntos dados, es decir, dados $(x_1,y_1)$ y $(x_2,y_2)$, queremos obtener la recta que pasa por estos dos puntos con la ecuación $y = mx + b$, donde $m$ es la pendiente de la recta y $b$ es la ordenada al origen.\n"
   ]
  },
  {
   "cell_type": "code",
   "execution_count": null,
   "metadata": {},
   "outputs": [
    {
     "name": "stdout",
     "output_type": "stream",
     "text": [
      "El valor aproximado de pi es 3.141592653589793\n"
     ]
    }
   ],
   "source": [
    "import requests\n",
    "# URL del archivo\n",
    "url = \"https://raw.githubusercontent.com/abelalv/PUJ_MMAF/main/libreria4.py\"\n",
    "# Descargar el archivo\n",
    "response = requests.get(url)\n",
    "with open('libreria4.py', 'w') as file:\n",
    "    file.write(response.text)\n"
   ]
  },
  {
   "cell_type": "code",
   "execution_count": null,
   "metadata": {},
   "outputs": [
    {
     "name": "stdout",
     "output_type": "stream",
     "text": [
      "El valor aproximado de e es 2.718281828459045\n"
     ]
    }
   ],
   "source": [
    "import libreria4 as li\n",
    "# Definir los puntos\n",
    "punto1 = (2, 3)\n",
    "punto2 = (-1, 7)\n",
    "\n",
    "# Llamar a la función para graficar la recta\n",
    "li.grafica_recta(punto1, punto2)\n"
   ]
  },
  {
   "cell_type": "markdown",
   "metadata": {},
   "source": [
    "Ahora bien, si usamos la forma punto pendiente , es decir $y-y_0=m(x-x_0)$, donde $(x_0,y_0)$ es un punto en la recta, podemos  graficar la recta correspondiente a la pendiente dada $m$ y el punto dado $(x_0,y_0)$."
   ]
  },
  {
   "cell_type": "code",
   "execution_count": null,
   "metadata": {},
   "outputs": [
    {
     "name": "stdout",
     "output_type": "stream",
     "text": [
      "el área de un círculo de radio 5 es: 78.53981633974483\n"
     ]
    }
   ],
   "source": [
    "import libreria4 as li\n",
    "\n",
    "# Definir la pendiente y el punto\n",
    "pendiente = -4/3\n",
    "punto = (2, 3)\n",
    "\n",
    "# Llamar a la función para graficar la recta\n",
    "li.grafica_recta_pendiente_punto(pendiente, punto)"
   ]
  },
  {
   "cell_type": "markdown",
   "metadata": {},
   "source": [
    "Dadas dos rectas $y = m_1x + b_1$ y $y = m_2x + b_2$, es posible graficarlas en un mismo plano cartesiano, para ello se puede usar el siguiente código:"
   ]
  },
  {
   "cell_type": "code",
   "execution_count": null,
   "metadata": {},
   "outputs": [],
   "source": [
    "import libreria4 as li\n",
    "# Definir las pendientes y los puntos\n",
    "pendiente1 = 2\n",
    "punto1 = (1, 3)\n",
    "\n",
    "pendiente2 = -1/2\n",
    "\n",
    "punto2 = (2, -2)\n",
    "\n",
    "# Llamar a la función para graficar ambas rectas\n",
    "li.grafica_dos_rectas(pendiente1, punto1, pendiente2, punto2)\n"
   ]
  },
  {
   "cell_type": "markdown",
   "metadata": {},
   "source": [
    "### C.3.4 Graficando funciones cuadráticas\n",
    "\n",
    "Así como fue posible graficar funciones lineales, es posible realizar la misma tarea para el caso de funciones cuadráticas. Recuerde  que una función cuadrática tiene la forma $f(x) = ax^2 + bx + c$, donde $a$, $b$ y $c$ son constantes, $a\\neq 0$. Usaremos la función cuadrática para exhibir otra alternativa a la graficación de funciones en Python que vincula el paquete `sympy` que se ha usado en módulos anteriores"
   ]
  },
  {
   "cell_type": "code",
   "execution_count": null,
   "metadata": {},
   "outputs": [
    {
     "name": "stdout",
     "output_type": "stream",
     "text": [
      "El volumen de una esfera de radio 5 es: 523.5987755982989\n",
      "El volumen de una esfera de radio 6 es: 904.7786842338603\n"
     ]
    }
   ],
   "source": [
    "import sympy as sp\n",
    "from sympy.plotting import plot\n",
    "\n",
    "# Definir la variable\n",
    "x = sp.symbols('x')\n",
    "\n",
    "# Definir la función cuadrática, por ejemplo: f(x) = x^2 + 2x + 1\n",
    "f = x**2 + 2*x + 1\n",
    "\n",
    "# Graficar la función\n",
    "p = plot(f, show=False)\n",
    "p.show()\n",
    "#"
   ]
  },
  {
   "cell_type": "markdown",
   "metadata": {},
   "source": [
    "En este caso, la función presentada  $f(x) = x^2 + 2x + 1$ es tratada como una entidad simbólica como las que se usaron al momento de resolver ecuaciones y desigualdades con `sympy` en módulos previos. El llamado a `sympy.ploting` permite cargar herramientas de graficación de funciones simbólicas en Python"
   ]
  },
  {
   "cell_type": "code",
   "execution_count": null,
   "metadata": {},
   "outputs": [],
   "source": []
  },
  {
   "cell_type": "code",
   "execution_count": null,
   "metadata": {},
   "outputs": [
    {
     "name": "stdout",
     "output_type": "stream",
     "text": [
      "El valor aproximado de la expresión es: 2.5937424601000023\n"
     ]
    }
   ],
   "source": [
    "import numpy as np\n",
    "import matplotlib.pyplot as plt\n",
    "\n",
    "# Generar valores de x\n",
    "x = np.linspace(-10, 10, 400)\n",
    "\n",
    "# Evaluar la función cuadrática directamente\n",
    "y = x**2 + 2*x + 1\n",
    "\n",
    "# Graficar\n",
    "plt.plot(x, y, label='$f(x) = x^2 + 2x + 1$')\n",
    "plt.xlabel('x')\n",
    "plt.ylabel('f(x)')\n",
    "plt.title('Gráfica de la función cuadrática')\n",
    "plt.legend()\n",
    "plt.grid(True)\n",
    "plt.show()\n"
   ]
  },
  {
   "cell_type": "markdown",
   "metadata": {},
   "source": [
    "Como en el caso de una función lineal, en la que basta con dos puntos , o la pendiente y un punto para trazar la recta, en el caso de una función cuadrática, basta con tres puntos (siempre y cuando estos puntos no estén sobre una misma recta) o el coeficiente principal y un punto para trazar la parábola. En el siguiente código se muestra como graficar una parábola dados 3 puntos."
   ]
  },
  {
   "cell_type": "code",
   "execution_count": null,
   "metadata": {},
   "outputs": [
    {
     "name": "stdout",
     "output_type": "stream",
     "text": [
      "El valor aproximado de la expresión es: 2.7169239322355936\n"
     ]
    }
   ],
   "source": [
    "import libreria4 as li\n",
    "# Definir los tres puntos\n",
    "punto1 = (-1, 2)\n",
    "punto2 = (2, 3)\n",
    "punto3 = (3, 5)\n",
    "\n",
    "# Llamar a la función para graficar la parábola\n",
    "li.grafica_parabola(punto1, punto2, punto3)\n"
   ]
  },
  {
   "cell_type": "markdown",
   "metadata": {},
   "source": [
    "Si se quiere graficar una parábola en forma canónica (es decir, en la forma $f(x) = a(x-h)^2 + k$), se puede usar el siguiente código"
   ]
  },
  {
   "cell_type": "code",
   "execution_count": null,
   "metadata": {},
   "outputs": [
    {
     "name": "stdout",
     "output_type": "stream",
     "text": [
      "El valor aproximado de la expresión es: 2.7181459268249255\n"
     ]
    }
   ],
   "source": [
    "import libreria4 as li\n",
    "\n",
    "coef_principal = -1\n",
    "h=2\n",
    "k=3\n",
    "# Llamar a la función para graficar la parábola\n",
    "li.grafica_parabola_can(coef_principal, h, k)"
   ]
  },
  {
   "cell_type": "markdown",
   "metadata": {},
   "source": [
    "En las siguientes dos celdas puedes ajustar los valores de $a$, $h$ y $k$ para observar como cambia la gráfica de la parábola en el caso de la forma canónica y también los valores de $a$, $b$ y $c$ para observar como cambia la gráfica de la parábola en el caso de la forma general."
   ]
  },
  {
   "cell_type": "code",
   "execution_count": null,
   "metadata": {},
   "outputs": [
    {
     "name": "stdout",
     "output_type": "stream",
     "text": [
      "El valor aproximado de e es: 2.718281828459045\n"
     ]
    }
   ],
   "source": [
    "import libreria4 as li\n",
    "from IPython.display import display\n",
    "import ipywidgets as widgets \n",
    "\n",
    "# Crear un widget interactivo para la gráfica\n",
    "parabola_widget = widgets.interactive(li.update_grafica, a=li.a_slider, h=li.h_slider, k=li.k_slider)\n",
    "\n",
    "# Mostrar el widget\n",
    "display(parabola_widget)"
   ]
  },
  {
   "cell_type": "code",
   "execution_count": null,
   "metadata": {},
   "outputs": [],
   "source": [
    "import libreria4 as li\n",
    "from IPython.display import display\n",
    "import ipywidgets as widgets\n",
    "\n",
    "# Crear un widget interactivo para la gráfica\n",
    "cuadratica_widget = widgets.interactive(li.update_grafica_cuad, a=li.a_slider, b=li.b_slider, c=li.c_slider)\n",
    "\n",
    "# Mostrar el widget\n",
    "display(cuadratica_widget)"
   ]
  }
 ],
 "metadata": {
  "kernelspec": {
   "display_name": "class",
   "language": "python",
   "name": "python3"
  },
  "language_info": {
   "codemirror_mode": {
    "name": "ipython",
    "version": 3
   },
   "file_extension": ".py",
   "mimetype": "text/x-python",
   "name": "python",
   "nbconvert_exporter": "python",
   "pygments_lexer": "ipython3",
   "version": "3.12.3"
  }
 },
 "nbformat": 4,
 "nbformat_minor": 2
}

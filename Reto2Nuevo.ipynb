{
 "cells": [
  {
   "cell_type": "code",
   "execution_count": null,
   "metadata": {},
   "outputs": [],
   "source": []
  },
  {
   "cell_type": "markdown",
   "metadata": {},
   "source": [
    "# Resolución del Volumen de una Capa Cilíndrica\n",
    "\n",
    "En esta actividad aprenderás a calcular el volumen de una capa cilíndrica de concreto y explorarás cómo generalizar este problema modificando parámetros.\n",
    "\n",
    "## Fases de la Actividad\n",
    "1. Resolución manual guiada: realiza los cálculos siguiendo las instrucciones del archivo.\n",
    "2. Interacción con el código Python: modifica parámetros iniciales y responde preguntas reflexivas.\n",
    "\n",
    "## Preguntas Reflexivas\n",
    "1. ¿Cómo afecta al volumen aumentar únicamente el grosor manteniendo constantes los otros parámetros?\n",
    "2. Si duplicamos el radio promedio, ¿el volumen también se duplica? ¿Por qué?\n",
    "3. En un caso práctico, ¿qué factores podrían limitar este modelo matemático?\n",
    "4. ¿Qué sucede en un caso límite cuando el radio interior desaparece (\\( r = 0 \\))? ¿Cómo lo justificarías?"
   ]
  },
  {
   "cell_type": "code",
   "execution_count": 1,
   "metadata": {},
   "outputs": [
    {
     "name": "stdout",
     "output_type": "stream",
     "text": [
      "=== Resultados ===\n",
      "Radio exterior (R): 5 m\n",
      "Radio interior (r): 3 m\n",
      "Altura (h): 10 m\n",
      "Grosor (R - r): 2 m\n",
      "Radio promedio ((R + r) / 2): 4.00 m\n",
      "Volumen calculado: 502.65 m³\n",
      "\n",
      "=== Reflexión ===\n",
      "1. Cambia los valores de los parámetros y observa el impacto en el volumen.\n",
      "2. Intenta responder las preguntas planteadas en la celda Markdown.\n"
     ]
    }
   ],
   "source": [
    "def calcular_volumen_cilindro_hueco():\n",
    "    \"\"\"\n",
    "    Calcula el volumen de una capa cilíndrica hueca utilizando la fórmula:\n",
    "    V = 2π · radio promedio · altura · grosor.\n",
    "\n",
    "    Modifica los parámetros iniciales para explorar generalizaciones.\n",
    "    \"\"\"\n",
    "\n",
    "    # === Parámetros iniciales (Modifica solo estos valores) ===\n",
    "    radio_exterior = 5  # Radio del cilindro exterior (en metros)\n",
    "    radio_interior = 3  # Radio del cilindro interior (en metros)\n",
    "    altura = 10         # Altura del cilindro (en metros)\n",
    "\n",
    "    # --- Cálculos (No modificar esta sección) ---\n",
    "    import math\n",
    "    grosor = radio_exterior - radio_interior\n",
    "    radio_promedio = (radio_exterior + radio_interior) / 2\n",
    "    volumen = 2 * math.pi * radio_promedio * altura * grosor\n",
    "\n",
    "    # Resultados\n",
    "    print(\"=== Resultados ===\")\n",
    "    print(f\"Radio exterior (R): {radio_exterior} m\")\n",
    "    print(f\"Radio interior (r): {radio_interior} m\")\n",
    "    print(f\"Altura (h): {altura} m\")\n",
    "    print(f\"Grosor (R - r): {grosor} m\")\n",
    "    print(f\"Radio promedio ((R + r) / 2): {radio_promedio:.2f} m\")\n",
    "    print(f\"Volumen calculado: {volumen:.2f} m³\")\n",
    "\n",
    "    print(\"\\n=== Reflexión ===\")\n",
    "    print(\"1. Cambia los valores de los parámetros y observa el impacto en el volumen.\")\n",
    "    print(\"2. Intenta responder las preguntas planteadas en la celda Markdown.\")\n",
    "\n",
    "# Llamar a la función (No necesitas modificar esta parte)\n",
    "calcular_volumen_cilindro_hueco()"
   ]
  }
 ],
 "metadata": {
  "kernelspec": {
   "display_name": "base",
   "language": "python",
   "name": "python3"
  },
  "language_info": {
   "codemirror_mode": {
    "name": "ipython",
    "version": 3
   },
   "file_extension": ".py",
   "mimetype": "text/x-python",
   "name": "python",
   "nbconvert_exporter": "python",
   "pygments_lexer": "ipython3",
   "version": "3.11.0"
  }
 },
 "nbformat": 4,
 "nbformat_minor": 2
}
